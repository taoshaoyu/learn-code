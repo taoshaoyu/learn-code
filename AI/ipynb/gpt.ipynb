{
 "cells": [
  {
   "cell_type": "code",
   "execution_count": 60,
   "metadata": {},
   "outputs": [
    {
     "name": "stdout",
     "output_type": "stream",
     "text": [
      "['hello, my dog is cute. \" \\n \" i\\'m sorry, i didn\\'t mean to make']\n"
     ]
    }
   ],
   "source": [
    "from transformers import AutoConfig, AutoTokenizer, AutoModel, AutoModelWithLMHead\n",
    "\n",
    "gpt_config = AutoConfig.from_pretrained('openai-gpt')\n",
    "gpt_tokenizer = AutoTokenizer.from_pretrained('openai-gpt')\n",
    "gpt_model = AutoModel.from_pretrained('openai-gpt')\n",
    "gpt_model_with_lmhead = AutoModelWithLMHead.from_pretrained('openai-gpt')\n",
    "gpt_inputs = gpt_tokenizer(\"Hello, my dog is cute\", return_tensors=\"pt\")\n",
    "gpt_output=gpt_model_with_lmhead.generate(gpt_inputs.input_ids)\n",
    "gpt_output_text=gpt_tokenizer.batch_decode(gpt_output)\n",
    "print(gpt_output_text)"
   ]
  },
  {
   "cell_type": "code",
   "execution_count": 61,
   "metadata": {},
   "outputs": [
    {
     "name": "stderr",
     "output_type": "stream",
     "text": [
      "The attention mask and the pad token id were not set. As a consequence, you may observe unexpected behavior. Please pass your input's `attention_mask` to obtain reliable results.\n",
      "Setting `pad_token_id` to `eos_token_id`:50256 for open-end generation.\n",
      "/home/taosy/bin/anaconda3/envs/pt-311-chattts/lib/python3.11/site-packages/transformers/generation/utils.py:1168: UserWarning: Using the model-agnostic default `max_length` (=20) to control the generation length. We recommend setting `max_new_tokens` to control the maximum length of the generation.\n",
      "  warnings.warn(\n"
     ]
    },
    {
     "name": "stdout",
     "output_type": "stream",
     "text": [
      "['Hi, who are you and what business did you start?\\n\\nMy name is David and I']\n"
     ]
    }
   ],
   "source": [
    "from transformers import AutoModelForCausalLM, AutoTokenizer\n",
    "gptj_tokenizer = AutoTokenizer.from_pretrained('EleutherAI/gpt-j-6b')\n",
    "gptj_model = AutoModelForCausalLM.from_pretrained(\"EleutherAI/gpt-j-6b\")\n",
    "gptj_input=gptj_tokenizer(\"Hi, who are you\",return_tensors=\"pt\")\n",
    "gptj_output=gptj_model.generate(gptj_input.input_ids)\n",
    "gptj_output_text = gptj_tokenizer.batch_decode(gptj_output)\n",
    "print(gptj_output_text)"
   ]
  },
  {
   "cell_type": "code",
   "execution_count": 64,
   "metadata": {},
   "outputs": [
    {
     "name": "stdout",
     "output_type": "stream",
     "text": [
      "<class 'transformers.modeling_outputs.BaseModelOutput'>\n"
     ]
    }
   ],
   "source": [
    "a=gpt_model(**gpt_inputs)\n",
    "print(type(a))"
   ]
  },
  {
   "cell_type": "code",
   "execution_count": 66,
   "metadata": {},
   "outputs": [
    {
     "data": {
      "text/plain": [
       "torch.Tensor"
      ]
     },
     "execution_count": 66,
     "metadata": {},
     "output_type": "execute_result"
    }
   ],
   "source": [
    "type(gptj_output)"
   ]
  }
 ],
 "metadata": {
  "kernelspec": {
   "display_name": "pt-311-chattts",
   "language": "python",
   "name": "python3"
  },
  "language_info": {
   "codemirror_mode": {
    "name": "ipython",
    "version": 3
   },
   "file_extension": ".py",
   "mimetype": "text/x-python",
   "name": "python",
   "nbconvert_exporter": "python",
   "pygments_lexer": "ipython3",
   "version": "3.11.0"
  }
 },
 "nbformat": 4,
 "nbformat_minor": 2
}
