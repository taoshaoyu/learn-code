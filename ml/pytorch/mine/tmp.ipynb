{
 "cells": [
  {
   "cell_type": "code",
   "execution_count": 1,
   "metadata": {},
   "outputs": [
    {
     "name": "stderr",
     "output_type": "stream",
     "text": [
      "/home/taosy/repo/pytorch/vision/torchvision/io/image.py:13: UserWarning: Failed to load image Python extension: ''If you don't plan on using image functionality from `torchvision.io`, you can ignore this warning. Otherwise, there might be something wrong with your environment. Did you have `libjpeg` or `libpng` installed before building `torchvision` from source?\n",
      "  warn(\n",
      "/home/taosy/bin/miniconda3/envs/pt-39-6/lib/python3.9/site-packages/tqdm/auto.py:21: TqdmWarning: IProgress not found. Please update jupyter and ipywidgets. See https://ipywidgets.readthedocs.io/en/stable/user_install.html\n",
      "  from .autonotebook import tqdm as notebook_tqdm\n"
     ]
    }
   ],
   "source": [
    "import torch\n",
    "import intel_extension_for_pytorch as ipex\n",
    "import torchvision\n",
    "from torch import nn\n",
    "import sys\n",
    "import os"
   ]
  },
  {
   "cell_type": "code",
   "execution_count": 2,
   "metadata": {},
   "outputs": [
    {
     "name": "stdout",
     "output_type": "stream",
     "text": [
      "2.1.0a0+git6d20b39\n",
      "0.16.0a0+cab01fc\n"
     ]
    },
    {
     "name": "stdout",
     "output_type": "stream",
     "text": [
      "1176473\n"
     ]
    }
   ],
   "source": [
    "print(torch.__version__)\n",
    "print(torchvision.__version__)\n",
    "\n",
    "m=torchvision.models.resnet50()\n",
    "print(os.getpid())\n"
   ]
  },
  {
   "cell_type": "code",
   "execution_count": 32,
   "metadata": {},
   "outputs": [
    {
     "name": "stdout",
     "output_type": "stream",
     "text": [
      "<class 'torch.jit._script.RecursiveScriptModule'>\n",
      "<class 'torch.fx.graph_module.GraphModule.__new__.<locals>.GraphModuleImpl'>\n",
      "<class 'torch.fx.graph_module.GraphModule.__new__.<locals>.GraphModuleImpl'>\n",
      "<class 'torch.jit._script.RecursiveScriptModule'>\n"
     ]
    }
   ],
   "source": [
    "m=torchvision.models.resnet50()\n",
    "m=m.eval()\n",
    "inputs=torch.randn(5, 3, 224, 224)\n",
    "m1=torch.jit.trace(m,inputs)\n",
    "m1=torch.jit.freeze(m1)\n",
    "m2=torch.fx.symbolic_trace(m)\n",
    "m3=ipex.optimize(m)\n",
    "with torch.no_grad():\n",
    "    m4=torch.jit.trace(m3.eval(),inputs)\n",
    "    m4=torch.jit.freeze(m4)\n",
    "\n",
    "print(type(m1))\n",
    "print(type(m2))\n",
    "print(type(m3))\n",
    "print(type(m4))"
   ]
  },
  {
   "cell_type": "code",
   "execution_count": null,
   "metadata": {},
   "outputs": [],
   "source": [
    "print(m1.graph)"
   ]
  },
  {
   "cell_type": "code",
   "execution_count": 42,
   "metadata": {},
   "outputs": [
    {
     "name": "stdout",
     "output_type": "stream",
     "text": [
      "<class 'torch.jit._script.RecursiveScriptModule'>\n",
      "<class 'torch.fx.graph_module.GraphModule.__new__.<locals>.GraphModuleImpl'>\n",
      "<class 'torch.fx.graph_module.GraphModule.__new__.<locals>.GraphModuleImpl'>\n",
      "<class 'torch.jit._script.RecursiveScriptModule'>\n",
      "graph(%self : __torch__.___torch_mangle_7623.Model,\n",
      "      %a : Tensor):\n",
      "  %29 : bool = prim::Constant[value=1]() # /tmp/ipykernel_1176473/1623011307.py:8:0\n",
      "  %37 : int[] = prim::Constant[value=[0, 0]]()\n",
      "  %36 : int[] = prim::Constant[value=[1, 1]]()\n",
      "  %10 : bool = prim::Constant[value=0]() # /tmp/ipykernel_1176473/1623011307.py:8:0\n",
      "  %9 : Device = prim::Constant[value=\"cpu\"]() # /tmp/ipykernel_1176473/1623011307.py:8:0\n",
      "  %7 : NoneType = prim::Constant()\n",
      "  %35 : int[] = prim::Constant[value=[1, 1, 1, 1]]()\n",
      "  %2 : int = prim::Constant[value=1]() # /tmp/ipykernel_1176473/1623011307.py:8:0\n",
      "  %11 : Tensor = aten::randn(%35, %7, %7, %9, %10) # /tmp/ipykernel_1176473/1623011307.py:8:0\n",
      "  %b : Tensor = aten::_convolution(%a, %11, %7, %36, %37, %36, %10, %37, %2, %10, %10, %29, %29) # /tmp/ipykernel_1176473/1623011307.py:8:0\n",
      "  %x : Tensor = aten::mul(%b, %b) # /tmp/ipykernel_1176473/1623011307.py:9:0\n",
      "  %y : Tensor = aten::sin(%x) # /tmp/ipykernel_1176473/1623011307.py:10:0\n",
      "  %34 : Tensor = aten::mul(%y, %y) # /tmp/ipykernel_1176473/1623011307.py:11:0\n",
      "  return (%34)\n",
      "\n",
      "graph(%self : __torch__.torch.fx.graph_module.___torch_mangle_7626.GraphModule,\n",
      "      %a : Tensor):\n",
      "  %20 : bool = prim::Constant[value=1]() # <eval_with_key>.63:6:0\n",
      "  %13 : bool = prim::Constant[value=0]() # <eval_with_key>.63:6:0\n",
      "  %28 : int[] = prim::Constant[value=[0, 0]]()\n",
      "  %27 : int[] = prim::Constant[value=[1, 1]]()\n",
      "  %4 : int = prim::Constant[value=1]() # <eval_with_key>.63:6:0\n",
      "  %3 : NoneType = prim::Constant()\n",
      "  %self._tensor_constant1 : Float(1, 1, 1, 1, strides=[1, 1, 1, 1], requires_grad=0, device=cpu) = prim::Constant[value={0.225313}]()\n",
      "  %conv2d : Tensor = aten::_convolution(%a, %self._tensor_constant1, %3, %27, %28, %27, %13, %28, %4, %13, %13, %20, %20) # <eval_with_key>.63:6:0\n",
      "  %mul : Tensor = aten::mul(%conv2d, %conv2d) # <eval_with_key>.63:7:0\n",
      "  %sin : Tensor = aten::sin(%mul) # <eval_with_key>.63:8:0\n",
      "  %25 : Tensor = aten::mul(%sin, %sin) # <eval_with_key>.63:9:0\n",
      "  return (%25)\n",
      "\n"
     ]
    },
    {
     "name": "stderr",
     "output_type": "stream",
     "text": [
      "/home/taosy/repo/pytorch/pytorch-nightly-pt39-6/torch/jit/_trace.py:1093: TracerWarning: Trace had nondeterministic nodes. Did you forget call .eval() on your model? Nodes:\n",
      "\t%13 : Float(1, 1, 1, 1, strides=[1, 1, 1, 1], requires_grad=0, device=cpu) = aten::randn(%8, %9, %10, %11, %12) # /tmp/ipykernel_1176473/1623011307.py:8:0\n",
      "This may cause errors in trace checking. To disable trace checking, pass check_trace=False to torch.jit.trace()\n",
      "  _check_trace(\n",
      "/home/taosy/repo/pytorch/pytorch-nightly-pt39-6/torch/jit/_trace.py:1093: TracerWarning: Output nr 1. of the traced function does not match the corresponding output of the Python function. Detailed error:\n",
      "Tensor-likes are not close!\n",
      "\n",
      "Mismatched elements: 15339 / 16384 (93.6%)\n",
      "Greatest absolute difference: 0.9985638820799068 at index (0, 0, 74, 80) (up to 1e-05 allowed)\n",
      "Greatest relative difference: 1715.2421240867543 at index (0, 0, 36, 7) (up to 1e-05 allowed)\n",
      "  _check_trace(\n"
     ]
    }
   ],
   "source": [
    "import torch\n",
    "import intel_extension_for_pytorch as ipex\n",
    "\n",
    "class Model(torch.nn.Module):\n",
    "    def __init__(self):\n",
    "        super(Model, self).__init__()\n",
    "    def forward(self, a):\n",
    "        b = torch.conv2d(a, torch.randn(1, 1, 1, 1)) # not fusible\n",
    "        x = torch.mul(b, b)                          # fusible\n",
    "        y = torch.sin(x)                             # fusible\n",
    "        z = torch.mul(y, y)                          # fusible\n",
    "        return z\n",
    "\n",
    "m=Model().eval()\n",
    "\n",
    "inputs = torch.randn(1, 1, 128, 128)\n",
    "m1=torch.jit.trace(m,inputs)\n",
    "m1=torch.jit.freeze(m1)\n",
    "m2=torch.fx.symbolic_trace(m)\n",
    "m3=ipex.optimize(m)\n",
    "m4=torch.jit.trace(m3.eval(),inputs)\n",
    "m4=torch.jit.freeze(m4)\n",
    "\n",
    "print(type(m1))\n",
    "print(type(m2))\n",
    "print(type(m3))\n",
    "print(type(m4))\n",
    "print(m1.graph)\n",
    "print(m4.graph)"
   ]
  },
  {
   "cell_type": "code",
   "execution_count": 37,
   "metadata": {},
   "outputs": [
    {
     "name": "stdout",
     "output_type": "stream",
     "text": [
      "<class 'torch.jit.ScriptFunction'>\n"
     ]
    },
    {
     "ename": "AttributeError",
     "evalue": "'function' object has no attribute 'graph'",
     "output_type": "error",
     "traceback": [
      "\u001b[0;31m---------------------------------------------------------------------------\u001b[0m",
      "\u001b[0;31mAttributeError\u001b[0m                            Traceback (most recent call last)",
      "\u001b[1;32m/home/taosy/repo/shaoyu/learn-code/ml/pytorch/mine/tmp.ipynb Cell 6\u001b[0m line \u001b[0;36m2\n\u001b[1;32m      <a href='vscode-notebook-cell://ssh-remote%2B10.145.181.55-vm/home/taosy/repo/shaoyu/learn-code/ml/pytorch/mine/tmp.ipynb#X32sdnNjb2RlLXJlbW90ZQ%3D%3D?line=0'>1</a>\u001b[0m \u001b[39mprint\u001b[39m(\u001b[39mtype\u001b[39m(m1))\n\u001b[0;32m----> <a href='vscode-notebook-cell://ssh-remote%2B10.145.181.55-vm/home/taosy/repo/shaoyu/learn-code/ml/pytorch/mine/tmp.ipynb#X32sdnNjb2RlLXJlbW90ZQ%3D%3D?line=1'>2</a>\u001b[0m \u001b[39mprint\u001b[39m(m\u001b[39m.\u001b[39;49mgraph)\n",
      "\u001b[0;31mAttributeError\u001b[0m: 'function' object has no attribute 'graph'"
     ]
    }
   ],
   "source": [
    "print(type(m1))\n",
    "print(m.graph)\n"
   ]
  },
  {
   "cell_type": "code",
   "execution_count": 21,
   "metadata": {},
   "outputs": [
    {
     "name": "stdout",
     "output_type": "stream",
     "text": [
      "class M(torch.nn.Module):\n",
      "    def forward(self, x):\n",
      "        # No stacktrace found for following nodes\n",
      "        relu_1 = torch.nn.functional.relu(x, inplace = False);  x = None\n",
      "        add = relu_1 + 1.0;  relu_1 = None\n",
      "        return add\n",
      "        \n"
     ]
    },
    {
     "data": {
      "text/plain": [
       "'class M(torch.nn.Module):\\n    def forward(self, x):\\n        # No stacktrace found for following nodes\\n        relu_1 = torch.nn.functional.relu(x, inplace = False);  x = None\\n        add = relu_1 + 1.0;  relu_1 = None\\n        return add\\n        '"
      ]
     },
     "execution_count": 21,
     "metadata": {},
     "output_type": "execute_result"
    }
   ],
   "source": [
    "m.print_readable()"
   ]
  },
  {
   "cell_type": "code",
   "execution_count": null,
   "metadata": {},
   "outputs": [],
   "source": []
  },
  {
   "cell_type": "code",
   "execution_count": 19,
   "metadata": {},
   "outputs": [
    {
     "name": "stdout",
     "output_type": "stream",
     "text": [
      "<class 'torch.fx.graph_module.GraphModule.__new__.<locals>.GraphModuleImpl'>\n",
      "graph():\n",
      "    %x : [num_users=1] = placeholder[target=x]\n",
      "    %relu_1 : [num_users=1] = call_function[target=torch.nn.functional.relu](args = (%x,), kwargs = {inplace: False})\n",
      "    %add : [num_users=1] = call_function[target=operator.add](args = (%relu_1, 1.0), kwargs = {})\n",
      "    return add\n"
     ]
    }
   ],
   "source": [
    "print(type(m))\n",
    "print(m.graph)"
   ]
  },
  {
   "cell_type": "code",
   "execution_count": null,
   "metadata": {},
   "outputs": [],
   "source": []
  }
 ],
 "metadata": {
  "kernelspec": {
   "display_name": "pt-38-3",
   "language": "python",
   "name": "python3"
  },
  "language_info": {
   "codemirror_mode": {
    "name": "ipython",
    "version": 3
   },
   "file_extension": ".py",
   "mimetype": "text/x-python",
   "name": "python",
   "nbconvert_exporter": "python",
   "pygments_lexer": "ipython3",
   "version": "3.9.16"
  },
  "orig_nbformat": 4
 },
 "nbformat": 4,
 "nbformat_minor": 2
}
