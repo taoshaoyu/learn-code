{
 "cells": [
  {
   "cell_type": "code",
   "execution_count": 1,
   "metadata": {},
   "outputs": [],
   "source": [
    "import torch"
   ]
  },
  {
   "cell_type": "code",
   "execution_count": 37,
   "metadata": {},
   "outputs": [],
   "source": [
    "a=torch.arange(15).reshape(3,5).to(dtype=torch.float16).requires_grad_()\n",
    "b=torch.arange(15).reshape(3,5).to(dtype=torch.float16)\n",
    "c=a*a+b*b*b"
   ]
  },
  {
   "cell_type": "code",
   "execution_count": 52,
   "metadata": {},
   "outputs": [
    {
     "name": "stdout",
     "output_type": "stream",
     "text": [
      "tensor([[ 0.,  0.,  0.,  0.,  0.],\n",
      "        [30.,  0.,  0.,  0.,  0.],\n",
      "        [60., 66., 72., 78., 84.]], dtype=torch.float16)\n",
      "None\n"
     ]
    }
   ],
   "source": [
    "t=torch.ones(3,5)\n",
    "t[:2,1:]=0\n",
    "c.backward(t,retain_graph=True)\n",
    "print(a.grad)\n",
    "print(b.grad)"
   ]
  },
  {
   "cell_type": "code",
   "execution_count": 39,
   "metadata": {},
   "outputs": [
    {
     "name": "stdout",
     "output_type": "stream",
     "text": [
      "None\n",
      "None\n",
      "<AddBackward0 object at 0x7fb0ca5126d0>\n"
     ]
    }
   ],
   "source": [
    "print(a.grad_fn)\n",
    "print(b.grad_fn)\n",
    "print(c.grad_fn)"
   ]
  },
  {
   "cell_type": "code",
   "execution_count": 40,
   "metadata": {},
   "outputs": [
    {
     "name": "stdout",
     "output_type": "stream",
     "text": [
      "True\n",
      "True\n",
      "False\n"
     ]
    }
   ],
   "source": [
    "print(a.is_leaf)\n",
    "print(b.is_leaf)\n",
    "print(c.is_leaf)"
   ]
  },
  {
   "cell_type": "code",
   "execution_count": 62,
   "metadata": {},
   "outputs": [
    {
     "name": "stdout",
     "output_type": "stream",
     "text": [
      "tensor([[ 0.,  2.,  4.,  6.,  8.],\n",
      "        [10., 12., 14., 16., 18.],\n",
      "        [20., 22., 24., 26., 28.]], dtype=torch.float16)\n",
      "None\n",
      "tensor([[ 0.,  2.,  4.,  6.,  8.],\n",
      "        [10., 12., 14., 16., 18.],\n",
      "        [20., 22., 24., 26., 28.]], dtype=torch.float16)\n",
      "None\n"
     ]
    }
   ],
   "source": [
    "a=torch.arange(15).reshape(3,5).to(dtype=torch.float16).requires_grad_()\n",
    "b=torch.arange(15).reshape(3,5).to(dtype=torch.float16)\n",
    "c=a*a+b*b*b\n",
    "c.backward(torch.ones(3,5))\n",
    "print(a.grad)\n",
    "print(b.grad)\n",
    "a.grad.zero_()\n",
    "c=a*a+b*b*b\n",
    "c.backward(torch.ones(3,5))\n",
    "print(a.grad)\n",
    "print(b.grad)"
   ]
  },
  {
   "cell_type": "code",
   "execution_count": 48,
   "metadata": {},
   "outputs": [
    {
     "name": "stdout",
     "output_type": "stream",
     "text": [
      "True True\n"
     ]
    },
    {
     "ename": "AttributeError",
     "evalue": "'NoneType' object has no attribute 'requires_grad_'",
     "output_type": "error",
     "traceback": [
      "\u001b[0;31m---------------------------------------------------------------------------\u001b[0m",
      "\u001b[0;31mAttributeError\u001b[0m                            Traceback (most recent call last)",
      "Cell \u001b[0;32mIn[48], line 1\u001b[0m\n\u001b[0;32m----> 1\u001b[0m \u001b[39mprint\u001b[39;49m(a\u001b[39m.\u001b[39;49mis_leaf, a\u001b[39m.\u001b[39;49mrequires_grad)\u001b[39m.\u001b[39;49mrequires_grad_()\n\u001b[1;32m      2\u001b[0m \u001b[39mprint\u001b[39m(b\u001b[39m.\u001b[39mis_leaf, b\u001b[39m.\u001b[39mrequires_grad)\n\u001b[1;32m      3\u001b[0m \u001b[39mprint\u001b[39m(c\u001b[39m.\u001b[39mis_leaf, c\u001b[39m.\u001b[39mrequires_grad)\n",
      "\u001b[0;31mAttributeError\u001b[0m: 'NoneType' object has no attribute 'requires_grad_'"
     ]
    }
   ],
   "source": []
  },
  {
   "cell_type": "code",
   "execution_count": null,
   "metadata": {},
   "outputs": [],
   "source": []
  },
  {
   "cell_type": "code",
   "execution_count": null,
   "metadata": {},
   "outputs": [],
   "source": []
  },
  {
   "cell_type": "code",
   "execution_count": 12,
   "metadata": {},
   "outputs": [
    {
     "name": "stdout",
     "output_type": "stream",
     "text": [
      "tensor([[3., 4.],\n",
      "        [8., 9.]], dtype=torch.float16, grad_fn=<SliceBackward0>)\n"
     ]
    }
   ],
   "source": [
    "a=torch.arange(15).reshape(3,5).to(dtype=torch.float16).requires_grad_()\n",
    "print(a[:2,3:])"
   ]
  },
  {
   "cell_type": "code",
   "execution_count": null,
   "metadata": {},
   "outputs": [],
   "source": []
  },
  {
   "cell_type": "code",
   "execution_count": null,
   "metadata": {},
   "outputs": [],
   "source": []
  },
  {
   "cell_type": "code",
   "execution_count": null,
   "metadata": {},
   "outputs": [],
   "source": []
  },
  {
   "cell_type": "code",
   "execution_count": null,
   "metadata": {},
   "outputs": [],
   "source": []
  },
  {
   "cell_type": "code",
   "execution_count": null,
   "metadata": {},
   "outputs": [],
   "source": []
  }
 ],
 "metadata": {
  "kernelspec": {
   "display_name": "pt-38-3",
   "language": "python",
   "name": "python3"
  },
  "language_info": {
   "codemirror_mode": {
    "name": "ipython",
    "version": 3
   },
   "file_extension": ".py",
   "mimetype": "text/x-python",
   "name": "python",
   "nbconvert_exporter": "python",
   "pygments_lexer": "ipython3",
   "version": "3.8.16"
  },
  "orig_nbformat": 4
 },
 "nbformat": 4,
 "nbformat_minor": 2
}
