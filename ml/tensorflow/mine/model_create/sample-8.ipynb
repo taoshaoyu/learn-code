{
 "cells": [
  {
   "cell_type": "code",
   "execution_count": 3,
   "metadata": {},
   "outputs": [
    {
     "name": "stdout",
     "output_type": "stream",
     "text": [
      "INFO:tensorflow:Assets written to: my_model2/assets\n",
      "WARNING:tensorflow:No training configuration found in save file, so the model was *not* compiled. Compile it manually.\n",
      "WARNING:tensorflow:No training configuration found in save file, so the model was *not* compiled. Compile it manually.\n",
      "Original model: <__main__.CustomModel object at 0x7f8eb4722f70>\n",
      "Model Loaded with custom objects: <__main__.CustomModel object at 0x7f8eb46eb400>\n",
      "Model loaded without the custom object class: <keras.saving.saved_model.load.CustomModel object at 0x7f8ec953d610>\n"
     ]
    }
   ],
   "source": [
    "# 学习自己做模型，和看模型\n",
    "# https://www.tensorflow.org/guide/keras/save_and_serialize\n",
    "import numpy as np\n",
    "import tensorflow as tf\n",
    "from tensorflow import keras\n",
    "\n",
    "class CustomModel(keras.Model):\n",
    "    def __init__(self, hidden_units):\n",
    "        super(CustomModel, self).__init__()\n",
    "        self.hidden_units = hidden_units\n",
    "        self.dense_layers = [keras.layers.Dense(u) for u in hidden_units]\n",
    "\n",
    "    def call(self, inputs):\n",
    "        x = inputs\n",
    "        for layer in self.dense_layers:\n",
    "            x = layer(x)\n",
    "        return x\n",
    "\n",
    "    def get_config(self):\n",
    "        return {\"hidden_units\": self.hidden_units}\n",
    "\n",
    "    @classmethod\n",
    "    def from_config(cls, config):\n",
    "        return cls(**config)\n",
    "\n",
    "\n",
    "model = CustomModel([16, 16, 10])\n",
    "# Build the model by calling it\n",
    "input_arr = tf.random.uniform((1, 5))\n",
    "outputs = model(input_arr)\n",
    "model.save(\"my_model2\")\n",
    "\n",
    "# Option 1: Load with the custom_object argument.\n",
    "loaded_1 = keras.models.load_model(\n",
    "    \"my_model2\", custom_objects={\"CustomModel\": CustomModel}\n",
    ")\n",
    "\n",
    "# Option 2: Load without the CustomModel class.\n",
    "\n",
    "# Delete the custom-defined model class to ensure that the loader does not have\n",
    "# access to it.\n",
    "del CustomModel\n",
    "\n",
    "loaded_2 = keras.models.load_model(\"my_model2\")\n",
    "np.testing.assert_allclose(loaded_1(input_arr), outputs)\n",
    "np.testing.assert_allclose(loaded_2(input_arr), outputs)\n",
    "\n",
    "print(\"Original model:\", model)\n",
    "print(\"Model Loaded with custom objects:\", loaded_1)\n",
    "print(\"Model loaded without the custom object class:\", loaded_2)"
   ]
  }
 ],
 "metadata": {
  "kernelspec": {
   "display_name": "Python 3.9.13 64-bit",
   "language": "python",
   "name": "python3"
  },
  "language_info": {
   "codemirror_mode": {
    "name": "ipython",
    "version": 3
   },
   "file_extension": ".py",
   "mimetype": "text/x-python",
   "name": "python",
   "nbconvert_exporter": "python",
   "pygments_lexer": "ipython3",
   "version": "3.9.13"
  },
  "orig_nbformat": 4,
  "vscode": {
   "interpreter": {
    "hash": "f9f85f796d01129d0dd105a088854619f454435301f6ffec2fea96ecbd9be4ac"
   }
  }
 },
 "nbformat": 4,
 "nbformat_minor": 2
}
