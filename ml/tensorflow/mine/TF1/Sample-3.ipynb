{
 "cells": [
  {
   "cell_type": "code",
   "execution_count": 50,
   "metadata": {},
   "outputs": [],
   "source": [
    "# TF1 + Mnist\n",
    "# 一个老式的Mnist的范例，主要工作在于 函数 get_batch() 的实现\n",
    "# https://juejin.cn/post/7086260725072527390#heading-0\n",
    "\n",
    "import tensorflow.compat.v1 as tf\n",
    "import numpy as np\n",
    "\n",
    "tf.disable_v2_behavior()\n",
    "mnist = tf.keras.datasets.mnist"
   ]
  },
  {
   "cell_type": "code",
   "execution_count": 51,
   "metadata": {},
   "outputs": [],
   "source": [
    "(x_train, y_train), (x_test, y_test)=mnist.load_data()\n",
    "n_batchs = len(x_train) "
   ]
  },
  {
   "cell_type": "code",
   "execution_count": 52,
   "metadata": {},
   "outputs": [],
   "source": [
    "x = tf.placeholder(dtype=tf.float32, shape=[None, 784], name='x') # 因为每张图片数据是 28*28=784 维的\n",
    "y = tf.placeholder(dtype=tf.float32, shape=[None, 10], name='y')  # 因为一共有 10 种类别的图片"
   ]
  },
  {
   "cell_type": "code",
   "execution_count": 53,
   "metadata": {},
   "outputs": [],
   "source": [
    "w = tf.Variable(tf.ones(shape=[784, 10]))\n",
    "b = tf.Variable(tf.zeros(shape=[10]))\n",
    "predict = tf.nn.softmax(tf.matmul(x, w) + b)\n",
    "\n",
    "loss = tf.reduce_mean(tf.nn.softmax_cross_entropy_with_logits(logits=predict, labels=y))\n",
    "opt = tf.train.GradientDescentOptimizer(0.1).minimize(loss)\n",
    "init = tf.global_variables_initializer()\n",
    "\n",
    "correct = tf.equal(tf.argmax(predict,1), tf.argmax(y,1))\n",
    "accuracy = tf.reduce_mean(tf.cast(correct, tf.float32)) # 计算准确率"
   ]
  },
  {
   "cell_type": "code",
   "execution_count": 63,
   "metadata": {},
   "outputs": [],
   "source": [
    "def get_batch(x_data, y_data, batch_size):\n",
    "    idxs = np.random.randint(0, len(y_data), batch_size)\n",
    "    y_ret_data=[]\n",
    "    for i in y_data[idxs]:\n",
    "        tmp=np.zeros(10)\n",
    "        tmp[i]=1\n",
    "        y_ret_data.append(tmp)\n",
    "    return x_data[idxs,:,:].reshape(batch_size,28*28), np.array(y_ret_data)"
   ]
  },
  {
   "cell_type": "code",
   "execution_count": 69,
   "metadata": {},
   "outputs": [
    {
     "name": "stdout",
     "output_type": "stream",
     "text": [
      "epoch:0, loss:1.800780, acc:0.656250\n",
      "when epoch-6 early stop train\n"
     ]
    }
   ],
   "source": [
    "with tf.Session() as sess:\n",
    "    sess.run(init)\n",
    "    total_batch = 0\n",
    "    last_batch = 0\n",
    "    best = 0\n",
    "    for epoch in range(100):\n",
    "        for _ in range(n_batchs):\n",
    "            # xx,yy = mnist.train.next_batch(batch_size)\n",
    "            xx, yy = get_batch(x_train, y_train, batch_size=64)\n",
    "            sess.run(opt, feed_dict={x:xx, y:yy})\n",
    "        xx_test,yy_test=get_batch(x_test, y_test, batch_size=64)\n",
    "#        loss_value, acc = sess.run([loss, accuracy], feed_dict={x:mnist.test.images, y:mnist.test.labels})\n",
    "        loss_value, acc = sess.run([loss, accuracy], feed_dict={x:xx_test, y:yy_test})\n",
    "        # 始终打印最好的准确率信息\n",
    "        if acc > best:\n",
    "            best = acc\n",
    "            last_batch  = total_batch\n",
    "            print('epoch:%d, loss:%f, acc:%f' % (epoch, loss_value, acc))\n",
    "        if total_batch - last_batch > 5: # 训练早停条件\n",
    "            print('when epoch-%d early stop train'%epoch)\n",
    "            break\n",
    "        total_batch += 1"
   ]
  }
 ],
 "metadata": {
  "kernelspec": {
   "display_name": "Python 3.9.13 64-bit",
   "language": "python",
   "name": "python3"
  },
  "language_info": {
   "name": "python",
   "version": "3.9.13"
  },
  "orig_nbformat": 4,
  "vscode": {
   "interpreter": {
    "hash": "f9f85f796d01129d0dd105a088854619f454435301f6ffec2fea96ecbd9be4ac"
   }
  }
 },
 "nbformat": 4,
 "nbformat_minor": 2
}
