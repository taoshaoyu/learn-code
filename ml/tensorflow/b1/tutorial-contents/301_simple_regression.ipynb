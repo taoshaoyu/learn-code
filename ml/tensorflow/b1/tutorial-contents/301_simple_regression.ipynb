{
 "cells": [
  {
   "cell_type": "code",
   "execution_count": null,
   "metadata": {},
   "outputs": [],
   "source": [
    "\"\"\"\n",
    "\n",
    "\"\"\"\n",
    "import tensorflow.compat.v1 as tf\n",
    "import matplotlib.pyplot as plt\n",
    "import numpy as np\n",
    "\n",
    "tf.disable_eager_execution()\n",
    "\n",
    "tf.set_random_seed(1)\n",
    "np.random.seed(1)\n",
    "\n"
   ]
  },
  {
   "cell_type": "code",
   "execution_count": 15,
   "metadata": {},
   "outputs": [
    {
     "name": "stdout",
     "output_type": "stream",
     "text": [
      "(100, 10)\n",
      "(100, 1)\n"
     ]
    },
    {
     "name": "stderr",
     "output_type": "stream",
     "text": [
      "/tmp/ipykernel_299237/361953744.py:9: UserWarning: `tf.layers.dense` is deprecated and will be removed in a future version. Please use `tf.keras.layers.Dense` instead.\n",
      "  l1 = tf.layers.dense(tf_x, 10, tf.nn.relu)          # hidden layer\n",
      "/tmp/ipykernel_299237/361953744.py:10: UserWarning: `tf.layers.dense` is deprecated and will be removed in a future version. Please use `tf.keras.layers.Dense` instead.\n",
      "  output = tf.layers.dense(l1, 1)                     # output layer\n"
     ]
    }
   ],
   "source": [
    "# fake data\n",
    "x = np.linspace(-1, 1, 100)[:, np.newaxis]          # shape (100, 1)\n",
    "noise = np.random.normal(0, 0.1, size=x.shape)\n",
    "y = np.power(x, 2) + noise                          # shape (100, 1) + some noise\n",
    "tf_x = tf.placeholder(tf.float32, x.shape)     # input x\n",
    "tf_y = tf.placeholder(tf.float32, y.shape)     # input y\n",
    "\n",
    "# neural network layers\n",
    "l1 = tf.layers.dense(tf_x, 10, tf.nn.relu)          # hidden layer\n",
    "output = tf.layers.dense(l1, 1)                     # output layer\n",
    "\n",
    "print(l1.shape)\n",
    "print(output.shape)\n"
   ]
  },
  {
   "cell_type": "code",
   "execution_count": null,
   "metadata": {},
   "outputs": [],
   "source": [
    "# plot data\n",
    "plt.scatter(x, y)\n",
    "plt.show()\n",
    "\n",
    "tf_x = tf.placeholder(tf.float32, x.shape)     # input x\n",
    "tf_y = tf.placeholder(tf.float32, y.shape)     # input y\n",
    "\n",
    "# neural network layers\n",
    "l1 = tf.layers.dense(tf_x, 10, tf.nn.relu)          # hidden layer\n",
    "output = tf.layers.dense(l1, 1)                     # output layer\n",
    "\n",
    "loss = tf.losses.mean_squared_error(tf_y, output)   # compute cost\n",
    "optimizer = tf.train.GradientDescentOptimizer(learning_rate=0.5)\n",
    "train_op = optimizer.minimize(loss)\n",
    "\n",
    "sess = tf.Session()                                 # control training and others\n",
    "sess.run(tf.global_variables_initializer())         # initialize var in graph\n",
    "\n",
    "plt.ion()   # something about plotting\n",
    "\n",
    "for step in range(100):\n",
    "    # train and net output\n",
    "    _, l, pred = sess.run([train_op, loss, output], {tf_x: x, tf_y: y})\n",
    "    if step % 5 == 0:\n",
    "        # plot and show learning process\n",
    "        plt.cla()\n",
    "        plt.scatter(x, y)\n",
    "        plt.plot(x, pred, 'r-', lw=5)\n",
    "        plt.text(0.5, 0, 'Loss=%.4f' % l, fontdict={'size': 20, 'color': 'red'})\n",
    "        plt.pause(0.1)\n",
    "\n",
    "plt.ioff()\n",
    "plt.show()"
   ]
  },
  {
   "cell_type": "code",
   "execution_count": 11,
   "metadata": {},
   "outputs": [
    {
     "name": "stdout",
     "output_type": "stream",
     "text": [
      "\u001b[0;31mSignature:\u001b[0m\n",
      "\u001b[0mtf\u001b[0m\u001b[0;34m.\u001b[0m\u001b[0mlayers\u001b[0m\u001b[0;34m.\u001b[0m\u001b[0mdense\u001b[0m\u001b[0;34m(\u001b[0m\u001b[0;34m\u001b[0m\n",
      "\u001b[0;34m\u001b[0m    \u001b[0minputs\u001b[0m\u001b[0;34m,\u001b[0m\u001b[0;34m\u001b[0m\n",
      "\u001b[0;34m\u001b[0m    \u001b[0munits\u001b[0m\u001b[0;34m,\u001b[0m\u001b[0;34m\u001b[0m\n",
      "\u001b[0;34m\u001b[0m    \u001b[0mactivation\u001b[0m\u001b[0;34m=\u001b[0m\u001b[0;32mNone\u001b[0m\u001b[0;34m,\u001b[0m\u001b[0;34m\u001b[0m\n",
      "\u001b[0;34m\u001b[0m    \u001b[0muse_bias\u001b[0m\u001b[0;34m=\u001b[0m\u001b[0;32mTrue\u001b[0m\u001b[0;34m,\u001b[0m\u001b[0;34m\u001b[0m\n",
      "\u001b[0;34m\u001b[0m    \u001b[0mkernel_initializer\u001b[0m\u001b[0;34m=\u001b[0m\u001b[0;32mNone\u001b[0m\u001b[0;34m,\u001b[0m\u001b[0;34m\u001b[0m\n",
      "\u001b[0;34m\u001b[0m    \u001b[0mbias_initializer\u001b[0m\u001b[0;34m=\u001b[0m\u001b[0;34m<\u001b[0m\u001b[0mtensorflow\u001b[0m\u001b[0;34m.\u001b[0m\u001b[0mpython\u001b[0m\u001b[0;34m.\u001b[0m\u001b[0mops\u001b[0m\u001b[0;34m.\u001b[0m\u001b[0minit_ops\u001b[0m\u001b[0;34m.\u001b[0m\u001b[0mZeros\u001b[0m \u001b[0mobject\u001b[0m \u001b[0mat\u001b[0m \u001b[0;36m0x7f4e4818d370\u001b[0m\u001b[0;34m>\u001b[0m\u001b[0;34m,\u001b[0m\u001b[0;34m\u001b[0m\n",
      "\u001b[0;34m\u001b[0m    \u001b[0mkernel_regularizer\u001b[0m\u001b[0;34m=\u001b[0m\u001b[0;32mNone\u001b[0m\u001b[0;34m,\u001b[0m\u001b[0;34m\u001b[0m\n",
      "\u001b[0;34m\u001b[0m    \u001b[0mbias_regularizer\u001b[0m\u001b[0;34m=\u001b[0m\u001b[0;32mNone\u001b[0m\u001b[0;34m,\u001b[0m\u001b[0;34m\u001b[0m\n",
      "\u001b[0;34m\u001b[0m    \u001b[0mactivity_regularizer\u001b[0m\u001b[0;34m=\u001b[0m\u001b[0;32mNone\u001b[0m\u001b[0;34m,\u001b[0m\u001b[0;34m\u001b[0m\n",
      "\u001b[0;34m\u001b[0m    \u001b[0mkernel_constraint\u001b[0m\u001b[0;34m=\u001b[0m\u001b[0;32mNone\u001b[0m\u001b[0;34m,\u001b[0m\u001b[0;34m\u001b[0m\n",
      "\u001b[0;34m\u001b[0m    \u001b[0mbias_constraint\u001b[0m\u001b[0;34m=\u001b[0m\u001b[0;32mNone\u001b[0m\u001b[0;34m,\u001b[0m\u001b[0;34m\u001b[0m\n",
      "\u001b[0;34m\u001b[0m    \u001b[0mtrainable\u001b[0m\u001b[0;34m=\u001b[0m\u001b[0;32mTrue\u001b[0m\u001b[0;34m,\u001b[0m\u001b[0;34m\u001b[0m\n",
      "\u001b[0;34m\u001b[0m    \u001b[0mname\u001b[0m\u001b[0;34m=\u001b[0m\u001b[0;32mNone\u001b[0m\u001b[0;34m,\u001b[0m\u001b[0;34m\u001b[0m\n",
      "\u001b[0;34m\u001b[0m    \u001b[0mreuse\u001b[0m\u001b[0;34m=\u001b[0m\u001b[0;32mNone\u001b[0m\u001b[0;34m,\u001b[0m\u001b[0;34m\u001b[0m\n",
      "\u001b[0;34m\u001b[0m\u001b[0;34m)\u001b[0m\u001b[0;34m\u001b[0m\u001b[0;34m\u001b[0m\u001b[0m\n",
      "\u001b[0;31mDocstring:\u001b[0m\n",
      "Functional interface for the densely-connected layer.\n",
      "\n",
      "This layer implements the operation:\n",
      "`outputs = activation(inputs * kernel + bias)`\n",
      "where `activation` is the activation function passed as the `activation`\n",
      "argument (if not `None`), `kernel` is a weights matrix created by the layer,\n",
      "and `bias` is a bias vector created by the layer\n",
      "(only if `use_bias` is `True`).\n",
      "\n",
      "Args:\n",
      "  inputs: Tensor input.\n",
      "  units: Integer or Long, dimensionality of the output space.\n",
      "  activation: Activation function (callable). Set it to None to maintain a\n",
      "    linear activation.\n",
      "  use_bias: Boolean, whether the layer uses a bias.\n",
      "  kernel_initializer: Initializer function for the weight matrix.\n",
      "    If `None` (default), weights are initialized using the default\n",
      "    initializer used by `tf.compat.v1.get_variable`.\n",
      "  bias_initializer: Initializer function for the bias.\n",
      "  kernel_regularizer: Regularizer function for the weight matrix.\n",
      "  bias_regularizer: Regularizer function for the bias.\n",
      "  activity_regularizer: Regularizer function for the output.\n",
      "  kernel_constraint: An optional projection function to be applied to the\n",
      "      kernel after being updated by an `Optimizer` (e.g. used to implement\n",
      "      norm constraints or value constraints for layer weights). The function\n",
      "      must take as input the unprojected variable and must return the\n",
      "      projected variable (which must have the same shape). Constraints are\n",
      "      not safe to use when doing asynchronous distributed training.\n",
      "  bias_constraint: An optional projection function to be applied to the\n",
      "      bias after being updated by an `Optimizer`.\n",
      "  trainable: Boolean, if `True` also add variables to the graph collection\n",
      "    `GraphKeys.TRAINABLE_VARIABLES` (see `tf.Variable`).\n",
      "  name: String, the name of the layer.\n",
      "  reuse: Boolean, whether to reuse the weights of a previous layer\n",
      "    by the same name.\n",
      "\n",
      "Returns:\n",
      "  Output tensor the same shape as `inputs` except the last dimension is of\n",
      "  size `units`.\n",
      "\n",
      "Raises:\n",
      "  ValueError: if eager execution is enabled.\n",
      "\n",
      "\n",
      "@compatibility(TF2)\n",
      "This API is a legacy api that is only compatible with eager execution and\n",
      "`tf.function` if you combine it with\n",
      "`tf.compat.v1.keras.utils.track_tf1_style_variables`\n",
      "\n",
      "Please refer to [tf.layers model mapping section of the migration guide]\n",
      "(https://www.tensorflow.org/guide/migrate/model_mapping)\n",
      "to learn how to use your TensorFlow v1 model in TF2 with Keras.\n",
      "\n",
      "The corresponding TensorFlow v2 layer is `tf.keras.layers.Dense`.\n",
      "\n",
      "\n",
      "#### Structural Mapping to Native TF2\n",
      "\n",
      "None of the supported arguments have changed name.\n",
      "\n",
      "Before:\n",
      "\n",
      "```python\n",
      " y = tf.compat.v1.layers.dense(x, units=3)\n",
      "```\n",
      "\n",
      "After:\n",
      "\n",
      "To migrate code using TF1 functional layers use the [Keras Functional API]\n",
      "(https://www.tensorflow.org/guide/keras/functional):\n",
      "\n",
      "```python\n",
      " x = tf.keras.Input((28,))\n",
      " y = tf.keras.layers.Dense(units=3)(x)\n",
      " model = tf.keras.Model(x, y)\n",
      "```\n",
      "@end_compatibility\n",
      "\u001b[0;31mFile:\u001b[0m      ~/.local/lib/python3.9/site-packages/keras/legacy_tf_layers/core.py\n",
      "\u001b[0;31mType:\u001b[0m      function\n"
     ]
    }
   ],
   "source": [
    "tf.layers.dense?"
   ]
  },
  {
   "cell_type": "code",
   "execution_count": null,
   "metadata": {},
   "outputs": [],
   "source": []
  },
  {
   "cell_type": "code",
   "execution_count": null,
   "metadata": {},
   "outputs": [],
   "source": []
  },
  {
   "cell_type": "code",
   "execution_count": null,
   "metadata": {},
   "outputs": [],
   "source": []
  },
  {
   "cell_type": "code",
   "execution_count": null,
   "metadata": {},
   "outputs": [],
   "source": [
    "tf.train.GradientDescentOptimizer"
   ]
  }
 ],
 "metadata": {
  "kernelspec": {
   "display_name": "Python 3 (ipykernel)",
   "language": "python",
   "name": "python3"
  },
  "language_info": {
   "codemirror_mode": {
    "name": "ipython",
    "version": 3
   },
   "file_extension": ".py",
   "mimetype": "text/x-python",
   "name": "python",
   "nbconvert_exporter": "python",
   "pygments_lexer": "ipython3",
   "version": "3.9.13"
  },
  "orig_nbformat": 4
 },
 "nbformat": 4,
 "nbformat_minor": 2
}
