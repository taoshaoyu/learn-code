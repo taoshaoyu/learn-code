{
 "cells": [
  {
   "cell_type": "code",
   "execution_count": null,
   "metadata": {},
   "outputs": [],
   "source": [
    "\"\"\"\n",
    "demo placehold\n",
    "\"\"\"\n",
    "import tensorflow.compat.v1 as tf\n",
    "\n",
    "tf.compat.v1.disable_eager_execution()\n",
    "\n",
    "x1 = tf.placeholder(dtype=tf.float32, shape=None)\n",
    "y1 = tf.placeholder(dtype=tf.float32, shape=None)\n",
    "z1 = x1 + y1\n",
    "\n",
    "x2 = tf.placeholder(dtype=tf.float32, shape=[2, 1])\n",
    "y2 = tf.placeholder(dtype=tf.float32, shape=[1, 2])\n",
    "z2 = tf.matmul(x2, y2)\n",
    "\n",
    "with tf.Session() as sess:\n",
    "    # when only one operation to run\n",
    "    z1_value = sess.run(z1, feed_dict={x1: 2, y1: 2})\n",
    "\n",
    "    # when run multiple operations\n",
    "    z1_value, z2_value = sess.run(\n",
    "        [z1, z2],       # run them together\n",
    "        feed_dict={\n",
    "            x1: 2, y1: 2,\n",
    "            x2: [[2], [2]], y2: [[3, 3]]\n",
    "        })\n",
    "    print(z1_value)\n",
    "    print(z2_value)"
   ]
  }
 ],
 "metadata": {
  "kernelspec": {
   "display_name": "Python 3 (ipykernel)",
   "language": "python",
   "name": "python3"
  },
  "orig_nbformat": 4
 },
 "nbformat": 4,
 "nbformat_minor": 2
}
