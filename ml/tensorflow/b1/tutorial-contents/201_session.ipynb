{
 "cells": [
  {
   "cell_type": "code",
   "execution_count": 9,
   "metadata": {},
   "outputs": [],
   "source": [
    "import tensorflow.compat.v1 as tf\n",
    "tf.disable_v2_behavior()"
   ]
  },
  {
   "cell_type": "code",
   "execution_count": null,
   "metadata": {},
   "outputs": [],
   "source": [
    "# 定义两个const tensor\n",
    "m1 = tf.constant([[2, 2]])\n",
    "m2 = tf.constant([[3], [3]])\n",
    "dot_operation = tf.matmul(m1, m2)"
   ]
  },
  {
   "cell_type": "code",
   "execution_count": null,
   "metadata": {},
   "outputs": [],
   "source": [
    "# create a session and run \n",
    "with tf.compat.v1.Session() as sess:\n",
    "    result_ = sess.run(dot_operation)\n",
    "    print(result_)"
   ]
  },
  {
   "cell_type": "code",
   "execution_count": null,
   "metadata": {},
   "outputs": [],
   "source": [
    "import tensorflow.compat.v1 as tf\n",
    "tf.disable_v2_behavior()\n",
    "\n",
    "# 定义两个const tensor\n",
    "m1 = tf.constant([[2, 2]])\n",
    "m2 = tf.constant([[3], [3]])\n",
    "dot_operation = tf.matmul(m1, m2)\n",
    "\n",
    "# create a session and run \n",
    "with tf.compat.v1.Session() as sess:\n",
    "    result_ = sess.run(dot_operation)\n",
    "    print(result_)"
   ]
  }
 ],
 "metadata": {
  "kernelspec": {
   "display_name": "Python 3 (ipykernel)",
   "language": "python",
   "name": "python3"
  },
  "orig_nbformat": 4
 },
 "nbformat": 4,
 "nbformat_minor": 2
}
