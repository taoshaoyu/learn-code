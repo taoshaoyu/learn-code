{
 "cells": [
  {
   "cell_type": "markdown",
   "metadata": {},
   "source": [
    "# TensorFlow 那些事儿之DL中的 HELLO WORLD\n",
    "\n",
    "\n",
    "- 基于MNIST数据集，运用TensorFlow中 **tf.estimator** 预制的 **tf.estimator.DNNClassifier** 搭建一个简单的多层神经网络，实现模型的训练，验证和测试\n",
    "\n",
    "- TensorBoard的简单使用\n"
   ]
  },
  {
   "cell_type": "markdown",
   "metadata": {},
   "source": [
    "## 看看MNIST数据长什么样子的\n",
    "\n",
    "![MNIST Dataset](http://neuralnetworksanddeeplearning.com/images/mnist_100_digits.png)\n",
    "\n",
    "More info: http://yann.lecun.com/exdb/mnist/"
   ]
  },
  {
   "cell_type": "markdown",
   "metadata": {},
   "source": [
    "### 导入各个库"
   ]
  },
  {
   "cell_type": "code",
   "execution_count": 1,
   "metadata": {},
   "outputs": [
    {
     "data": {
      "text/plain": [
       "'1.8.0'"
      ]
     },
     "execution_count": 1,
     "metadata": {},
     "output_type": "execute_result"
    }
   ],
   "source": [
    "%matplotlib inline\n",
    "import tensorflow as tf\n",
    "import matplotlib.pyplot as plt\n",
    "import numpy as np\n",
    "import pandas as pd\n",
    "import multiprocessing\n",
    "\n",
    "\n",
    "from tensorflow import data\n",
    "from tensorflow.python.feature_column import feature_column\n",
    "\n",
    "tf.__version__"
   ]
  },
  {
   "cell_type": "markdown",
   "metadata": {},
   "source": [
    "### MNIST数据集导入\n",
    "- MNIST数据集包含70000张图像和对应的标签（图像的分类）。数据集被划为3个子集：训练集，验证集和测试集。\n",
    "\n",
    "- 定义数据集和模型相关的基本参数"
   ]
  },
  {
   "cell_type": "code",
   "execution_count": 2,
   "metadata": {},
   "outputs": [],
   "source": [
    "TRAIN_DATA_FILES_PATTERN = 'data_csv/mnist_train.csv'\n",
    "VAL_DATA_FILES_PATTERN = 'data_csv/mnist_val.csv'\n",
    "TEST_DATA_FILES_PATTERN = 'data_csv/mnist_test.csv'\n",
    "\n",
    "MULTI_THREADING = True\n",
    "RESUME_TRAINING = False\n",
    "\n",
    "NUM_CLASS = 10\n",
    "IMG_SHAPE = [28,28]\n",
    "\n",
    "IMG_WIDTH = 28\n",
    "IMG_HEIGHT = 28\n",
    "BATCH_SIZE = 128"
   ]
  },
  {
   "cell_type": "code",
   "execution_count": 3,
   "metadata": {},
   "outputs": [
    {
     "name": "stdout",
     "output_type": "stream",
     "text": [
      "test_data (10000, 784)\n",
      "test_label (10000, 1)\n",
      "val_data (5000, 784)\n",
      "val_label (5000, 1)\n",
      "train_data (55000, 784)\n",
      "train_label (55000, 1)\n"
     ]
    }
   ],
   "source": [
    "# train_data = pd.read_csv(TRAIN_DATA_FILES_PATTERN)\n",
    "# train_data = pd.read_csv(TRAIN_DATA_FILES_PATTERN, header=None, names=HEADER )\n",
    "train_data = pd.read_csv(TRAIN_DATA_FILES_PATTERN, header=None)\n",
    "test_data = pd.read_csv(TEST_DATA_FILES_PATTERN, header=None)\n",
    "val_data = pd.read_csv(VAL_DATA_FILES_PATTERN, header=None)\n",
    "\n",
    "train_values = train_data.values\n",
    "train_data = train_values[:,1:]\n",
    "train_label = train_values[:,0:1]\n",
    "\n",
    "val_values = val_data.values\n",
    "val_data = val_values[:,1:]\n",
    "val_label = val_values[:,0:1]\n",
    "\n",
    "test_values = test_data.values\n",
    "test_data = test_values[:,1:]\n",
    "test_label = test_values[:,0:1]\n",
    "\n",
    "print('test_data',np.shape(test_data))\n",
    "print('test_label',np.shape(test_label))\n",
    "\n",
    "print('val_data',np.shape(val_data))\n",
    "print('val_label',np.shape(val_label))\n",
    "\n",
    "print('train_data',np.shape(train_data))\n",
    "print('train_label',np.shape(train_label))\n",
    "\n",
    "# train_data.head(10)\n",
    "# test_data.head(10)"
   ]
  },
  {
   "cell_type": "markdown",
   "metadata": {},
   "source": [
    "### 用来绘制图片的辅助函数"
   ]
  },
  {
   "cell_type": "code",
   "execution_count": 6,
   "metadata": {},
   "outputs": [],
   "source": [
    "img_shape = IMG_SHAPE\n",
    "\n",
    "def plot_images(images, cls_true, cls_pred=None):\n",
    "    assert len(images) == len(cls_true) == 9\n",
    "    \n",
    "    # Create figure with 3x3 sub-plots.\n",
    "    fig, axes = plt.subplots(3, 3)\n",
    "    fig.subplots_adjust(hspace=0.3, wspace=0.3)\n",
    "\n",
    "    for i, ax in enumerate(axes.flat):\n",
    "        # Plot image.\n",
    "        ax.imshow(images[i].reshape(img_shape), cmap='binary')\n",
    "\n",
    "        # Show true and predicted classes.\n",
    "        if cls_pred is None:\n",
    "            xlabel = \"True: {0}\".format(cls_true[i])\n",
    "        else:\n",
    "            xlabel = \"True: {0}, Pred: {1}\".format(cls_true[i], cls_pred[i])\n",
    "\n",
    "        # Show the classes as the label on the x-axis.\n",
    "        ax.set_xlabel(xlabel)\n",
    "        \n",
    "        # Remove ticks from the plot.\n",
    "        ax.set_xticks([])\n",
    "        ax.set_yticks([])\n",
    "    \n",
    "    # Ensure the plot is shown correctly with multiple plots\n",
    "    # in a single Notebook cell.\n",
    "    plt.show()"
   ]
  },
  {
   "cell_type": "markdown",
   "metadata": {},
   "source": [
    "### 直观画出来看看"
   ]
  },
  {
   "cell_type": "code",
   "execution_count": 7,
   "metadata": {},
   "outputs": [
    {
     "data": {
      "image/png": "[encoded data removed]",
      "text/plain": [
       "<Figure size 432x288 with 9 Axes>"
      ]
     },
     "metadata": {},
     "output_type": "display_data"
    }
   ],
   "source": [
    "# Get the first images from the test-set.\n",
    "images = test_data[0:9]\n",
    "\n",
    "# Get the true classes for those images.\n",
    "cls_true = test_label[0:9]\n",
    "\n",
    "# Plot the images and labels using our helper-function above.\n",
    "plot_images(images=images, cls_true=cls_true)"
   ]
  },
  {
   "cell_type": "markdown",
   "metadata": {},
   "source": [
    "##  重头戏之怎么用 tf.estimator.DNNClassifier \n",
    "\n",
    "- [官网API解释](https://tensorflow.google.cn/api_docs/python/tf/estimator/DNNClassifier)\n",
    "\n",
    "- 看看都有哪些参数\n",
    "\n",
    "```python\n",
    "__init__(\n",
    "    hidden_units,\n",
    "    feature_columns,\n",
    "    model_dir=None,\n",
    "    n_classes=2,\n",
    "    weight_column=None,\n",
    "    label_vocabulary=None,\n",
    "    optimizer='Adagrad',\n",
    "    activation_fn=tf.nn.relu,\n",
    "    dropout=None,\n",
    "    input_layer_partitioner=None,\n",
    "    config=None,\n",
    "    warm_start_from=None,\n",
    "    loss_reduction=losses.Reduction.SUM,\n",
    "    batch_norm=False\n",
    ")\n",
    "```\n",
    "- 本例中，主要用了 **tf.estimator.DNNClassifier** 中的 `hidden_units`,`feature_columns`,`model_dir`,`activation_fn`,`n_classes`"
   ]
  },
  {
   "cell_type": "markdown",
   "metadata": {},
   "source": [
    "### 先看看input_fn之创建输入函数\n",
    "\n",
    "```python\n",
    "tf.estimator.inputs.numpy_input_fn(\n",
    "    x,\n",
    "    y=None,\n",
    "    batch_size=128,\n",
    "    num_epochs=1,\n",
    "    shuffle=None,\n",
    "    queue_capacity=1000,\n",
    "    num_threads=1\n",
    ")\n",
    "```\n",
    "\n",
    "Returns input function that would feed dict of numpy arrays into the model."
   ]
  },
  {
   "cell_type": "code",
   "execution_count": 8,
   "metadata": {},
   "outputs": [],
   "source": [
    "batch_size = BATCH_SIZE\n",
    "# Define the input function for training\n",
    "train_input_fn = tf.estimator.inputs.numpy_input_fn(\n",
    "    x = {'images': np.array(train_data)},\n",
    "    y = np.array(train_label),\n",
    "    batch_size=batch_size,\n",
    "    num_epochs=None, \n",
    "    shuffle=True)"
   ]
  },
  {
   "cell_type": "code",
   "execution_count": 16,
   "metadata": {},
   "outputs": [],
   "source": [
    "# Evaluate the Model\n",
    "# Define the input function for evaluating\n",
    "eval_input_fn = tf.estimator.inputs.numpy_input_fn(\n",
    "    x = {'images': np.array(test_data)},\n",
    "    y = np.array(test_label),\n",
    "    batch_size=batch_size, \n",
    "    shuffle=False)"
   ]
  },
  {
   "cell_type": "code",
   "execution_count": 10,
   "metadata": {},
   "outputs": [
    {
     "name": "stdout",
     "output_type": "stream",
     "text": [
      "some images (9, 784)\n"
     ]
    }
   ],
   "source": [
    "# Predict some images\n",
    "some_images = test_data[0:9]\n",
    "print('some images',np.shape(some_images))\n",
    "\n",
    "# Define the input function for predicting\n",
    "test_input_fn = tf.estimator.inputs.numpy_input_fn(\n",
    "    x={'images': some_images},\n",
    "    num_epochs=1,\n",
    "    shuffle=False)"
   ]
  },
  {
   "cell_type": "markdown",
   "metadata": {},
   "source": [
    "### 主要是feature_columns比较头疼\n"
   ]
  },
  {
   "cell_type": "markdown",
   "metadata": {},
   "source": [
    "- [官网关于featrue_columns的教程](https://tensorflow.google.cn/get_started/feature_columns?hl=zh-cn)\n",
    "\n",
    "\n",
    "- 可以将 **特征列** 视为原始数据和 `Estimator` 之间的媒介。特征列内容丰富，使您可以将各种原始数据转换为`Estimator`可以使用的格式，从而可以轻松地进行实验。\n",
    "\n",
    "\n",
    "- 如下图所示，可以通过 Estimator（鸢尾花的 `DNNClassifier`）的 `feature_columns` 参数指定模型的输入。特征列在输入数据（由 `input_fn` 返回）与模型之间架起了桥梁。\n",
    "\n",
    "<img src=\"https://tensorflow.google.cn/images/feature_columns/inputs_to_model_bridge.jpg?hl=zh-cn\" width = 80% height = 80% />\n"
   ]
  },
  {
   "cell_type": "code",
   "execution_count": 11,
   "metadata": {},
   "outputs": [],
   "source": [
    "feature_x = tf.feature_column.numeric_column('images', shape=IMG_SHAPE)\n",
    "\n",
    "feature_columns = [feature_x]"
   ]
  },
  {
   "cell_type": "markdown",
   "metadata": {},
   "source": [
    "### 指定hidden_units构造DNN\n",
    "\n",
    "本例中构造3个隐藏层的DNN，分别有512，256，128神经元。"
   ]
  },
  {
   "cell_type": "code",
   "execution_count": 12,
   "metadata": {},
   "outputs": [],
   "source": [
    "num_hidden_units = [512, 256, 128]"
   ]
  },
  {
   "cell_type": "markdown",
   "metadata": {},
   "source": [
    "### 呼之欲出的model之DNNClassifier"
   ]
  },
  {
   "cell_type": "code",
   "execution_count": 13,
   "metadata": {},
   "outputs": [
    {
     "name": "stdout",
     "output_type": "stream",
     "text": [
      "INFO:tensorflow:Using default config.\n",
      "INFO:tensorflow:Using config: {'_tf_random_seed': None, '_evaluation_master': '', '_num_ps_replicas': 0, '_task_type': 'worker', '_task_id': 0, '_service': None, '_save_summary_steps': 100, '_save_checkpoints_secs': 600, '_keep_checkpoint_max': 5, '_log_step_count_steps': 100, '_session_config': None, '_train_distribute': None, '_num_worker_replicas': 1, '_keep_checkpoint_every_n_hours': 10000, '_model_dir': 'simple_dnn', '_master': '', '_cluster_spec': <tensorflow.python.training.server_lib.ClusterSpec object at 0x104890e10>, '_save_checkpoints_steps': None, '_is_chief': True, '_global_id_in_cluster': 0}\n"
     ]
    }
   ],
   "source": [
    "num_classes = NUM_CLASS\n",
    "model_name = 'simple_dnn'\n",
    "\n",
    "model = tf.estimator.DNNClassifier(feature_columns = feature_columns,\n",
    "                                   hidden_units = num_hidden_units,\n",
    "                                   activation_fn = tf.nn.relu,\n",
    "                                   n_classes = num_classes,\n",
    "                                   model_dir = model_name)"
   ]
  },
  {
   "cell_type": "markdown",
   "metadata": {},
   "source": [
    "### 来呀，训练起来"
   ]
  },
  {
   "cell_type": "code",
   "execution_count": 14,
   "metadata": {},
   "outputs": [
    {
     "name": "stdout",
     "output_type": "stream",
     "text": [
      "INFO:tensorflow:Calling model_fn.\n",
      "INFO:tensorflow:Done calling model_fn.\n",
      "INFO:tensorflow:Create CheckpointSaverHook.\n",
      "INFO:tensorflow:Graph was finalized.\n",
      "INFO:tensorflow:Running local_init_op.\n",
      "INFO:tensorflow:Done running local_init_op.\n",
      "INFO:tensorflow:Saving checkpoints for 1 into simple_dnn/model.ckpt.\n",
      "INFO:tensorflow:loss = 12202.948, step = 1\n",
      "INFO:tensorflow:global_step/sec: 57.1947\n",
      "INFO:tensorflow:loss = 151.63995, step = 101 (1.750 sec)\n",
      "INFO:tensorflow:global_step/sec: 67.3086\n",
      "INFO:tensorflow:loss = 89.586075, step = 201 (1.487 sec)\n",
      "INFO:tensorflow:global_step/sec: 75.5622\n",
      "INFO:tensorflow:loss = 86.228546, step = 301 (1.329 sec)\n",
      "INFO:tensorflow:global_step/sec: 73.6666\n",
      "INFO:tensorflow:loss = 46.27453, step = 401 (1.350 sec)\n",
      "INFO:tensorflow:global_step/sec: 86.8864\n",
      "INFO:tensorflow:loss = 65.17306, step = 501 (1.151 sec)\n",
      "INFO:tensorflow:global_step/sec: 78.4508\n",
      "INFO:tensorflow:loss = 39.935963, step = 601 (1.276 sec)\n",
      "INFO:tensorflow:global_step/sec: 76.414\n",
      "INFO:tensorflow:loss = 43.965714, step = 701 (1.308 sec)\n",
      "INFO:tensorflow:global_step/sec: 82.3938\n",
      "INFO:tensorflow:loss = 36.688965, step = 801 (1.214 sec)\n",
      "INFO:tensorflow:global_step/sec: 86.3756\n",
      "INFO:tensorflow:loss = 34.98127, step = 901 (1.157 sec)\n",
      "INFO:tensorflow:global_step/sec: 85.3629\n",
      "INFO:tensorflow:loss = 37.078075, step = 1001 (1.172 sec)\n",
      "INFO:tensorflow:global_step/sec: 87.4021\n",
      "INFO:tensorflow:loss = 31.157406, step = 1101 (1.145 sec)\n",
      "INFO:tensorflow:global_step/sec: 85.7588\n",
      "INFO:tensorflow:loss = 28.736368, step = 1201 (1.166 sec)\n",
      "INFO:tensorflow:global_step/sec: 75.2155\n",
      "INFO:tensorflow:loss = 32.132378, step = 1301 (1.329 sec)\n",
      "INFO:tensorflow:global_step/sec: 88.5772\n",
      "INFO:tensorflow:loss = 42.763256, step = 1401 (1.130 sec)\n",
      "INFO:tensorflow:global_step/sec: 76.0804\n",
      "INFO:tensorflow:loss = 37.87259, step = 1501 (1.315 sec)\n",
      "INFO:tensorflow:global_step/sec: 78.8147\n",
      "INFO:tensorflow:loss = 32.7331, step = 1601 (1.270 sec)\n",
      "INFO:tensorflow:global_step/sec: 80.5238\n",
      "INFO:tensorflow:loss = 25.434517, step = 1701 (1.241 sec)\n",
      "INFO:tensorflow:global_step/sec: 89.0098\n",
      "INFO:tensorflow:loss = 37.316936, step = 1801 (1.122 sec)\n",
      "INFO:tensorflow:global_step/sec: 89.3439\n",
      "INFO:tensorflow:loss = 25.145016, step = 1901 (1.120 sec)\n",
      "INFO:tensorflow:Saving checkpoints for 2000 into simple_dnn/model.ckpt.\n",
      "INFO:tensorflow:Loss for final step: 34.293526.\n"
     ]
    },
    {
     "data": {
      "text/plain": [
       "<tensorflow.python.estimator.canned.dnn.DNNClassifier at 0x1048902e8>"
      ]
     },
     "execution_count": 14,
     "metadata": {},
     "output_type": "execute_result"
    }
   ],
   "source": [
    "# Train the Model\n",
    "model.train(train_input_fn, steps = 2000)"
   ]
  },
  {
   "cell_type": "markdown",
   "metadata": {},
   "source": [
    "### 验证一下瞅瞅"
   ]
  },
  {
   "cell_type": "code",
   "execution_count": 17,
   "metadata": {},
   "outputs": [
    {
     "name": "stdout",
     "output_type": "stream",
     "text": [
      "INFO:tensorflow:Calling model_fn.\n",
      "INFO:tensorflow:Done calling model_fn.\n",
      "INFO:tensorflow:Starting evaluation at 2018-10-25-02:57:42\n",
      "INFO:tensorflow:Graph was finalized.\n",
      "INFO:tensorflow:Restoring parameters from simple_dnn/model.ckpt-2000\n",
      "INFO:tensorflow:Running local_init_op.\n",
      "INFO:tensorflow:Done running local_init_op.\n",
      "INFO:tensorflow:Finished evaluation at 2018-10-25-02:57:43\n",
      "INFO:tensorflow:Saving dict for global step 2000: accuracy = 0.9231, average_loss = 0.26094428, global_step = 2000, loss = 33.03092\n"
     ]
    },
    {
     "data": {
      "text/plain": [
       "{'accuracy': 0.9231,\n",
       " 'average_loss': 0.26094428,\n",
       " 'global_step': 2000,\n",
       " 'loss': 33.03092}"
      ]
     },
     "execution_count": 17,
     "metadata": {},
     "output_type": "execute_result"
    }
   ],
   "source": [
    "# Use the Estimator 'evaluate' method\n",
    "model.evaluate(eval_input_fn)"
   ]
  },
  {
   "cell_type": "markdown",
   "metadata": {},
   "source": [
    "### 测试一下看看"
   ]
  },
  {
   "cell_type": "code",
   "execution_count": 18,
   "metadata": {},
   "outputs": [
    {
     "name": "stdout",
     "output_type": "stream",
     "text": [
      "INFO:tensorflow:Calling model_fn.\n",
      "INFO:tensorflow:Done calling model_fn.\n",
      "INFO:tensorflow:Graph was finalized.\n",
      "INFO:tensorflow:Restoring parameters from simple_dnn/model.ckpt-2000\n",
      "INFO:tensorflow:Running local_init_op.\n",
      "INFO:tensorflow:Done running local_init_op.\n",
      "PRED [{'classes': array([b'7'], dtype=object), 'probabilities': array([3.1019855e-08, 7.5660289e-05, 4.3719533e-04, 1.0263568e-03,\n",
      "       3.7715839e-10, 3.7429190e-06, 1.8247435e-11, 9.9843413e-01,\n",
      "       2.9076916e-06, 2.0014246e-05], dtype=float32), 'logits': array([-1.5060661,  6.293315 ,  8.0474415,  8.900832 , -5.9157834,\n",
      "        3.2869267, -8.944426 , 15.781005 ,  3.0344212,  4.9635053],\n",
      "      dtype=float32), 'class_ids': array([7])}, {'classes': array([b'2'], dtype=object), 'probabilities': array([9.3555311e-12, 1.7783657e-05, 9.9992037e-01, 2.8249107e-05,\n",
      "       5.3530413e-10, 2.7140834e-06, 1.6186158e-08, 3.0481626e-05,\n",
      "       3.8288712e-07, 2.6961356e-12], dtype=float32), 'logits': array([-4.1641617 , 10.293661  , 21.230812  , 10.756443  , -0.11729379,\n",
      "        8.413836  ,  3.2917824 , 10.832505  ,  6.4553657 , -5.40831   ],\n",
      "      dtype=float32), 'class_ids': array([2])}, {'classes': array([b'1'], dtype=object), 'probabilities': array([3.7955402e-08, 9.9978930e-01, 5.5184877e-08, 9.5722805e-07,\n",
      "       2.1806601e-08, 2.2916425e-05, 4.4052288e-07, 5.2652357e-08,\n",
      "       1.8516273e-04, 1.0916790e-06], dtype=float32), 'logits': array([ 4.251214 , 21.337858 ,  4.6254926,  7.4788446,  3.6970162,\n",
      "       10.654412 ,  6.7027655,  4.578514 , 12.7437935,  7.6102757],\n",
      "      dtype=float32), 'class_ids': array([1])}, {'classes': array([b'0'], dtype=object), 'probabilities': array([9.9994290e-01, 6.9117243e-13, 5.2136038e-05, 5.1440813e-10,\n",
      "       4.1425032e-09, 1.6684993e-08, 5.4172278e-07, 3.7449974e-12,\n",
      "       1.4335598e-08, 4.4057947e-06], dtype=float32), 'logits': array([28.58466  ,  0.5843297, 18.723063 ,  7.196712 ,  9.282751 ,\n",
      "       10.675961 , 14.156205 ,  2.2741158, 10.524197 , 16.252127 ],\n",
      "      dtype=float32), 'class_ids': array([0])}, {'classes': array([b'4'], dtype=object), 'probabilities': array([1.0917678e-07, 4.6880842e-07, 3.1331413e-06, 1.5151719e-06,\n",
      "       9.9866843e-01, 3.3861430e-05, 4.1402629e-07, 3.1395061e-06,\n",
      "       8.3070904e-07, 1.2881418e-03], dtype=float32), 'logits': array([ 4.783898 ,  6.241123 ,  8.14072  ,  7.4142137, 20.812862 ,\n",
      "       10.520961 ,  6.1168585,  8.14275  ,  6.8132086, 14.15964  ],\n",
      "      dtype=float32), 'class_ids': array([4])}, {'classes': array([b'1'], dtype=object), 'probabilities': array([1.4053359e-07, 9.9649209e-01, 5.8620419e-05, 3.8160681e-05,\n",
      "       2.3504621e-05, 8.9442939e-05, 1.4636164e-07, 2.8416137e-03,\n",
      "       4.4529152e-04, 1.0984669e-05], dtype=float32), 'logits': array([-1.1078992, 14.666406 ,  4.925493 ,  4.496215 ,  4.011606 ,\n",
      "        5.34801  , -1.0672659,  8.806537 ,  6.9531384,  3.2509098],\n",
      "      dtype=float32), 'class_ids': array([1])}, {'classes': array([b'4'], dtype=object), 'probabilities': array([2.5710714e-04, 1.8235329e-04, 1.5350768e-03, 2.4388819e-04,\n",
      "       9.0745831e-01, 3.0532987e-03, 1.0158311e-03, 7.2779250e-04,\n",
      "       3.7224952e-02, 4.8301376e-02], dtype=float32), 'logits': array([ 3.486335 ,  3.1427875,  5.2731776,  3.4335523, 11.655245 ,\n",
      "        5.9608197,  4.8603044,  4.526858 ,  8.461576 ,  8.722057 ],\n",
      "      dtype=float32), 'class_ids': array([4])}, {'classes': array([b'9'], dtype=object), 'probabilities': array([3.0740997e-05, 4.3380854e-04, 2.1834906e-04, 1.7432487e-03,\n",
      "       7.2680235e-02, 2.1356733e-03, 1.2263356e-05, 9.6945018e-02,\n",
      "       6.2047616e-03, 8.1959587e-01], dtype=float32), 'logits': array([-1.2783484 ,  1.368657  ,  0.68214905,  2.7595596 ,  6.4898787 ,\n",
      "        2.9625912 , -2.1973302 ,  6.777953  ,  4.029126  ,  8.912621  ],\n",
      "      dtype=float32), 'class_ids': array([9])}, {'classes': array([b'4'], dtype=object), 'probabilities': array([1.5645884e-02, 6.6961297e-03, 2.3678295e-02, 3.0475596e-04,\n",
      "       4.4073054e-01, 2.6076658e-02, 4.2976376e-02, 2.7712289e-04,\n",
      "       7.9354346e-02, 3.6425990e-01], dtype=float32), 'logits': array([4.988461 , 4.139783 , 5.402812 , 1.0500094, 8.326687 , 5.499294 ,\n",
      "       5.9989038, 0.9549589, 6.6121764, 8.136121 ], dtype=float32), 'class_ids': array([4])}]\n"
     ]
    },
    {
     "data": {
      "image/png": "[encoded data removed]",
      "text/plain": [
       "<Figure size 432x288 with 1 Axes>"
      ]
     },
     "metadata": {},
     "output_type": "display_data"
    },
    {
     "name": "stdout",
     "output_type": "stream",
     "text": [
      "Model prediction: {'classes': array([b'7'], dtype=object), 'probabilities': array([3.1019855e-08, 7.5660289e-05, 4.3719533e-04, 1.0263568e-03,\n",
      "       3.7715839e-10, 3.7429190e-06, 1.8247435e-11, 9.9843413e-01,\n",
      "       2.9076916e-06, 2.0014246e-05], dtype=float32), 'logits': array([-1.5060661,  6.293315 ,  8.0474415,  8.900832 , -5.9157834,\n",
      "        3.2869267, -8.944426 , 15.781005 ,  3.0344212,  4.9635053],\n",
      "      dtype=float32), 'class_ids': array([7])}\n"
     ]
    },
    {
     "data": {
      "image/png": "[encoded data removed]",
      "text/plain": [
       "<Figure size 432x288 with 1 Axes>"
      ]
     },
     "metadata": {},
     "output_type": "display_data"
    },
    {
     "name": "stdout",
     "output_type": "stream",
     "text": [
      "Model prediction: {'classes': array([b'2'], dtype=object), 'probabilities': array([9.3555311e-12, 1.7783657e-05, 9.9992037e-01, 2.8249107e-05,\n",
      "       5.3530413e-10, 2.7140834e-06, 1.6186158e-08, 3.0481626e-05,\n",
      "       3.8288712e-07, 2.6961356e-12], dtype=float32), 'logits': array([-4.1641617 , 10.293661  , 21.230812  , 10.756443  , -0.11729379,\n",
      "        8.413836  ,  3.2917824 , 10.832505  ,  6.4553657 , -5.40831   ],\n",
      "      dtype=float32), 'class_ids': array([2])}\n"
     ]
    },
    {
     "data": {
      "image/png": "[encoded data removed]",
      "text/plain": [
       "<Figure size 432x288 with 1 Axes>"
      ]
     },
     "metadata": {},
     "output_type": "display_data"
    },
    {
     "name": "stdout",
     "output_type": "stream",
     "text": [
      "Model prediction: {'classes': array([b'1'], dtype=object), 'probabilities': array([3.7955402e-08, 9.9978930e-01, 5.5184877e-08, 9.5722805e-07,\n",
      "       2.1806601e-08, 2.2916425e-05, 4.4052288e-07, 5.2652357e-08,\n",
      "       1.8516273e-04, 1.0916790e-06], dtype=float32), 'logits': array([ 4.251214 , 21.337858 ,  4.6254926,  7.4788446,  3.6970162,\n",
      "       10.654412 ,  6.7027655,  4.578514 , 12.7437935,  7.6102757],\n",
      "      dtype=float32), 'class_ids': array([1])}\n"
     ]
    },
    {
     "data": {
      "image/png": "[encoded data removed]",
      "text/plain": [
       "<Figure size 432x288 with 1 Axes>"
      ]
     },
     "metadata": {},
     "output_type": "display_data"
    },
    {
     "name": "stdout",
     "output_type": "stream",
     "text": [
      "Model prediction: {'classes': array([b'0'], dtype=object), 'probabilities': array([9.9994290e-01, 6.9117243e-13, 5.2136038e-05, 5.1440813e-10,\n",
      "       4.1425032e-09, 1.6684993e-08, 5.4172278e-07, 3.7449974e-12,\n",
      "       1.4335598e-08, 4.4057947e-06], dtype=float32), 'logits': array([28.58466  ,  0.5843297, 18.723063 ,  7.196712 ,  9.282751 ,\n",
      "       10.675961 , 14.156205 ,  2.2741158, 10.524197 , 16.252127 ],\n",
      "      dtype=float32), 'class_ids': array([0])}\n"
     ]
    },
    {
     "data": {
      "image/png": "[encoded data removed]",
      "text/plain": [
       "<Figure size 432x288 with 1 Axes>"
      ]
     },
     "metadata": {},
     "output_type": "display_data"
    },
    {
     "name": "stdout",
     "output_type": "stream",
     "text": [
      "Model prediction: {'classes': array([b'4'], dtype=object), 'probabilities': array([1.0917678e-07, 4.6880842e-07, 3.1331413e-06, 1.5151719e-06,\n",
      "       9.9866843e-01, 3.3861430e-05, 4.1402629e-07, 3.1395061e-06,\n",
      "       8.3070904e-07, 1.2881418e-03], dtype=float32), 'logits': array([ 4.783898 ,  6.241123 ,  8.14072  ,  7.4142137, 20.812862 ,\n",
      "       10.520961 ,  6.1168585,  8.14275  ,  6.8132086, 14.15964  ],\n",
      "      dtype=float32), 'class_ids': array([4])}\n"
     ]
    },
    {
     "data": {
      "image/png": "[encoded data removed]",
      "text/plain": [
       "<Figure size 432x288 with 1 Axes>"
      ]
     },
     "metadata": {},
     "output_type": "display_data"
    },
    {
     "name": "stdout",
     "output_type": "stream",
     "text": [
      "Model prediction: {'classes': array([b'1'], dtype=object), 'probabilities': array([1.4053359e-07, 9.9649209e-01, 5.8620419e-05, 3.8160681e-05,\n",
      "       2.3504621e-05, 8.9442939e-05, 1.4636164e-07, 2.8416137e-03,\n",
      "       4.4529152e-04, 1.0984669e-05], dtype=float32), 'logits': array([-1.1078992, 14.666406 ,  4.925493 ,  4.496215 ,  4.011606 ,\n",
      "        5.34801  , -1.0672659,  8.806537 ,  6.9531384,  3.2509098],\n",
      "      dtype=float32), 'class_ids': array([1])}\n"
     ]
    },
    {
     "data": {
      "image/png": "[encoded data removed]",
      "text/plain": [
       "<Figure size 432x288 with 1 Axes>"
      ]
     },
     "metadata": {},
     "output_type": "display_data"
    },
    {
     "name": "stdout",
     "output_type": "stream",
     "text": [
      "Model prediction: {'classes': array([b'4'], dtype=object), 'probabilities': array([2.5710714e-04, 1.8235329e-04, 1.5350768e-03, 2.4388819e-04,\n",
      "       9.0745831e-01, 3.0532987e-03, 1.0158311e-03, 7.2779250e-04,\n",
      "       3.7224952e-02, 4.8301376e-02], dtype=float32), 'logits': array([ 3.486335 ,  3.1427875,  5.2731776,  3.4335523, 11.655245 ,\n",
      "        5.9608197,  4.8603044,  4.526858 ,  8.461576 ,  8.722057 ],\n",
      "      dtype=float32), 'class_ids': array([4])}\n"
     ]
    },
    {
     "data": {
      "image/png": "[encoded data removed]",
      "text/plain": [
       "<Figure size 432x288 with 1 Axes>"
      ]
     },
     "metadata": {},
     "output_type": "display_data"
    },
    {
     "name": "stdout",
     "output_type": "stream",
     "text": [
      "Model prediction: {'classes': array([b'9'], dtype=object), 'probabilities': array([3.0740997e-05, 4.3380854e-04, 2.1834906e-04, 1.7432487e-03,\n",
      "       7.2680235e-02, 2.1356733e-03, 1.2263356e-05, 9.6945018e-02,\n",
      "       6.2047616e-03, 8.1959587e-01], dtype=float32), 'logits': array([-1.2783484 ,  1.368657  ,  0.68214905,  2.7595596 ,  6.4898787 ,\n",
      "        2.9625912 , -2.1973302 ,  6.777953  ,  4.029126  ,  8.912621  ],\n",
      "      dtype=float32), 'class_ids': array([9])}\n"
     ]
    },
    {
     "data": {
      "image/png": "[encoded data removed]",
      "text/plain": [
       "<Figure size 432x288 with 1 Axes>"
      ]
     },
     "metadata": {},
     "output_type": "display_data"
    },
    {
     "name": "stdout",
     "output_type": "stream",
     "text": [
      "Model prediction: {'classes': array([b'4'], dtype=object), 'probabilities': array([1.5645884e-02, 6.6961297e-03, 2.3678295e-02, 3.0475596e-04,\n",
      "       4.4073054e-01, 2.6076658e-02, 4.2976376e-02, 2.7712289e-04,\n",
      "       7.9354346e-02, 3.6425990e-01], dtype=float32), 'logits': array([4.988461 , 4.139783 , 5.402812 , 1.0500094, 8.326687 , 5.499294 ,\n",
      "       5.9989038, 0.9549589, 6.6121764, 8.136121 ], dtype=float32), 'class_ids': array([4])}\n"
     ]
    }
   ],
   "source": [
    "# Use the model to predict the images class\n",
    "preds = list(model.predict(test_input_fn))\n",
    "print('PRED',preds)\n",
    "\n",
    "n_images = 9\n",
    "# Display\n",
    "for i in range(n_images):\n",
    "    plt.imshow(np.reshape(some_images[i], [28, 28]), cmap='gray')\n",
    "    plt.show()\n",
    "    print(\"Model prediction:\", preds[i])"
   ]
  },
  {
   "cell_type": "code",
   "execution_count": null,
   "metadata": {},
   "outputs": [],
   "source": []
  }
 ],
 "metadata": {
  "kernelspec": {
   "display_name": "Python 3",
   "language": "python",
   "name": "python3"
  },
  "language_info": {
   "codemirror_mode": {
    "name": "ipython",
    "version": 3
   },
   "file_extension": ".py",
   "mimetype": "text/x-python",
   "name": "python",
   "nbconvert_exporter": "python",
   "pygments_lexer": "ipython3",
   "version": "3.5.0"
  }
 },
 "nbformat": 4,
 "nbformat_minor": 2
}
