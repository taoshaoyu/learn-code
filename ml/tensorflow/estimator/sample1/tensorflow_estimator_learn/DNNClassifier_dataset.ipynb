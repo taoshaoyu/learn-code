{
 "cells": [
  {
   "cell_type": "markdown",
   "metadata": {},
   "source": [
    "# TensorFlow 那些事儿之DL中的 HELLO WORLD\n",
    "\n",
    "\n",
    "- 基于MNIST数据集，运用TensorFlow中 **tf.estimator** 预制的 **tf.estimator.DNNClassifier** 搭建一个简单的多层神经网络，实现模型的训练，验证和测试\n",
    "\n",
    "- TensorBoard的简单使用\n"
   ]
  },
  {
   "cell_type": "markdown",
   "metadata": {},
   "source": [
    "## 看看MNIST数据集的样子\n"
   ]
  },
  {
   "cell_type": "markdown",
   "metadata": {},
   "source": [
    "### 导入各个库"
   ]
  },
  {
   "cell_type": "code",
   "execution_count": 1,
   "metadata": {},
   "outputs": [
    {
     "data": {
      "text/plain": [
       "'1.8.0'"
      ]
     },
     "execution_count": 1,
     "metadata": {},
     "output_type": "execute_result"
    }
   ],
   "source": [
    "%matplotlib inline\n",
    "import tensorflow as tf\n",
    "import matplotlib.pyplot as plt\n",
    "import numpy as np\n",
    "import pandas as pd\n",
    "import multiprocessing\n",
    "\n",
    "\n",
    "from tensorflow import data\n",
    "from tensorflow.python.feature_column import feature_column\n",
    "\n",
    "tf.__version__"
   ]
  },
  {
   "cell_type": "markdown",
   "metadata": {},
   "source": [
    "### MNIST数据集载入"
   ]
  },
  {
   "cell_type": "code",
   "execution_count": 2,
   "metadata": {},
   "outputs": [],
   "source": [
    "TRAIN_DATA_FILES_PATTERN = 'data_csv/mnist_train.csv'\n",
    "VAL_DATA_FILES_PATTERN = 'data_csv/mnist_val.csv'\n",
    "TEST_DATA_FILES_PATTERN = 'data_csv/mnist_test.csv'\n",
    "\n",
    "MULTI_THREADING = True\n",
    "RESUME_TRAINING = False\n",
    "\n",
    "NUM_CLASS = 10\n",
    "IMG_SHAPE = [28,28]\n",
    "\n",
    "IMG_WIDTH = 28\n",
    "IMG_HEIGHT = 28\n",
    "BATCH_SIZE = 128"
   ]
  },
  {
   "cell_type": "code",
   "execution_count": 3,
   "metadata": {},
   "outputs": [
    {
     "name": "stdout",
     "output_type": "stream",
     "text": [
      "test_data (10000, 784)\n",
      "test_label (10000,)\n",
      "val_data (5000, 784)\n",
      "val_label (5000,)\n",
      "train_data (55000, 784)\n",
      "train_label (55000,)\n"
     ]
    }
   ],
   "source": [
    "# train_data = pd.read_csv(TRAIN_DATA_FILES_PATTERN)\n",
    "# train_data = pd.read_csv(TRAIN_DATA_FILES_PATTERN, header=None, names=HEADER )\n",
    "train_data = pd.read_csv(TRAIN_DATA_FILES_PATTERN, header=None)\n",
    "test_data = pd.read_csv(TEST_DATA_FILES_PATTERN, header=None)\n",
    "val_data = pd.read_csv(VAL_DATA_FILES_PATTERN, header=None)\n",
    "\n",
    "train_values = train_data.values\n",
    "train_data = train_values[:,1:]/255.0\n",
    "train_label = train_values[:,0:1].squeeze()\n",
    "\n",
    "val_values = val_data.values\n",
    "val_data = val_values[:,1:]/255.0\n",
    "val_label = val_values[:,0:1].squeeze()\n",
    "\n",
    "test_values = test_data.values\n",
    "test_data = test_values[:,1:]/255.0\n",
    "test_label = test_values[:,0:1].squeeze()\n",
    "\n",
    "print('test_data',np.shape(test_data))\n",
    "print('test_label',np.shape(test_label))\n",
    "\n",
    "print('val_data',np.shape(val_data))\n",
    "print('val_label',np.shape(val_label))\n",
    "\n",
    "print('train_data',np.shape(train_data))\n",
    "print('train_label',np.shape(train_label))\n",
    "\n",
    "# train_data.head(10)\n",
    "# test_data.head(10)"
   ]
  },
  {
   "cell_type": "code",
   "execution_count": 4,
   "metadata": {},
   "outputs": [],
   "source": [
    "img_shape = IMG_SHAPE\n",
    "\n",
    "def plot_images(images, cls_true, cls_pred=None):\n",
    "    assert len(images) == len(cls_true) == 9\n",
    "    \n",
    "    # Create figure with 3x3 sub-plots.\n",
    "    fig, axes = plt.subplots(3, 3)\n",
    "    fig.subplots_adjust(hspace=0.3, wspace=0.3)\n",
    "\n",
    "    for i, ax in enumerate(axes.flat):\n",
    "        # Plot image.\n",
    "        ax.imshow(images[i].reshape(img_shape), cmap='binary')\n",
    "\n",
    "        # Show true and predicted classes.\n",
    "        if cls_pred is None:\n",
    "            xlabel = \"True: {0}\".format(cls_true[i])\n",
    "        else:\n",
    "            xlabel = \"True: {0}, Pred: {1}\".format(cls_true[i], cls_pred[i])\n",
    "\n",
    "        # Show the classes as the label on the x-axis.\n",
    "        ax.set_xlabel(xlabel)\n",
    "        \n",
    "        # Remove ticks from the plot.\n",
    "        ax.set_xticks([])\n",
    "        ax.set_yticks([])\n",
    "    \n",
    "    # Ensure the plot is shown correctly with multiple plots\n",
    "    # in a single Notebook cell.\n",
    "    plt.show()"
   ]
  },
  {
   "cell_type": "markdown",
   "metadata": {},
   "source": [
    "##  重头戏之怎么用 tf.estimator.DNNClassifier "
   ]
  },
  {
   "cell_type": "markdown",
   "metadata": {},
   "source": [
    "### 先看看input_fn之创建输入函数\n",
    "\n",
    "- 采用 **datasetAPI** 构造输入函数"
   ]
  },
  {
   "cell_type": "code",
   "execution_count": 5,
   "metadata": {},
   "outputs": [],
   "source": [
    "# validate tf.data.TextLineDataset() using make_one_shot_iterator()\n",
    "\n",
    "def decode_line(line):\n",
    "    # Decode the csv_line to tensor.\n",
    "    record_defaults = [[1.0] for col in range(785)]\n",
    "    items = tf.decode_csv(line, record_defaults)\n",
    "    features = items[1:785]\n",
    "    label = items[0]\n",
    "\n",
    "    features = tf.cast(features, tf.float32)\n",
    "    features = tf.reshape(features,[28,28,1])\n",
    "    label = tf.cast(label, tf.int64)\n",
    "#     label = tf.one_hot(label,num_class)\n",
    "    return features,label"
   ]
  },
  {
   "cell_type": "code",
   "execution_count": 6,
   "metadata": {},
   "outputs": [],
   "source": [
    "def csv_input_fn(files_name_pattern, mode=tf.estimator.ModeKeys.EVAL, \n",
    "                 skip_header_lines=1, \n",
    "                 num_epochs=None, \n",
    "                 batch_size=128):\n",
    "    shuffle = True if mode == tf.estimator.ModeKeys.TRAIN else False\n",
    "        \n",
    "    num_threads = multiprocessing.cpu_count() if MULTI_THREADING else 1\n",
    "     \n",
    "    print(\"\")\n",
    "    print(\"* data input_fn:\")\n",
    "    print(\"================\")\n",
    "    print(\"Input file(s): {}\".format(files_name_pattern))\n",
    "    print(\"Batch size: {}\".format(batch_size))\n",
    "    print(\"Epoch Count: {}\".format(num_epochs))\n",
    "    print(\"Mode: {}\".format(mode))\n",
    "    print(\"Thread Count: {}\".format(num_threads))\n",
    "    print(\"Shuffle: {}\".format(shuffle))\n",
    "    print(\"================\")\n",
    "    print(\"\")\n",
    "\n",
    "    file_names = tf.matching_files(files_name_pattern)\n",
    "    dataset = data.TextLineDataset(filenames=file_names).skip(1)\n",
    "#     dataset = tf.data.TextLineDataset(filenames).skip(1)\n",
    "    print(\"DATASET\",dataset)\n",
    "\n",
    "    # Use `Dataset.map()` to build a pair of a feature dictionary and a label\n",
    "    # tensor for each example.\n",
    "    dataset = dataset.map(decode_line)\n",
    "    print(\"DATASET_1\",dataset)\n",
    "    dataset = dataset.shuffle(buffer_size=10000)\n",
    "    print(\"DATASET_2\",dataset)\n",
    "    dataset = dataset.batch(32)\n",
    "    print(\"DATASET_3\",dataset)\n",
    "    dataset = dataset.repeat(num_epochs)\n",
    "    print(\"DATASET_4\",dataset)\n",
    "    iterator = dataset.make_one_shot_iterator()\n",
    "    \n",
    "    # `features` is a dictionary in which each value is a batch of values for\n",
    "    # that feature; `labels` is a batch of labels.\n",
    "    features, labels = iterator.get_next()\n",
    "    \n",
    "    features = {'images':features}\n",
    "    \n",
    "    return features,labels\n"
   ]
  },
  {
   "cell_type": "code",
   "execution_count": 7,
   "metadata": {},
   "outputs": [
    {
     "name": "stdout",
     "output_type": "stream",
     "text": [
      "\n",
      "* data input_fn:\n",
      "================\n",
      "Input file(s): data_csv/mnist_train.csv\n",
      "Batch size: 128\n",
      "Epoch Count: None\n",
      "Mode: eval\n",
      "Thread Count: 4\n",
      "Shuffle: False\n",
      "================\n",
      "\n",
      "DATASET <SkipDataset shapes: (), types: tf.string>\n",
      "DATASET_1 <MapDataset shapes: ((28, 28, 1), ()), types: (tf.float32, tf.int64)>\n",
      "DATASET_2 <ShuffleDataset shapes: ((28, 28, 1), ()), types: (tf.float32, tf.int64)>\n",
      "DATASET_3 <BatchDataset shapes: ((?, 28, 28, 1), (?,)), types: (tf.float32, tf.int64)>\n",
      "DATASET_4 <RepeatDataset shapes: ((?, 28, 28, 1), (?,)), types: (tf.float32, tf.int64)>\n",
      "Features in CSV: ['images']\n",
      "Target in CSV: Tensor(\"IteratorGetNext:1\", shape=(?,), dtype=int64)\n"
     ]
    }
   ],
   "source": [
    "features, target = csv_input_fn(files_name_pattern=TRAIN_DATA_FILES_PATTERN)\n",
    "print(\"Features in CSV: {}\".format(list(features.keys())))\n",
    "print(\"Target in CSV: {}\".format(target))"
   ]
  },
  {
   "cell_type": "markdown",
   "metadata": {},
   "source": [
    "### 定义feature_columns"
   ]
  },
  {
   "cell_type": "code",
   "execution_count": 8,
   "metadata": {},
   "outputs": [],
   "source": [
    "feature_x = tf.feature_column.numeric_column('images', shape=[28,28])\n",
    "# print((feature_x))\n",
    "\n",
    "feature_columns = [feature_x]\n",
    "# print((feature_columns))"
   ]
  },
  {
   "cell_type": "code",
   "execution_count": 9,
   "metadata": {},
   "outputs": [],
   "source": [
    "num_hidden_units = [512, 256, 128]"
   ]
  },
  {
   "cell_type": "markdown",
   "metadata": {},
   "source": [
    "### DNNClassifier来啦"
   ]
  },
  {
   "cell_type": "code",
   "execution_count": 11,
   "metadata": {},
   "outputs": [
    {
     "name": "stdout",
     "output_type": "stream",
     "text": [
      "INFO:tensorflow:Using default config.\n",
      "INFO:tensorflow:Using config: {'_master': '', '_num_worker_replicas': 1, '_session_config': None, '_keep_checkpoint_max': 5, '_keep_checkpoint_every_n_hours': 10000, '_tf_random_seed': None, '_service': None, '_cluster_spec': <tensorflow.python.training.server_lib.ClusterSpec object at 0x1193c94a8>, '_model_dir': './simple_dnn_dataset', '_num_ps_replicas': 0, '_save_checkpoints_steps': None, '_evaluation_master': '', '_save_summary_steps': 100, '_log_step_count_steps': 100, '_global_id_in_cluster': 0, '_train_distribute': None, '_is_chief': True, '_task_id': 0, '_save_checkpoints_secs': 600, '_task_type': 'worker'}\n"
     ]
    }
   ],
   "source": [
    "num_class = NUM_CLASS\n",
    "\n",
    "model = tf.estimator.DNNClassifier(feature_columns = feature_columns,\n",
    "                                   hidden_units = num_hidden_units,\n",
    "                                   activation_fn = tf.nn.relu,\n",
    "                                   n_classes = num_class,\n",
    "                                   model_dir = './simple_dnn_dataset')"
   ]
  },
  {
   "cell_type": "markdown",
   "metadata": {},
   "source": [
    "### 愉快滴训练吧"
   ]
  },
  {
   "cell_type": "code",
   "execution_count": 14,
   "metadata": {},
   "outputs": [
    {
     "name": "stdout",
     "output_type": "stream",
     "text": [
      "\n",
      "* data input_fn:\n",
      "================\n",
      "Input file(s): data_csv/mnist_train.csv\n",
      "Batch size: 128\n",
      "Epoch Count: None\n",
      "Mode: train\n",
      "Thread Count: 4\n",
      "Shuffle: True\n",
      "================\n",
      "\n",
      "DATASET <SkipDataset shapes: (), types: tf.string>\n",
      "DATASET_1 <MapDataset shapes: ((28, 28, 1), ()), types: (tf.float32, tf.int64)>\n",
      "DATASET_2 <ShuffleDataset shapes: ((28, 28, 1), ()), types: (tf.float32, tf.int64)>\n",
      "DATASET_3 <BatchDataset shapes: ((?, 28, 28, 1), (?,)), types: (tf.float32, tf.int64)>\n",
      "DATASET_4 <RepeatDataset shapes: ((?, 28, 28, 1), (?,)), types: (tf.float32, tf.int64)>\n",
      "INFO:tensorflow:Calling model_fn.\n",
      "INFO:tensorflow:Done calling model_fn.\n",
      "INFO:tensorflow:Create CheckpointSaverHook.\n",
      "INFO:tensorflow:Graph was finalized.\n",
      "INFO:tensorflow:Restoring parameters from ./simple_dnn_dataset/model.ckpt-200\n",
      "INFO:tensorflow:Running local_init_op.\n",
      "INFO:tensorflow:Done running local_init_op.\n",
      "INFO:tensorflow:Saving checkpoints for 201 into ./simple_dnn_dataset/model.ckpt.\n",
      "INFO:tensorflow:loss = 26.95501, step = 201\n",
      "INFO:tensorflow:global_step/sec: 15.0276\n",
      "INFO:tensorflow:loss = 23.322294, step = 301 (6.655 sec)\n",
      "INFO:tensorflow:global_step/sec: 13.8421\n",
      "INFO:tensorflow:loss = 17.458122, step = 401 (7.225 sec)\n",
      "INFO:tensorflow:global_step/sec: 13.3083\n",
      "INFO:tensorflow:loss = 21.524231, step = 501 (7.517 sec)\n",
      "INFO:tensorflow:global_step/sec: 14.5015\n",
      "INFO:tensorflow:loss = 21.863522, step = 601 (6.892 sec)\n",
      "INFO:tensorflow:global_step/sec: 13.2937\n",
      "INFO:tensorflow:loss = 12.238069, step = 701 (7.524 sec)\n",
      "INFO:tensorflow:global_step/sec: 13.6131\n",
      "INFO:tensorflow:loss = 19.554596, step = 801 (7.345 sec)\n",
      "INFO:tensorflow:global_step/sec: 12.5833\n",
      "INFO:tensorflow:loss = 4.9210396, step = 901 (7.948 sec)\n",
      "INFO:tensorflow:global_step/sec: 13.2139\n",
      "INFO:tensorflow:loss = 8.347723, step = 1001 (7.566 sec)\n",
      "INFO:tensorflow:global_step/sec: 14.5858\n",
      "INFO:tensorflow:loss = 17.034126, step = 1101 (6.856 sec)\n",
      "INFO:tensorflow:global_step/sec: 14.5617\n",
      "INFO:tensorflow:loss = 21.071743, step = 1201 (6.866 sec)\n",
      "INFO:tensorflow:global_step/sec: 14.7257\n",
      "INFO:tensorflow:loss = 11.271985, step = 1301 (6.791 sec)\n",
      "INFO:tensorflow:global_step/sec: 14.9258\n",
      "INFO:tensorflow:loss = 7.7849083, step = 1401 (6.700 sec)\n",
      "INFO:tensorflow:global_step/sec: 14.8296\n",
      "INFO:tensorflow:loss = 7.3179874, step = 1501 (6.743 sec)\n",
      "INFO:tensorflow:global_step/sec: 15.3108\n",
      "INFO:tensorflow:loss = 5.9724092, step = 1601 (6.532 sec)\n",
      "INFO:tensorflow:global_step/sec: 111.22\n",
      "INFO:tensorflow:loss = 23.16468, step = 1701 (0.899 sec)\n",
      "INFO:tensorflow:global_step/sec: 165.726\n",
      "INFO:tensorflow:loss = 15.113611, step = 1801 (0.603 sec)\n",
      "INFO:tensorflow:global_step/sec: 164.038\n",
      "INFO:tensorflow:loss = 17.828293, step = 1901 (0.610 sec)\n",
      "INFO:tensorflow:global_step/sec: 3.84192\n",
      "INFO:tensorflow:loss = 10.36054, step = 2001 (26.032 sec)\n",
      "INFO:tensorflow:global_step/sec: 13.1081\n",
      "INFO:tensorflow:loss = 10.766257, step = 2101 (7.626 sec)\n",
      "INFO:tensorflow:Saving checkpoints for 2200 into ./simple_dnn_dataset/model.ckpt.\n",
      "INFO:tensorflow:Loss for final step: 10.364952.\n"
     ]
    },
    {
     "data": {
      "text/plain": [
       "<tensorflow.python.estimator.canned.dnn.DNNClassifier at 0x1193ffdd8>"
      ]
     },
     "execution_count": 14,
     "metadata": {},
     "output_type": "execute_result"
    }
   ],
   "source": [
    "input_fn = lambda: csv_input_fn(\\\n",
    "                                files_name_pattern= TRAIN_DATA_FILES_PATTERN,mode=tf.estimator.ModeKeys.TRAIN)\n",
    "\n",
    "model.train(input_fn, steps = 2000)"
   ]
  },
  {
   "cell_type": "markdown",
   "metadata": {},
   "source": [
    "### 验证一下呗"
   ]
  },
  {
   "cell_type": "code",
   "execution_count": 15,
   "metadata": {},
   "outputs": [
    {
     "name": "stdout",
     "output_type": "stream",
     "text": [
      "\n",
      "* data input_fn:\n",
      "================\n",
      "Input file(s): data_csv/mnist_val.csv\n",
      "Batch size: 128\n",
      "Epoch Count: None\n",
      "Mode: eval\n",
      "Thread Count: 4\n",
      "Shuffle: False\n",
      "================\n",
      "\n",
      "DATASET <SkipDataset shapes: (), types: tf.string>\n",
      "DATASET_1 <MapDataset shapes: ((28, 28, 1), ()), types: (tf.float32, tf.int64)>\n",
      "DATASET_2 <ShuffleDataset shapes: ((28, 28, 1), ()), types: (tf.float32, tf.int64)>\n",
      "DATASET_3 <BatchDataset shapes: ((?, 28, 28, 1), (?,)), types: (tf.float32, tf.int64)>\n",
      "DATASET_4 <RepeatDataset shapes: ((?, 28, 28, 1), (?,)), types: (tf.float32, tf.int64)>\n",
      "INFO:tensorflow:Calling model_fn.\n",
      "INFO:tensorflow:Done calling model_fn.\n",
      "INFO:tensorflow:Starting evaluation at 2018-10-25-03:38:01\n",
      "INFO:tensorflow:Graph was finalized.\n",
      "INFO:tensorflow:Restoring parameters from ./simple_dnn_dataset/model.ckpt-2200\n",
      "INFO:tensorflow:Running local_init_op.\n",
      "INFO:tensorflow:Done running local_init_op.\n",
      "INFO:tensorflow:Evaluation [1/1]\n",
      "INFO:tensorflow:Finished evaluation at 2018-10-25-03:38:10\n",
      "INFO:tensorflow:Saving dict for global step 2200: accuracy = 0.9375, average_loss = 0.14245859, global_step = 2200, loss = 4.558675\n"
     ]
    },
    {
     "data": {
      "text/plain": [
       "{'accuracy': 0.9375,\n",
       " 'average_loss': 0.14245859,\n",
       " 'global_step': 2200,\n",
       " 'loss': 4.558675}"
      ]
     },
     "execution_count": 15,
     "metadata": {},
     "output_type": "execute_result"
    }
   ],
   "source": [
    "input_fn = lambda: csv_input_fn(files_name_pattern= VAL_DATA_FILES_PATTERN,mode=tf.estimator.ModeKeys.EVAL)\n",
    "\n",
    "model.evaluate(input_fn,steps=1)"
   ]
  },
  {
   "cell_type": "markdown",
   "metadata": {},
   "source": [
    "### 测试测试吧"
   ]
  },
  {
   "cell_type": "code",
   "execution_count": 19,
   "metadata": {},
   "outputs": [
    {
     "name": "stdout",
     "output_type": "stream",
     "text": [
      "\n",
      "* data input_fn:\n",
      "================\n",
      "Input file(s): data_csv/mnist_test.csv\n",
      "Batch size: 10\n",
      "Epoch Count: None\n",
      "Mode: infer\n",
      "Thread Count: 4\n",
      "Shuffle: False\n",
      "================\n",
      "\n",
      "DATASET <SkipDataset shapes: (), types: tf.string>\n",
      "DATASET_1 <MapDataset shapes: ((28, 28, 1), ()), types: (tf.float32, tf.int64)>\n",
      "DATASET_2 <ShuffleDataset shapes: ((28, 28, 1), ()), types: (tf.float32, tf.int64)>\n",
      "DATASET_3 <BatchDataset shapes: ((?, 28, 28, 1), (?,)), types: (tf.float32, tf.int64)>\n",
      "DATASET_4 <RepeatDataset shapes: ((?, 28, 28, 1), (?,)), types: (tf.float32, tf.int64)>\n",
      "INFO:tensorflow:Calling model_fn.\n",
      "INFO:tensorflow:Done calling model_fn.\n",
      "INFO:tensorflow:Graph was finalized.\n",
      "INFO:tensorflow:Restoring parameters from ./simple_dnn_dataset/model.ckpt-2200\n",
      "INFO:tensorflow:Running local_init_op.\n",
      "INFO:tensorflow:Done running local_init_op.\n",
      "\n",
      "* Predicted Classes: [b'0', b'7', b'6', b'3', b'4', b'6', b'5', b'8', b'5', b'6']\n"
     ]
    }
   ],
   "source": [
    "import itertools\n",
    "\n",
    "input_fn = lambda: csv_input_fn(\\\n",
    "                                files_name_pattern= TEST_DATA_FILES_PATTERN,mode=tf.estimator.ModeKeys.PREDICT,batch_size=10)\n",
    "\n",
    "predictions = list(itertools.islice(model.predict(input_fn=input_fn),10))\n",
    "# print('PREDICTIONS',predictions)\n",
    "print(\"\")\n",
    "print(\"* Predicted Classes: {}\".format(list(map(lambda item: item[\"classes\"][0]\n",
    "    ,predictions))))\n",
    "\n"
   ]
  },
  {
   "cell_type": "code",
   "execution_count": null,
   "metadata": {},
   "outputs": [],
   "source": []
  }
 ],
 "metadata": {
  "kernelspec": {
   "display_name": "Python 3",
   "language": "python",
   "name": "python3"
  },
  "language_info": {
   "codemirror_mode": {
    "name": "ipython",
    "version": 3
   },
   "file_extension": ".py",
   "mimetype": "text/x-python",
   "name": "python",
   "nbconvert_exporter": "python",
   "pygments_lexer": "ipython3",
   "version": "3.5.0"
  }
 },
 "nbformat": 4,
 "nbformat_minor": 2
}
