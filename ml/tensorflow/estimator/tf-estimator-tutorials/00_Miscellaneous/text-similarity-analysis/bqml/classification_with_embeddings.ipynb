{
  "nbformat": 4,
  "nbformat_minor": 0,
  "metadata": {
    "colab": {
      "name": "Topic Classification with Embeddings and BQML",
      "version": "0.3.2",
      "provenance": [],
      "collapsed_sections": [],
      "include_colab_link": true
    },
    "kernelspec": {
      "name": "python3",
      "display_name": "Python 3"
    }
  },
  "cells": [
    {
      "cell_type": "markdown",
      "metadata": {
        "id": "view-in-github",
        "colab_type": "text"
      },
      "source": [
        "<a href=\"https://colab.research.google.com/github/GoogleCloudPlatform/tf-estimator-tutorials/blob/master/00_Miscellaneous/text-similarity-analysis/bqml/classification_with_embeddings.ipynb\" target=\"_parent\"><img src=\"https://colab.research.google.com/assets/colab-badge.svg\" alt=\"Open In Colab\"/></a>"
      ]
    },
    {
      "metadata": {
        "id": "u9cD843d8k8L",
        "colab_type": "code",
        "colab": {}
      },
      "cell_type": "code",
      "source": [
        "from google.colab import auth\n",
        "auth.authenticate_user()"
      ],
      "execution_count": 0,
      "outputs": []
    },
    {
      "metadata": {
        "id": "XqYlHNGi8mV0",
        "colab_type": "code",
        "colab": {}
      },
      "cell_type": "code",
      "source": [
        "from google.cloud import bigquery\n",
        "client = bigquery.Client(project='YOUR-PROJECT-NAME')"
      ],
      "execution_count": 0,
      "outputs": []
    },
    {
      "metadata": {
        "id": "aieSw_8QA007",
        "colab_type": "text"
      },
      "cell_type": "markdown",
      "source": [
        "## Table Schema"
      ]
    },
    {
      "metadata": {
        "id": "jwJgzeAkAxTW",
        "colab_type": "code",
        "outputId": "5bc60584-2f77-47f8-c364-34da60fdbbab",
        "colab": {
          "base_uri": "https://localhost:8080/",
          "height": 107
        }
      },
      "cell_type": "code",
      "source": [
        "dataset_id = 'YOUR-DATASET-NAME'\n",
        "table_id = 'YOUR-TABLE-NAME'\n",
        "\n",
        "dataset_ref = client.dataset(dataset_id)\n",
        "table_ref = dataset_ref.table(table_id)\n",
        "table = client.get_table(table_ref)\n",
        "\n",
        "# View table properties\n",
        "for e in table.schema:\n",
        "  print(e)"
      ],
      "execution_count": 3,
      "outputs": [
        {
          "output_type": "stream",
          "text": [
            "SchemaField('topics', 'STRING', 'NULLABLE', None, ())\n",
            "SchemaField('title', 'STRING', 'NULLABLE', None, ())\n",
            "SchemaField('content', 'STRING', 'NULLABLE', None, ())\n",
            "SchemaField('title_embed', 'FLOAT', 'REPEATED', None, ())\n",
            "SchemaField('content_embed', 'FLOAT', 'REPEATED', None, ())\n"
          ],
          "name": "stdout"
        }
      ]
    },
    {
      "metadata": {
        "id": "VBWxKdVk9B9n",
        "colab_type": "text"
      },
      "cell_type": "markdown",
      "source": [
        "##Create Features"
      ]
    },
    {
      "metadata": {
        "id": "jubsR5FI9EOQ",
        "colab_type": "code",
        "colab": {}
      },
      "cell_type": "code",
      "source": [
        "def get_flattened_embeddings(input_column='content_embed', n=512):\n",
        "  L = []\n",
        "  for i in range(n):\n",
        "    L.append(\"{0}[OFFSET({1})] AS {0}_{1}\".format(input_column, i))\n",
        "  return (',').join(L)\n",
        "\n",
        "def get_one_hot_vectors(input_column='topics', categories=['acl','gas']):\n",
        "  L = []\n",
        "  for cat in categories:\n",
        "    L.append(\n",
        "      \"CASE WHEN '{1}' in UNNEST(SPLIT({0})) THEN 1 ELSE 0 END as {1}\".format(\n",
        "        input_column, cat))\n",
        "  return (',').join(L)\n",
        "\n",
        "def get_number(input_column='topics', categories=['acl','gas']):\n",
        "  L = []\n",
        "  for cat in categories:\n",
        "    L.append(\n",
        "      \"(CASE WHEN '{1}' in UNNEST(SPLIT({0})) THEN 1 ELSE 0 END)\".format(\n",
        "        input_column, cat))\n",
        "  return ('+').join(L)"
      ],
      "execution_count": 0,
      "outputs": []
    },
    {
      "metadata": {
        "id": "ZMLe79r2CZ_n",
        "colab_type": "code",
        "colab": {}
      },
      "cell_type": "code",
      "source": [
        "def get_topics_and_count(dataset_id, table_id):\n",
        "  sql = \"\"\"\n",
        "  WITH topics_flatten AS\n",
        "  (\n",
        "  SELECT topic FROM\n",
        "    (\n",
        "    SELECT \n",
        "      SPLIT(topics, ',') AS topic\n",
        "    FROM\n",
        "      `{0}.{1}`\n",
        "    WHERE\n",
        "      topics != ''\n",
        "    ),\n",
        "    unnest(topic) topic\n",
        "  )\n",
        "\n",
        "  SELECT \n",
        "    REPLACE(topic, '-', '_') AS topic,\n",
        "    count(*) AS count\n",
        "  FROM\n",
        "    topics_flatten\n",
        "  GROUP BY\n",
        "    topic\n",
        "  \"\"\".format(dataset_id, table_id)\n",
        "  return sql\n",
        "\n",
        "df = client.query(get_topics_and_count(dataset_id, table_id)).to_dataframe()"
      ],
      "execution_count": 0,
      "outputs": []
    },
    {
      "metadata": {
        "id": "IcNHFq-jDY7J",
        "colab_type": "code",
        "outputId": "a083e9f3-551b-42db-89d2-aa7201b2e0e0",
        "colab": {
          "base_uri": "https://localhost:8080/",
          "height": 317
        }
      },
      "cell_type": "code",
      "source": [
        "df.hist(bins=100)"
      ],
      "execution_count": 6,
      "outputs": [
        {
          "output_type": "execute_result",
          "data": {
            "text/plain": [
              "array([[<matplotlib.axes._subplots.AxesSubplot object at 0x7f0f4f893668>]],\n",
              "      dtype=object)"
            ]
          },
          "metadata": {
            "tags": []
          },
          "execution_count": 6
        },
        {
          "output_type": "display_data",
          "data": {
            "image/png": "[encoded data removed]",
            "text/plain": [
              "<Figure size 432x288 with 1 Axes>"
            ]
          },
          "metadata": {
            "tags": []
          }
        }
      ]
    },
    {
      "metadata": {
        "id": "dFqK5QPQDiZj",
        "colab_type": "code",
        "outputId": "41ff3d5c-a399-4f55-e0bd-9ab3d0f418e2",
        "colab": {
          "base_uri": "https://localhost:8080/",
          "height": 35
        }
      },
      "cell_type": "code",
      "source": [
        "target_categories = list(df[df['count'] >= 100].topic)\n",
        "target_categories[:2]"
      ],
      "execution_count": 7,
      "outputs": [
        {
          "output_type": "execute_result",
          "data": {
            "text/plain": [
              "['acq', 'bop']"
            ]
          },
          "metadata": {
            "tags": []
          },
          "execution_count": 7
        }
      ]
    },
    {
      "metadata": {
        "id": "DAQIYAKo9zDA",
        "colab_type": "code",
        "outputId": "a4dbbc02-3916-4cae-dd3a-8e29fd304ebb",
        "colab": {
          "base_uri": "https://localhost:8080/",
          "height": 35
        }
      },
      "cell_type": "code",
      "source": [
        "def create_dataset(\n",
        "    dataset_id, table_id, categories=['acq'], embed='content_embed', n=512):\n",
        "  sql = \"\"\"\n",
        "  CREATE OR REPLACE TABLE `{0}.input_data`\n",
        "    AS\n",
        "    (\n",
        "      SELECT\n",
        "        STRUCT( {2} ) AS label,\n",
        "        STRUCT( {3} ) AS feature\n",
        "      FROM\n",
        "        `{0}.{1}`\n",
        "      WHERE\n",
        "        {4} > 0\n",
        "    )\n",
        "  \"\"\".format(\n",
        "      dataset_id, table_id,\n",
        "      get_one_hot_vectors(input_column='topics', categories=categories),\n",
        "      get_flattened_embeddings(input_column=embed, n=n),\n",
        "      get_number(input_column='topics', categories=categories))\n",
        "  return sql\n",
        "\n",
        "sql = create_dataset(\n",
        "  dataset_id, table_id,\n",
        "  categories=target_categories, embed='content_embed', n = 512)\n",
        "client.query(sql)"
      ],
      "execution_count": 8,
      "outputs": [
        {
          "output_type": "execute_result",
          "data": {
            "text/plain": [
              "<google.cloud.bigquery.job.QueryJob at 0x7f0f4f730a20>"
            ]
          },
          "metadata": {
            "tags": []
          },
          "execution_count": 8
        }
      ]
    },
    {
      "metadata": {
        "id": "jOSrAqrT-SkN",
        "colab_type": "text"
      },
      "cell_type": "markdown",
      "source": [
        "## Create Models"
      ]
    },
    {
      "metadata": {
        "id": "Mc2aON2f-Ojz",
        "colab_type": "code",
        "outputId": "3cd4971a-62ba-43f0-e67e-a42b5fe2614c",
        "colab": {
          "base_uri": "https://localhost:8080/",
          "height": 35
        }
      },
      "cell_type": "code",
      "source": [
        "def create_model(dataset_id, target='acq'):\n",
        "  sql = \"\"\"\n",
        "  CREATE OR REPLACE MODEL `{0}.model_{1}`\n",
        "  OPTIONS (\n",
        "      model_type='logistic_reg',\n",
        "      input_label_cols=['label']) AS\n",
        "  SELECT\n",
        "      label.{1} as label,\n",
        "      feature.*\n",
        "  FROM\n",
        "      `{0}.input_data`\n",
        "  \"\"\".format(dataset_id, target)\n",
        "\n",
        "  return sql\n",
        "\n",
        "sql = create_model(dataset_id, target='acq')\n",
        "client.query(sql)"
      ],
      "execution_count": 9,
      "outputs": [
        {
          "output_type": "execute_result",
          "data": {
            "text/plain": [
              "<google.cloud.bigquery.job.QueryJob at 0x7f0f4cef7358>"
            ]
          },
          "metadata": {
            "tags": []
          },
          "execution_count": 9
        }
      ]
    },
    {
      "metadata": {
        "id": "_QfdyOGa-f9f",
        "colab_type": "text"
      },
      "cell_type": "markdown",
      "source": [
        "## Evaluate Models"
      ]
    },
    {
      "metadata": {
        "id": "qVCysT6g-Y9m",
        "colab_type": "code",
        "outputId": "8c71cf7b-b03c-4640-96cc-0d82a365afbe",
        "colab": {
          "base_uri": "https://localhost:8080/",
          "height": 80
        }
      },
      "cell_type": "code",
      "source": [
        "def evaluate_model(dataset_id, target='acq', threshold=0.55):\n",
        "  sql = \"\"\"\n",
        "  SELECT\n",
        "    *\n",
        "  FROM\n",
        "    ML.EVALUATE(MODEL `{0}.model_{1}`,\n",
        "      (\n",
        "      SELECT\n",
        "        label.{1} as label,\n",
        "        feature.*\n",
        "      FROM\n",
        "        `{0}.input_data`),\n",
        "      STRUCT({2} AS threshold))\n",
        "  \"\"\".format(dataset_id, target, threshold)\n",
        "  return sql\n",
        "    \n",
        "sql = evaluate_model(dataset_id, target='acq', threshold=0.55)\n",
        "client.query(sql).to_dataframe()"
      ],
      "execution_count": 10,
      "outputs": [
        {
          "output_type": "execute_result",
          "data": {
            "text/html": [
              "<div>\n",
              "<style scoped>\n",
              "    .dataframe tbody tr th:only-of-type {\n",
              "        vertical-align: middle;\n",
              "    }\n",
              "\n",
              "    .dataframe tbody tr th {\n",
              "        vertical-align: top;\n",
              "    }\n",
              "\n",
              "    .dataframe thead th {\n",
              "        text-align: right;\n",
              "    }\n",
              "</style>\n",
              "<table border=\"1\" class=\"dataframe\">\n",
              "  <thead>\n",
              "    <tr style=\"text-align: right;\">\n",
              "      <th></th>\n",
              "      <th>precision</th>\n",
              "      <th>recall</th>\n",
              "      <th>accuracy</th>\n",
              "      <th>f1_score</th>\n",
              "      <th>log_loss</th>\n",
              "      <th>roc_auc</th>\n",
              "    </tr>\n",
              "  </thead>\n",
              "  <tbody>\n",
              "    <tr>\n",
              "      <th>0</th>\n",
              "      <td>0.664107</td>\n",
              "      <td>0.9</td>\n",
              "      <td>0.864719</td>\n",
              "      <td>0.764265</td>\n",
              "      <td>0.395869</td>\n",
              "      <td>0.948135</td>\n",
              "    </tr>\n",
              "  </tbody>\n",
              "</table>\n",
              "</div>"
            ],
            "text/plain": [
              "   precision  recall  accuracy  f1_score  log_loss   roc_auc\n",
              "0   0.664107     0.9  0.864719  0.764265  0.395869  0.948135"
            ]
          },
          "metadata": {
            "tags": []
          },
          "execution_count": 10
        }
      ]
    },
    {
      "metadata": {
        "id": "6Rq8LkEN-lBp",
        "colab_type": "code",
        "colab": {}
      },
      "cell_type": "code",
      "source": [
        "def evaluate_model_roc(dataset_id, target='acq'):\n",
        "  sql = \"\"\"\n",
        "  SELECT\n",
        "    *\n",
        "  FROM\n",
        "    ML.ROC_CURVE\n",
        "    (\n",
        "      MODEL `{0}.model_{1}`,\n",
        "      (\n",
        "        SELECT\n",
        "          label.{1} as label,\n",
        "          feature.*\n",
        "        FROM\n",
        "          `{0}.input_data`\n",
        "      )\n",
        "    )\n",
        "  \"\"\".format(dataset_id, target)\n",
        "  return sql\n",
        "\n",
        "sql = evaluate_model_roc(dataset_id, target='acq')\n",
        "df = client.query(sql).to_dataframe()"
      ],
      "execution_count": 0,
      "outputs": []
    },
    {
      "metadata": {
        "id": "_2xdr1i3-pLb",
        "colab_type": "code",
        "outputId": "ac5a897f-af2d-48ab-8eb4-b9927375bdcd",
        "colab": {
          "base_uri": "https://localhost:8080/",
          "height": 314
        }
      },
      "cell_type": "code",
      "source": [
        "df.plot(x='false_positive_rate', y='recall', grid=True, title='roc curve')"
      ],
      "execution_count": 12,
      "outputs": [
        {
          "output_type": "execute_result",
          "data": {
            "text/plain": [
              "<matplotlib.axes._subplots.AxesSubplot at 0x7f0f4f889ef0>"
            ]
          },
          "metadata": {
            "tags": []
          },
          "execution_count": 12
        },
        {
          "output_type": "display_data",
          "data": {
            "image/png": "[encoded data removed]",
            "text/plain": [
              "<Figure size 432x288 with 1 Axes>"
            ]
          },
          "metadata": {
            "tags": []
          }
        }
      ]
    },
    {
      "metadata": {
        "id": "jqxoMHiz-rwa",
        "colab_type": "code",
        "colab": {}
      },
      "cell_type": "code",
      "source": [
        "def evaluate_model_pr(target='acq'):\n",
        "  sql = \"\"\"\n",
        "  SELECT\n",
        "    recall,\n",
        "    true_positives / (true_positives + false_positives) AS precision\n",
        "  FROM\n",
        "    ML.ROC_CURVE(\n",
        "      MODEL `{0}.model_{1}`,\n",
        "      (SELECT label.{1} as label, feature.* FROM `{0}.input_data`))\n",
        "  \"\"\".format(dataset_id, target)\n",
        "  return sql\n",
        "\n",
        "sql = evaluate_model_pr(target='acq')\n",
        "df = client.query(sql).to_dataframe()"
      ],
      "execution_count": 0,
      "outputs": []
    },
    {
      "metadata": {
        "id": "KBJP_mwM_lQ7",
        "colab_type": "code",
        "colab": {
          "base_uri": "https://localhost:8080/",
          "height": 313
        },
        "outputId": "8523cdfd-7fe9-4e1d-99e8-7186d2200501"
      },
      "cell_type": "code",
      "source": [
        "df.plot(x='precision', y='recall', grid=True, title='precision recall curve')"
      ],
      "execution_count": 14,
      "outputs": [
        {
          "output_type": "execute_result",
          "data": {
            "text/plain": [
              "<matplotlib.axes._subplots.AxesSubplot at 0x7f0f4ce262b0>"
            ]
          },
          "metadata": {
            "tags": []
          },
          "execution_count": 14
        },
        {
          "output_type": "display_data",
          "data": {
            "image/png": "[encoded data removed]",
            "text/plain": [
              "<Figure size 432x288 with 1 Axes>"
            ]
          },
          "metadata": {
            "tags": []
          }
        }
      ]
    },
    {
      "metadata": {
        "id": "JPTHEt7M-xaG",
        "colab_type": "code",
        "outputId": "55906bae-cd81-4bdd-9477-49aa575181c0",
        "colab": {
          "base_uri": "https://localhost:8080/",
          "height": 111
        }
      },
      "cell_type": "code",
      "source": [
        "def evaluate_model_confusion_matrix(target='acq'):\n",
        "    sql = \"\"\"\n",
        "    SELECT\n",
        "      *\n",
        "    FROM\n",
        "      ML.CONFUSION_MATRIX(MODEL `{0}.model_{1}`,\n",
        "      (\n",
        "        SELECT\n",
        "          label.{1} as label,\n",
        "          feature.*\n",
        "        FROM\n",
        "          `{0}.input_data`))\n",
        "    \"\"\".format(dataset_id, target)\n",
        "    return sql\n",
        "\n",
        "sql = evaluate_model_confusion_matrix(target='acq')\n",
        "client.query(sql).to_dataframe()"
      ],
      "execution_count": 15,
      "outputs": [
        {
          "output_type": "execute_result",
          "data": {
            "text/html": [
              "<div>\n",
              "<style scoped>\n",
              "    .dataframe tbody tr th:only-of-type {\n",
              "        vertical-align: middle;\n",
              "    }\n",
              "\n",
              "    .dataframe tbody tr th {\n",
              "        vertical-align: top;\n",
              "    }\n",
              "\n",
              "    .dataframe thead th {\n",
              "        text-align: right;\n",
              "    }\n",
              "</style>\n",
              "<table border=\"1\" class=\"dataframe\">\n",
              "  <thead>\n",
              "    <tr style=\"text-align: right;\">\n",
              "      <th></th>\n",
              "      <th>expected_label</th>\n",
              "      <th>_0</th>\n",
              "      <th>_1</th>\n",
              "    </tr>\n",
              "  </thead>\n",
              "  <tbody>\n",
              "    <tr>\n",
              "      <th>0</th>\n",
              "      <td>0</td>\n",
              "      <td>5610</td>\n",
              "      <td>1250</td>\n",
              "    </tr>\n",
              "    <tr>\n",
              "      <th>1</th>\n",
              "      <td>1</td>\n",
              "      <td>181</td>\n",
              "      <td>2029</td>\n",
              "    </tr>\n",
              "  </tbody>\n",
              "</table>\n",
              "</div>"
            ],
            "text/plain": [
              "   expected_label    _0    _1\n",
              "0               0  5610  1250\n",
              "1               1   181  2029"
            ]
          },
          "metadata": {
            "tags": []
          },
          "execution_count": 15
        }
      ]
    },
    {
      "metadata": {
        "id": "LeO9Afw1-47G",
        "colab_type": "text"
      },
      "cell_type": "markdown",
      "source": [
        "## Multi-Class Logistic Regression"
      ]
    },
    {
      "metadata": {
        "id": "b730TAUs_CDF",
        "colab_type": "code",
        "outputId": "09415e1c-668f-4399-f6e7-7eea5bd5c11f",
        "colab": {
          "base_uri": "https://localhost:8080/",
          "height": 71
        }
      },
      "cell_type": "code",
      "source": [
        "for target_category in target_categories[:3]:\n",
        "  print(\"Creating a model for {0}...\".format(target_category))\n",
        "  client.query(create_model(dataset_id, target=target_category))"
      ],
      "execution_count": 18,
      "outputs": [
        {
          "output_type": "stream",
          "text": [
            "Creating a model for acq...\n",
            "Creating a model for bop...\n",
            "Creating a model for cpi...\n"
          ],
          "name": "stdout"
        }
      ]
    },
    {
      "metadata": {
        "id": "_23cHG33_Fb0",
        "colab_type": "code",
        "outputId": "946e1c16-3ca3-407b-baf0-28080cca33e2",
        "colab": {
          "base_uri": "https://localhost:8080/",
          "height": 71
        }
      },
      "cell_type": "code",
      "source": [
        "d_cat_to_eval = {}\n",
        "\n",
        "for target_category in target_categories[:3]:\n",
        "  print(\"Evaluating a model for {0}...\".format(target_category))\n",
        "  sql = evaluate_model_roc(dataset_id, target=target_category)\n",
        "  d_cat_to_eval[target_category] = client.query(sql).to_dataframe()"
      ],
      "execution_count": 25,
      "outputs": [
        {
          "output_type": "stream",
          "text": [
            "Evaluating a model for acq...\n",
            "Evaluating a model for bop...\n",
            "Evaluating a model for cpi...\n"
          ],
          "name": "stdout"
        }
      ]
    },
    {
      "metadata": {
        "id": "GzoiciOj_J4r",
        "colab_type": "code",
        "outputId": "cab69f53-3ebe-4e41-e8cb-4126a19cc7c6",
        "colab": {
          "base_uri": "https://localhost:8080/",
          "height": 314
        }
      },
      "cell_type": "code",
      "source": [
        "d_cat_to_eval['acq'].plot(x='false_positive_rate', y='recall', grid=True, title='roc curve')"
      ],
      "execution_count": 26,
      "outputs": [
        {
          "output_type": "execute_result",
          "data": {
            "text/plain": [
              "<matplotlib.axes._subplots.AxesSubplot at 0x7f0f4f726fd0>"
            ]
          },
          "metadata": {
            "tags": []
          },
          "execution_count": 26
        },
        {
          "output_type": "display_data",
          "data": {
            "image/png": "[encoded data removed]",
            "text/plain": [
              "<Figure size 432x288 with 1 Axes>"
            ]
          },
          "metadata": {
            "tags": []
          }
        }
      ]
    },
    {
      "metadata": {
        "id": "-BRvczlA_L_i",
        "colab_type": "code",
        "outputId": "aa81e88b-6d90-4bd8-cf0d-b3c88c798c32",
        "colab": {
          "base_uri": "https://localhost:8080/",
          "height": 314
        }
      },
      "cell_type": "code",
      "source": [
        "d_cat_to_eval['bop'].plot(x='false_positive_rate', y='recall', grid=True, title='roc curve')"
      ],
      "execution_count": 27,
      "outputs": [
        {
          "output_type": "execute_result",
          "data": {
            "text/plain": [
              "<matplotlib.axes._subplots.AxesSubplot at 0x7f0f4cd967b8>"
            ]
          },
          "metadata": {
            "tags": []
          },
          "execution_count": 27
        },
        {
          "output_type": "display_data",
          "data": {
            "image/png": "[encoded data removed]",
            "text/plain": [
              "<Figure size 432x288 with 1 Axes>"
            ]
          },
          "metadata": {
            "tags": []
          }
        }
      ]
    },
    {
      "metadata": {
        "id": "6IQ37Nfc_Nff",
        "colab_type": "code",
        "outputId": "f22ac616-5db4-4b05-abb7-d076123e2948",
        "colab": {
          "base_uri": "https://localhost:8080/",
          "height": 314
        }
      },
      "cell_type": "code",
      "source": [
        "d_cat_to_eval['cpi'].plot(x='false_positive_rate', y='recall', grid=True, title='roc curve')"
      ],
      "execution_count": 28,
      "outputs": [
        {
          "output_type": "execute_result",
          "data": {
            "text/plain": [
              "<matplotlib.axes._subplots.AxesSubplot at 0x7f0f4c9ea630>"
            ]
          },
          "metadata": {
            "tags": []
          },
          "execution_count": 28
        },
        {
          "output_type": "display_data",
          "data": {
            "image/png": "[encoded data removed]",
            "text/plain": [
              "<Figure size 432x288 with 1 Axes>"
            ]
          },
          "metadata": {
            "tags": []
          }
        }
      ]
    }
  ]
}