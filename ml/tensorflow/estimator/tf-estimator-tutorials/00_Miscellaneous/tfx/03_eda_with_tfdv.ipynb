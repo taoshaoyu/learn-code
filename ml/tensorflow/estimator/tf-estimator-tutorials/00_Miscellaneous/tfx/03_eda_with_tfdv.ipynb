{
 "cells": [
  {
   "cell_type": "markdown",
   "metadata": {},
   "source": [
    "# Analyzing and Validating Data using TensorFlow Data Validation (TFDV)"
   ]
  },
  {
   "cell_type": "markdown",
   "metadata": {},
   "source": [
    "Building a successful machine learning (ML) system involves more than training a model. In this two-part article discusses the role of [TensorFlow Data Validation](https://www.tensorflow.org/tfx/data_validation/get_started) (TFDV) library in performing data exploration and descriptive analytics during experimentation, as well as in validating the incoming data for training or prediction during production. \n",
    "\n",
    "This tutorial shows you step-by-step how to use TFDV to analyze and validate data for ML on Google Cloud Platform (GCP). \n",
    "\n",
    "The objective of this tutorial is to:\n",
    "1. Exrtact data from BigQuery to GCS.\n",
    "2. Generate statistics from the data using TFDV.\n",
    "3. Explore and visualise the data statistics.\n",
    "4. Generate a Schema for the data using TFDV.\n",
    "5. Extract new data from BigQuery.\n",
    "6. Validate the new data using the generated Schema."
   ]
  },
  {
   "cell_type": "markdown",
   "metadata": {},
   "source": [
    "### Install requirements\n",
    "\n",
    "Install the required packages for the tutorial:"
   ]
  },
  {
   "cell_type": "code",
   "execution_count": null,
   "metadata": {},
   "outputs": [],
   "source": [
    "!pip install -U tensorflow-data-validation==0.11.0\n",
    "!pip install -U apache-beam[gcp]==2.8.0\n",
    "!pip install -U google_cloud_bigquery==1.18.0\n",
    "!pip install -U python-snappy==0.5.4"
   ]
  },
  {
   "cell_type": "code",
   "execution_count": 3,
   "metadata": {},
   "outputs": [],
   "source": [
    "import os\n",
    "import tensorflow as tf \n",
    "import apache_beam as beam \n",
    "import tensorflow_data_validation as tfdv\n",
    "from google.cloud import bigquery\n",
    "from datetime import datetime"
   ]
  },
  {
   "cell_type": "markdown",
   "metadata": {},
   "source": [
    "Verify the version of the installed packages:"
   ]
  },
  {
   "cell_type": "code",
   "execution_count": 4,
   "metadata": {},
   "outputs": [
    {
     "name": "stdout",
     "output_type": "stream",
     "text": [
      "TF version: 1.14.0\n",
      "TFDV version: 0.11.0\n",
      "Beam version: 2.8.0\n",
      "BQ SDK version: 1.18.0\n"
     ]
    }
   ],
   "source": [
    "print \"TF version:\", tf.__version__\n",
    "print \"TFDV version:\", tfdv.__version__\n",
    "print \"Beam version:\", beam.__version__\n",
    "print \"BQ SDK version:\", bigquery.__version__"
   ]
  },
  {
   "cell_type": "markdown",
   "metadata": {},
   "source": [
    "### Setup\n",
    "To get started, set your GCP **PROJECT_ID**, **BUCKET_NAME**, and **REGION** to the following variables. [Create a GCP Project](console.cloud.google.com/projectcreate) if you don't have one. [Create a regional Cloud Storage bucket](https://console.cloud.google.com/storage/create-bucket) if you don't have one."
   ]
  },
  {
   "cell_type": "code",
   "execution_count": 5,
   "metadata": {
    "scrolled": true
   },
   "outputs": [],
   "source": [
    "LOCAL = True # Change to false to run on the GCP\n",
    "\n",
    "PROJECT_ID = 'validateflow' # Set your GCP Project Id\n",
    "BUCKET_NAME = 'validateflow' # Set your Bucket name\n",
    "REGION = 'europe-west1' # Set the region for Dataflow jobs\n",
    "\n",
    "ROOT = './tfdv' if LOCAL else 'gs://{}/tfdv'.format(BUCKET_NAME)\n",
    "\n",
    "DATA_DIR = ROOT + '/data/' # Location to store data\n",
    "SCHEMA_DIR = ROOT + '/schema/' # Location to store data schema \n",
    "STATS_DIR = ROOT +'/stats/' # Location to store stats \n",
    "STAGING_DIR = ROOT + '/job/staging/' # Dataflow staging directory on GCP\n",
    "TEMP_DIR =  ROOT + '/job/temp/' # Dataflow temporary directory on GCP"
   ]
  },
  {
   "cell_type": "markdown",
   "metadata": {},
   "source": [
    "Cleanup working directory..."
   ]
  },
  {
   "cell_type": "code",
   "execution_count": 6,
   "metadata": {},
   "outputs": [
    {
     "name": "stdout",
     "output_type": "stream",
     "text": [
      "Removing ./tfdv contents...\n",
      "Creating working directory: ./tfdv\n"
     ]
    }
   ],
   "source": [
    "if tf.gfile.Exists(ROOT):\n",
    "    print(\"Removing {} contents...\".format(ROOT))\n",
    "    tf.gfile.DeleteRecursively(ROOT)\n",
    "\n",
    "print(\"Creating working directory: {}\".format(ROOT))\n",
    "tf.gfile.MkDir(ROOT)"
   ]
  },
  {
   "cell_type": "markdown",
   "metadata": {},
   "source": [
    "### Dataset"
   ]
  },
  {
   "cell_type": "markdown",
   "metadata": {},
   "source": [
    "In this tutorial, we will use the [flights](https://bigquery.cloud.google.com/table/bigquery-samples:airline_ontime_data.flights?pli=1&tab=schema) data table, which is a publically available sample data in [BigQuery](https://bigquery.cloud.google.com/dataset/bigquery-samples:airline_ontime_data?pli=1). \n",
    "\n",
    "The table has more than 70 million records on internal US flights, including information on date, airlline, departure airport, arrival airport, departure schedule, actual departure time, arrival schedule, and actual arrival time.\n",
    "\n",
    "You can use the [BigQuery](console.cloud.google.com/bigquery) to explore the data, or you can run the following cell, which counts the number of flights by year.\n"
   ]
  },
  {
   "cell_type": "code",
   "execution_count": null,
   "metadata": {},
   "outputs": [],
   "source": [
    "%%bigquery \n",
    "\n",
    "SELECT\n",
    "    EXTRACT(YEAR FROM CAST(date as DATE)) as year,\n",
    "    COUNT(*) as flight_count\n",
    "FROM \n",
    "    `bigquery-samples.airline_ontime_data.flights`\n",
    "GROUP BY\n",
    "    year\n",
    "ORDER BY \n",
    "    year DESC"
   ]
  },
  {
   "cell_type": "markdown",
   "metadata": {},
   "source": [
    "We have data from 2002 to 2012. The dataset is ~8GB, which might be too big to store into memory for exploration. However, you can use TFDV to peform the data crunching on GCP at scale using Cloud Dataflow, to produce the statistics that can be easily loaded into memory, visualized and analzyed."
   ]
  },
  {
   "cell_type": "markdown",
   "metadata": {},
   "source": [
    "## 1. Extract the data from BigQuery to GCS\n",
    "In this step, we will extract the data we want to analyze from BigQuery, convert it to TFRecord files, and store the data files to Cloud Storage (GCS). This data file in GCS will then be used by TFDV. We are going to use Apache Beam to  accomplish this.\n",
    "\n",
    "Let's say that you use this dataset to estimate the arrival delay of a particular flight using ML. Note that, in this tutorial, we are not focusing on building the model, rather we are focusing on analyzing and validating the data changes over time. We are going to use **data in 2010-2011 to generate the schema**, while validating **data in 2012 to identify anomalies**.\n",
    "\n",
    "Note that, in more realistic scenarios, new flights data arrives on daily or weekly basis to your data warehouse, and you would validate this day-worth of data against the schema. The purpose of this example to show how this can be done at scale (using year-worth of data) to identify anomalies.\n",
    "\n",
    "The data will be extracted with the following columns:\n",
    "* **fligt_date**: The scheduled flight date\n",
    "* **flight_month**: The scheduled flight abbreviated month name \n",
    "* **flight_day**: The scheduled flight day of month \n",
    "* **flight_week_of_day**: The scheduled flight abbreviated week day name \n",
    "* **airline**: Abbreviated airline name\n",
    "* **departure_airport**: Abbreviated departure airport\n",
    "* **arrival_airport**: Abbreviated arrival airport\n",
    "* **departure_hour**: departure hour\n",
    "* **departure_minute**: departure hour\n",
    "* **departure_time_slot**: (6am - 9am), (9am - 12pm), (12pm - 3pm), (3pm - 6pm),  (6pm - 9pm), (9pm - 12am), (12am - 6am)\n",
    "* **departure_delay**: departure delay (in minutes)\n",
    "* **arrival_delay**: arrival delay (in seconds)"
   ]
  },
  {
   "cell_type": "markdown",
   "metadata": {},
   "source": [
    "### Implementing the source query"
   ]
  },
  {
   "cell_type": "code",
   "execution_count": 7,
   "metadata": {},
   "outputs": [],
   "source": [
    "def generate_query(date_from=None, date_to=None, limit=None):\n",
    "    query =\"\"\"\n",
    "        SELECT \n",
    "          CAST(date AS DATE) AS flight_date, \n",
    "          FORMAT_DATE('%b',  CAST(date AS DATE)) AS flight_month, \n",
    "          EXTRACT(DAY FROM CAST(date AS DATE)) AS flight_day, \n",
    "          FORMAT_DATE('%a',  CAST(date AS DATE)) AS flight_day_of_week, \n",
    "          airline,\n",
    "          departure_airport,\n",
    "          arrival_airport, \n",
    "          CAST(SUBSTR(LPAD(CAST(departure_schedule AS STRING), 4, '0'), 0, 2) AS INT64) AS departure_schedule_hour, \n",
    "          CAST(SUBSTR(LPAD(CAST(departure_schedule AS STRING), 4, '0'), 3, 2) AS INT64) AS departure_schedule_minute, \n",
    "          CASE \n",
    "            WHEN departure_schedule BETWEEN 600 AND 900 THEN '[6:00am - 9:00am]'\n",
    "            WHEN departure_schedule BETWEEN 900 AND 1200 THEN '[9:00am - 12:pm]'\n",
    "            WHEN departure_schedule BETWEEN 1200 AND 1500 THEN '[12:00pm - 3:00pm]'\n",
    "            WHEN departure_schedule BETWEEN 1500 AND 1800 THEN '[3:00pm - 6:00pm]'\n",
    "            WHEN departure_schedule BETWEEN 1800 AND 2100 THEN '[6:00pm - 9:00pm]'\n",
    "            WHEN departure_schedule BETWEEN 2100 AND 2400 THEN '[9:00pm - 12:00am]'\n",
    "            ELSE '[12:00am - 6:00am]'\n",
    "          END AS departure_time_slot,\n",
    "          departure_delay,\n",
    "          arrival_delay\n",
    "        FROM \n",
    "          `bigquery-samples.airline_ontime_data.flights`\n",
    "        \"\"\"\n",
    "    if date_from:\n",
    "        query += \"WHERE CAST(date as DATE) >= CAST('{}' as DATE) \\n\".format(date_from)\n",
    "        if date_to:\n",
    "            query += \"AND CAST(date as DATE) < CAST('{}' as DATE) \\n\".format(date_to)\n",
    "    elif date_to:\n",
    "        query += \"WHERE CAST(date as DATE) < CAST('{}' as DATE) \\n\".format(date_to)\n",
    "    \n",
    "    if limit:\n",
    "        query  += \"LIMIT {}\".format(limit)\n",
    "        \n",
    "    return query"
   ]
  },
  {
   "cell_type": "markdown",
   "metadata": {},
   "source": [
    "You can run the following cell to see a sample of the data to be extracted..."
   ]
  },
  {
   "cell_type": "code",
   "execution_count": null,
   "metadata": {},
   "outputs": [],
   "source": [
    "%%bigquery\n",
    "\n",
    "SELECT \n",
    "    CAST(date AS DATE) AS flight_date, \n",
    "    FORMAT_DATE('%b',  CAST(date AS DATE)) AS flight_month, \n",
    "    EXTRACT(DAY FROM CAST(date AS DATE)) AS flight_day, \n",
    "    FORMAT_DATE('%a',  CAST(date AS DATE)) AS flight_day_of_week, \n",
    "    airline,\n",
    "    departure_airport,\n",
    "    arrival_airport,\n",
    "    CAST(SUBSTR(LPAD(CAST(departure_schedule AS STRING), 4, '0'), 0, 2) AS INT64) AS departure_schedule_hour, \n",
    "    CAST(SUBSTR(LPAD(CAST(departure_schedule AS STRING), 4, '0'), 3, 2) AS INT64) AS departure_schedule_minute, \n",
    "    CASE \n",
    "        WHEN departure_schedule BETWEEN 600 AND 900 THEN '[6:00am - 9:00am]'\n",
    "        WHEN departure_schedule BETWEEN 900 AND 1200 THEN '[9:00am - 12:pm]'\n",
    "        WHEN departure_schedule BETWEEN 1200 AND 1500 THEN '[12:00pm - 3:00pm]'\n",
    "        WHEN departure_schedule BETWEEN 1500 AND 1800 THEN '[3:00pm - 6:00pm]'\n",
    "        WHEN departure_schedule BETWEEN 1800 AND 2100 THEN '[6:00pm - 9:00pm]'\n",
    "        WHEN departure_schedule BETWEEN 2100 AND 2400 THEN '[9:00pm - 12:00am]'\n",
    "        ELSE '[12:00am - 6:00am]'\n",
    "    END AS departure_time_slot,\n",
    "    departure_delay,\n",
    "    arrival_delay\n",
    "FROM \n",
    "    `bigquery-samples.airline_ontime_data.flights`\n",
    "LIMIT 5"
   ]
  },
  {
   "cell_type": "markdown",
   "metadata": {},
   "source": [
    "### Implementing helper functions"
   ]
  },
  {
   "cell_type": "code",
   "execution_count": 8,
   "metadata": {},
   "outputs": [],
   "source": [
    "def get_type_map(query):\n",
    "    bq_client = bigquery.Client()\n",
    "    query_job = bq_client.query(\"SELECT * FROM ({}) LIMIT 0\".format(query))\n",
    "    results = query_job.result()\n",
    "    type_map = {}\n",
    "    for field in results.schema:\n",
    "        type_map[field.name] = field.field_type\n",
    "    \n",
    "    return type_map\n",
    "\n",
    "def row_to_example(instance, type_map):\n",
    "    feature = {}\n",
    "    for key, value in instance.items():\n",
    "        data_type = type_map[key]\n",
    "        if value is None:\n",
    "            feature[key] = tf.train.Feature()\n",
    "        elif data_type == 'INTEGER':\n",
    "            feature[key] = tf.train.Feature(\n",
    "                int64_list=tf.train.Int64List(value=[value]))\n",
    "        elif data_type == 'FLOAT':\n",
    "            feature[key] = tf.train.Feature(\n",
    "                float_list=tf.train.FloatList(value=[value]))\n",
    "        else:\n",
    "            feature[key] = tf.train.Feature(\n",
    "                bytes_list=tf.train.BytesList(value=[tf.compat.as_bytes(value)]))\n",
    "            \n",
    "    return tf.train.Example(features=tf.train.Features(feature=feature))"
   ]
  },
  {
   "cell_type": "markdown",
   "metadata": {},
   "source": [
    "### Implementing the pipeline"
   ]
  },
  {
   "cell_type": "code",
   "execution_count": 9,
   "metadata": {},
   "outputs": [],
   "source": [
    "def run_pipeline(args):\n",
    "\n",
    "    source_query = args.pop('source_query')\n",
    "    sink_data_location = args.pop('sink_data_location')\n",
    "    runner = args['runner']\n",
    "    \n",
    "    pipeline_options = beam.options.pipeline_options.GoogleCloudOptions(**args)\n",
    "    print(pipeline_options)\n",
    "    \n",
    "    with beam.Pipeline(runner, options=pipeline_options) as pipeline:\n",
    "        (pipeline \n",
    "         | \"Read from BigQuery\">> beam.io.Read(beam.io.BigQuerySource(query = source_query, use_standard_sql = True))\n",
    "         | 'Convert to tf Example' >> beam.Map(lambda instance: row_to_example(instance, type_map))\n",
    "         | 'Serialize to String' >> beam.Map(lambda example: example.SerializeToString(deterministic=True))\n",
    "         | \"Write as TFRecords to GCS\" >> beam.io.WriteToTFRecord(\n",
    "                    file_path_prefix = sink_data_location+\"extract\", \n",
    "                    file_name_suffix=\".tfrecords\")\n",
    "        )\n",
    "        "
   ]
  },
  {
   "cell_type": "markdown",
   "metadata": {},
   "source": [
    "### Run the pipeline"
   ]
  },
  {
   "cell_type": "code",
   "execution_count": 10,
   "metadata": {},
   "outputs": [
    {
     "name": "stdout",
     "output_type": "stream",
     "text": [
      "Data will be extracted to: ./tfdv/data/20100101-20111231/\n",
      "Generating source query...\n",
      "Retrieving data type...\n",
      "Pipeline args are set.\n"
     ]
    }
   ],
   "source": [
    "runner = 'DirectRunner' if LOCAL else 'DataflowRunner'\n",
    "job_name = 'tfdv-flights-data-extraction-{}'.format(datetime.utcnow().strftime('%y%m%d-%H%M%S'))\n",
    "date_from =  '2010-01-01'\n",
    "date_to = '2011-12-31'\n",
    "data_location = os.path.join(DATA_DIR, \n",
    "        \"{}-{}/\".format(date_from.replace('-',''), date_to.replace('-','')))\n",
    "print(\"Data will be extracted to: {}\".format(data_location))\n",
    "\n",
    "print(\"Generating source query...\")\n",
    "limit = 100000 if LOCAL else None\n",
    "source_query = generate_query(date_from, date_to, limit)\n",
    "\n",
    "print(\"Retrieving data type...\")\n",
    "type_map = get_type_map(source_query)\n",
    "\n",
    "args = {\n",
    "    'job_name': job_name,\n",
    "    'runner': runner,\n",
    "    'source_query': source_query,\n",
    "    'type_map': type_map,\n",
    "    'sink_data_location': data_location,\n",
    "    'project': PROJECT_ID,\n",
    "    'region': REGION,\n",
    "    'staging_location': STAGING_DIR,\n",
    "    'temp_location': TEMP_DIR,\n",
    "    'save_main_session': True,\n",
    "    'setup_file': './setup.py'\n",
    "}\n",
    "print(\"Pipeline args are set.\")"
   ]
  },
  {
   "cell_type": "markdown",
   "metadata": {},
   "source": [
    "Your notebook will freeze until the Apache Beam job finishes..."
   ]
  },
  {
   "cell_type": "code",
   "execution_count": 11,
   "metadata": {},
   "outputs": [
    {
     "name": "stdout",
     "output_type": "stream",
     "text": [
      "Running data extraction pipeline...\n",
      "GoogleCloudOptions(dataflow_endpoint=https://dataflow.googleapis.com, job_name=tfdv-flights-data-extraction-190908-141443, labels=None, no_auth=False, project=validateflow, region=europe-west1, service_account_email=None, staging_location=./tfdv/job/staging/, temp_location=./tfdv/job/temp/, template_location=None)\n"
     ]
    },
    {
     "name": "stderr",
     "output_type": "stream",
     "text": [
      "/Users/khalidsalama/Technology/python-venvs/py27-venv/lib/python2.7/site-packages/apache_beam/runners/direct/direct_runner.py:360: DeprecationWarning: options is deprecated since First stable release. References to <pipeline>.options will not be supported\n",
      "  pipeline.replace_all(_get_transform_overrides(pipeline.options))\n",
      "WARNING:root:Dataset validateflow:temp_dataset_8bcd023761644c90abc48a257ff5b99b does not exist so we will create it as temporary with location=US\n"
     ]
    },
    {
     "name": "stdout",
     "output_type": "stream",
     "text": [
      "Pipeline is done.\n"
     ]
    }
   ],
   "source": [
    "tf.logging.set_verbosity(tf.logging.ERROR)\n",
    "\n",
    "print(\"Running data extraction pipeline...\")\n",
    "run_pipeline(args)\n",
    "print(\"Pipeline is done.\")"
   ]
  },
  {
   "cell_type": "markdown",
   "metadata": {},
   "source": [
    "You can list the extracted data files..."
   ]
  },
  {
   "cell_type": "code",
   "execution_count": 12,
   "metadata": {},
   "outputs": [
    {
     "name": "stdout",
     "output_type": "stream",
     "text": [
      "extract-00000-of-00100.tfrecords extract-00050-of-00100.tfrecords\r\n",
      "extract-00001-of-00100.tfrecords extract-00051-of-00100.tfrecords\r\n",
      "extract-00002-of-00100.tfrecords extract-00052-of-00100.tfrecords\r\n",
      "extract-00003-of-00100.tfrecords extract-00053-of-00100.tfrecords\r\n",
      "extract-00004-of-00100.tfrecords extract-00054-of-00100.tfrecords\r\n",
      "extract-00005-of-00100.tfrecords extract-00055-of-00100.tfrecords\r\n",
      "extract-00006-of-00100.tfrecords extract-00056-of-00100.tfrecords\r\n",
      "extract-00007-of-00100.tfrecords extract-00057-of-00100.tfrecords\r\n",
      "extract-00008-of-00100.tfrecords extract-00058-of-00100.tfrecords\r\n",
      "extract-00009-of-00100.tfrecords extract-00059-of-00100.tfrecords\r\n",
      "extract-00010-of-00100.tfrecords extract-00060-of-00100.tfrecords\r\n",
      "extract-00011-of-00100.tfrecords extract-00061-of-00100.tfrecords\r\n",
      "extract-00012-of-00100.tfrecords extract-00062-of-00100.tfrecords\r\n",
      "extract-00013-of-00100.tfrecords extract-00063-of-00100.tfrecords\r\n",
      "extract-00014-of-00100.tfrecords extract-00064-of-00100.tfrecords\r\n",
      "extract-00015-of-00100.tfrecords extract-00065-of-00100.tfrecords\r\n",
      "extract-00016-of-00100.tfrecords extract-00066-of-00100.tfrecords\r\n",
      "extract-00017-of-00100.tfrecords extract-00067-of-00100.tfrecords\r\n",
      "extract-00018-of-00100.tfrecords extract-00068-of-00100.tfrecords\r\n",
      "extract-00019-of-00100.tfrecords extract-00069-of-00100.tfrecords\r\n",
      "extract-00020-of-00100.tfrecords extract-00070-of-00100.tfrecords\r\n",
      "extract-00021-of-00100.tfrecords extract-00071-of-00100.tfrecords\r\n",
      "extract-00022-of-00100.tfrecords extract-00072-of-00100.tfrecords\r\n",
      "extract-00023-of-00100.tfrecords extract-00073-of-00100.tfrecords\r\n",
      "extract-00024-of-00100.tfrecords extract-00074-of-00100.tfrecords\r\n",
      "extract-00025-of-00100.tfrecords extract-00075-of-00100.tfrecords\r\n",
      "extract-00026-of-00100.tfrecords extract-00076-of-00100.tfrecords\r\n",
      "extract-00027-of-00100.tfrecords extract-00077-of-00100.tfrecords\r\n",
      "extract-00028-of-00100.tfrecords extract-00078-of-00100.tfrecords\r\n",
      "extract-00029-of-00100.tfrecords extract-00079-of-00100.tfrecords\r\n",
      "extract-00030-of-00100.tfrecords extract-00080-of-00100.tfrecords\r\n",
      "extract-00031-of-00100.tfrecords extract-00081-of-00100.tfrecords\r\n",
      "extract-00032-of-00100.tfrecords extract-00082-of-00100.tfrecords\r\n",
      "extract-00033-of-00100.tfrecords extract-00083-of-00100.tfrecords\r\n",
      "extract-00034-of-00100.tfrecords extract-00084-of-00100.tfrecords\r\n",
      "extract-00035-of-00100.tfrecords extract-00085-of-00100.tfrecords\r\n",
      "extract-00036-of-00100.tfrecords extract-00086-of-00100.tfrecords\r\n",
      "extract-00037-of-00100.tfrecords extract-00087-of-00100.tfrecords\r\n",
      "extract-00038-of-00100.tfrecords extract-00088-of-00100.tfrecords\r\n",
      "extract-00039-of-00100.tfrecords extract-00089-of-00100.tfrecords\r\n",
      "extract-00040-of-00100.tfrecords extract-00090-of-00100.tfrecords\r\n",
      "extract-00041-of-00100.tfrecords extract-00091-of-00100.tfrecords\r\n",
      "extract-00042-of-00100.tfrecords extract-00092-of-00100.tfrecords\r\n",
      "extract-00043-of-00100.tfrecords extract-00093-of-00100.tfrecords\r\n",
      "extract-00044-of-00100.tfrecords extract-00094-of-00100.tfrecords\r\n",
      "extract-00045-of-00100.tfrecords extract-00095-of-00100.tfrecords\r\n",
      "extract-00046-of-00100.tfrecords extract-00096-of-00100.tfrecords\r\n",
      "extract-00047-of-00100.tfrecords extract-00097-of-00100.tfrecords\r\n",
      "extract-00048-of-00100.tfrecords extract-00098-of-00100.tfrecords\r\n",
      "extract-00049-of-00100.tfrecords extract-00099-of-00100.tfrecords\r\n"
     ]
    }
   ],
   "source": [
    "#!gsutil ls {DATA_DIR}/*\n",
    "!ls {DATA_DIR}/*"
   ]
  },
  {
   "cell_type": "markdown",
   "metadata": {},
   "source": [
    "## 2. Generate Statistics from the Data using TFDV\n",
    "In this step, we will use TFDV to analyze the data in GCS and compute various statistics from it. This operation requires (multiple) full pass on the data to compute mean, max, min, etc., which needs to run at scale to analyze large dataset. \n",
    "\n",
    "If we run the analysis on a sample of data, we can use TFDV to compute the statistics locally. However, we can run the TFDV process using Cloud Dataflow for scalability. The generated statistics is stored as a proto buffer to GCS."
   ]
  },
  {
   "cell_type": "code",
   "execution_count": 13,
   "metadata": {},
   "outputs": [
    {
     "name": "stdout",
     "output_type": "stream",
     "text": [
      "GoogleCloudOptions(dataflow_endpoint=https://dataflow.googleapis.com, job_name=tfdv-flights-stats-gen-190908-141926, labels=None, no_auth=False, project=validateflow, region=europe-west1, service_account_email=None, staging_location=./tfdv/job/staging/, temp_location=./tfdv/job/temp/, template_location=None)\n",
      "Computing statistics...\n",
      "Statistics are computed and saved to: ./tfdv/stats/stats.pb\n"
     ]
    }
   ],
   "source": [
    "job_name = 'tfdv-flights-stats-gen-{}'.format(datetime.utcnow().strftime('%y%m%d-%H%M%S'))\n",
    "args['job_name'] = job_name\n",
    "stats_location = os.path.join(STATS_DIR, 'stats.pb')\n",
    "\n",
    "pipeline_options =  beam.options.pipeline_options.GoogleCloudOptions(**args)\n",
    "print(pipeline_options)\n",
    "\n",
    "print(\"Computing statistics...\")\n",
    "_ = tfdv.generate_statistics_from_tfrecord(\n",
    "    data_location=data_location, \n",
    "    output_path=stats_location,\n",
    "    stats_options=tfdv.StatsOptions(\n",
    "        sample_rate=.3\n",
    "    ),\n",
    "    pipeline_options = pipeline_options(**args)\n",
    ")\n",
    "\n",
    "print(\"Statistics are computed and saved to: {}\".format(stats_location))"
   ]
  },
  {
   "cell_type": "markdown",
   "metadata": {},
   "source": [
    "You can list saves statistics file..."
   ]
  },
  {
   "cell_type": "code",
   "execution_count": 14,
   "metadata": {},
   "outputs": [
    {
     "name": "stdout",
     "output_type": "stream",
     "text": [
      "./tfdv/stats/stats.pb\r\n"
     ]
    }
   ],
   "source": [
    "!ls {stats_location}\n",
    "#!gsutil ls {stats_location}"
   ]
  },
  {
   "cell_type": "markdown",
   "metadata": {},
   "source": [
    "## 3. Explore and Visualize the Statistics\n",
    "In this step, we use TFDV visualization capabilities to explore and analyze the data, using the computed statistics from the previous step, in order to identify data ranges, categorical columns vocabulary, missing values percentages, etc. This step helps to generate the expected schema of the data. TFDV uses [Facets](https://pair-code.github.io/facets/) capabilities for visualization.\n",
    "\n",
    "Using the visualization, you can identify the following properties of the features:\n",
    "* **Numeric Features**: min, max, mean, stdv, median, missing percentage etc.\n",
    "* **Categorical features**: unique values, frequency of values, missing percentage, etc."
   ]
  },
  {
   "cell_type": "code",
   "execution_count": 15,
   "metadata": {},
   "outputs": [
    {
     "data": {
      "text/html": [
       "<iframe id='facets-iframe' width=\"100%\" height=\"500px\"></iframe>\n",
       "        <script>\n",
       "        facets_iframe = document.getElementById('facets-iframe');\n",
       "        facets_html = '<link rel=\"import\" href=\"https://raw.githubusercontent.com/PAIR-code/facets/master/facets-dist/facets-jupyter.html\"><facets-overview proto-input=\"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\"></facets-overview>';\n",
       "        facets_iframe.contentWindow.document.write(facets_html);\n",
       "         facets_iframe.id = \"\";\n",
       "         setTimeout(() => {\n",
       "           facets_iframe.setAttribute('height', facets_iframe.contentWindow.document.body.offsetHeight + 'px')\n",
       "         }, 1500)\n",
       "         </script>"
      ],
      "text/plain": [
       "<IPython.core.display.HTML object>"
      ]
     },
     "metadata": {},
     "output_type": "display_data"
    }
   ],
   "source": [
    "stats = tfdv.load_statistics(stats_location)\n",
    "tfdv.visualize_statistics(stats)"
   ]
  },
  {
   "cell_type": "markdown",
   "metadata": {},
   "source": [
    "## 4. Generate Schema for the Data\n",
    "In this step, we generate schema for the data based on the statistics. The schema describes the data types, ranges, etc., which will be used for validating incoming new data. Before storing the generated schema to GCS, we can alter and extend this schema manually."
   ]
  },
  {
   "cell_type": "code",
   "execution_count": 16,
   "metadata": {},
   "outputs": [
    {
     "data": {
      "text/html": [
       "<div>\n",
       "<style scoped>\n",
       "    .dataframe tbody tr th:only-of-type {\n",
       "        vertical-align: middle;\n",
       "    }\n",
       "\n",
       "    .dataframe tbody tr th {\n",
       "        vertical-align: top;\n",
       "    }\n",
       "\n",
       "    .dataframe thead th {\n",
       "        text-align: right;\n",
       "    }\n",
       "</style>\n",
       "<table border=\"1\" class=\"dataframe\">\n",
       "  <thead>\n",
       "    <tr style=\"text-align: right;\">\n",
       "      <th></th>\n",
       "      <th>Type</th>\n",
       "      <th>Presence</th>\n",
       "      <th>Valency</th>\n",
       "      <th>Domain</th>\n",
       "    </tr>\n",
       "    <tr>\n",
       "      <th>Feature name</th>\n",
       "      <th></th>\n",
       "      <th></th>\n",
       "      <th></th>\n",
       "      <th></th>\n",
       "    </tr>\n",
       "  </thead>\n",
       "  <tbody>\n",
       "    <tr>\n",
       "      <th>'departure_time_slot'</th>\n",
       "      <td>STRING</td>\n",
       "      <td>required</td>\n",
       "      <td></td>\n",
       "      <td>'departure_time_slot'</td>\n",
       "    </tr>\n",
       "    <tr>\n",
       "      <th>'departure_schedule_hour'</th>\n",
       "      <td>INT</td>\n",
       "      <td>required</td>\n",
       "      <td></td>\n",
       "      <td>-</td>\n",
       "    </tr>\n",
       "    <tr>\n",
       "      <th>'departure_airport'</th>\n",
       "      <td>STRING</td>\n",
       "      <td>required</td>\n",
       "      <td></td>\n",
       "      <td>'departure_airport'</td>\n",
       "    </tr>\n",
       "    <tr>\n",
       "      <th>'arrival_delay'</th>\n",
       "      <td>FLOAT</td>\n",
       "      <td>required</td>\n",
       "      <td></td>\n",
       "      <td>-</td>\n",
       "    </tr>\n",
       "    <tr>\n",
       "      <th>'arrival_airport'</th>\n",
       "      <td>STRING</td>\n",
       "      <td>required</td>\n",
       "      <td></td>\n",
       "      <td>'arrival_airport'</td>\n",
       "    </tr>\n",
       "    <tr>\n",
       "      <th>'departure_schedule_minute'</th>\n",
       "      <td>INT</td>\n",
       "      <td>required</td>\n",
       "      <td></td>\n",
       "      <td>-</td>\n",
       "    </tr>\n",
       "    <tr>\n",
       "      <th>'airline'</th>\n",
       "      <td>STRING</td>\n",
       "      <td>required</td>\n",
       "      <td></td>\n",
       "      <td>'airline'</td>\n",
       "    </tr>\n",
       "    <tr>\n",
       "      <th>'flight_day'</th>\n",
       "      <td>INT</td>\n",
       "      <td>required</td>\n",
       "      <td></td>\n",
       "      <td>-</td>\n",
       "    </tr>\n",
       "    <tr>\n",
       "      <th>'flight_day_of_week'</th>\n",
       "      <td>STRING</td>\n",
       "      <td>required</td>\n",
       "      <td></td>\n",
       "      <td>'flight_day_of_week'</td>\n",
       "    </tr>\n",
       "    <tr>\n",
       "      <th>'flight_month'</th>\n",
       "      <td>STRING</td>\n",
       "      <td>required</td>\n",
       "      <td></td>\n",
       "      <td>'flight_month'</td>\n",
       "    </tr>\n",
       "    <tr>\n",
       "      <th>'departure_delay'</th>\n",
       "      <td>FLOAT</td>\n",
       "      <td>required</td>\n",
       "      <td></td>\n",
       "      <td>-</td>\n",
       "    </tr>\n",
       "    <tr>\n",
       "      <th>'flight_date'</th>\n",
       "      <td>BYTES</td>\n",
       "      <td>required</td>\n",
       "      <td></td>\n",
       "      <td>-</td>\n",
       "    </tr>\n",
       "  </tbody>\n",
       "</table>\n",
       "</div>"
      ],
      "text/plain": [
       "                               Type  Presence Valency                 Domain\n",
       "Feature name                                                                \n",
       "'departure_time_slot'        STRING  required          'departure_time_slot'\n",
       "'departure_schedule_hour'       INT  required                              -\n",
       "'departure_airport'          STRING  required            'departure_airport'\n",
       "'arrival_delay'               FLOAT  required                              -\n",
       "'arrival_airport'            STRING  required              'arrival_airport'\n",
       "'departure_schedule_minute'     INT  required                              -\n",
       "'airline'                    STRING  required                      'airline'\n",
       "'flight_day'                    INT  required                              -\n",
       "'flight_day_of_week'         STRING  required           'flight_day_of_week'\n",
       "'flight_month'               STRING  required                 'flight_month'\n",
       "'departure_delay'             FLOAT  required                              -\n",
       "'flight_date'                 BYTES  required                              -"
      ]
     },
     "metadata": {},
     "output_type": "display_data"
    },
    {
     "data": {
      "text/html": [
       "<div>\n",
       "<style scoped>\n",
       "    .dataframe tbody tr th:only-of-type {\n",
       "        vertical-align: middle;\n",
       "    }\n",
       "\n",
       "    .dataframe tbody tr th {\n",
       "        vertical-align: top;\n",
       "    }\n",
       "\n",
       "    .dataframe thead th {\n",
       "        text-align: right;\n",
       "    }\n",
       "</style>\n",
       "<table border=\"1\" class=\"dataframe\">\n",
       "  <thead>\n",
       "    <tr style=\"text-align: right;\">\n",
       "      <th></th>\n",
       "      <th>Values</th>\n",
       "    </tr>\n",
       "    <tr>\n",
       "      <th>Domain</th>\n",
       "      <th></th>\n",
       "    </tr>\n",
       "  </thead>\n",
       "  <tbody>\n",
       "    <tr>\n",
       "      <th>'departure_time_slot'</th>\n",
       "      <td>'[12:00am - 6:00am]', '[12:00pm - 3:00pm]', '[3:00pm - 6:00pm]', '[6:00am - 9:00am]', '[6:00pm - 9:00pm]', '[9:00am - 12:pm]', '[9:00pm - 12:00am]'</td>\n",
       "    </tr>\n",
       "    <tr>\n",
       "      <th>'departure_airport'</th>\n",
       "      <td>'ABI', 'ABQ', 'ACT', 'AGS', 'ASE', 'ATL', 'AUS', 'BHM', 'BOS', 'CAE', 'CID', 'CLE', 'CLL', 'CMH', 'COS', 'CVG', 'DAL', 'DCA', 'DEN', 'DFW', 'DTW', 'EWR', 'FLL', 'HOU', 'IND', 'IPL', 'MEM', 'MGM', 'MSN', 'MTJ', 'PIA', 'PIT', 'PNS', 'RKS', 'ROW', 'SAF', 'SAV', 'SJU', 'SNA', 'TPA', 'TUL'</td>\n",
       "    </tr>\n",
       "    <tr>\n",
       "      <th>'arrival_airport'</th>\n",
       "      <td>'DFW', 'ELP', 'EVV', 'EYW', 'FLO', 'FSD', 'GCC', 'GGG', 'GTF', 'LAX'</td>\n",
       "    </tr>\n",
       "    <tr>\n",
       "      <th>'airline'</th>\n",
       "      <td>'9E', 'AA', 'AS', 'B6', 'CO', 'DL', 'EV', 'F9', 'FL', 'MQ', 'OH', 'OO', 'UA', 'WN', 'XE'</td>\n",
       "    </tr>\n",
       "    <tr>\n",
       "      <th>'flight_day_of_week'</th>\n",
       "      <td>'Fri', 'Mon', 'Sat', 'Sun', 'Thu', 'Tue', 'Wed'</td>\n",
       "    </tr>\n",
       "    <tr>\n",
       "      <th>'flight_month'</th>\n",
       "      <td>'Apr', 'Aug', 'Dec', 'Feb', 'Jan', 'Jul', 'Jun', 'Mar', 'May', 'Nov', 'Oct', 'Sep'</td>\n",
       "    </tr>\n",
       "  </tbody>\n",
       "</table>\n",
       "</div>"
      ],
      "text/plain": [
       "                                                                                                                                                                                                                                                                                                              Values\n",
       "Domain                                                                                                                                                                                                                                                                                                              \n",
       "'departure_time_slot'  '[12:00am - 6:00am]', '[12:00pm - 3:00pm]', '[3:00pm - 6:00pm]', '[6:00am - 9:00am]', '[6:00pm - 9:00pm]', '[9:00am - 12:pm]', '[9:00pm - 12:00am]'                                                                                                                                          \n",
       "'departure_airport'    'ABI', 'ABQ', 'ACT', 'AGS', 'ASE', 'ATL', 'AUS', 'BHM', 'BOS', 'CAE', 'CID', 'CLE', 'CLL', 'CMH', 'COS', 'CVG', 'DAL', 'DCA', 'DEN', 'DFW', 'DTW', 'EWR', 'FLL', 'HOU', 'IND', 'IPL', 'MEM', 'MGM', 'MSN', 'MTJ', 'PIA', 'PIT', 'PNS', 'RKS', 'ROW', 'SAF', 'SAV', 'SJU', 'SNA', 'TPA', 'TUL'\n",
       "'arrival_airport'      'DFW', 'ELP', 'EVV', 'EYW', 'FLO', 'FSD', 'GCC', 'GGG', 'GTF', 'LAX'                                                                                                                                                                                                                         \n",
       "'airline'              '9E', 'AA', 'AS', 'B6', 'CO', 'DL', 'EV', 'F9', 'FL', 'MQ', 'OH', 'OO', 'UA', 'WN', 'XE'                                                                                                                                                                                                     \n",
       "'flight_day_of_week'   'Fri', 'Mon', 'Sat', 'Sun', 'Thu', 'Tue', 'Wed'                                                                                                                                                                                                                                              \n",
       "'flight_month'         'Apr', 'Aug', 'Dec', 'Feb', 'Jan', 'Jul', 'Jun', 'Mar', 'May', 'Nov', 'Oct', 'Sep'                                                                                                                                                                                                           "
      ]
     },
     "metadata": {},
     "output_type": "display_data"
    }
   ],
   "source": [
    "schema = tfdv.infer_schema(statistics=stats)\n",
    "tfdv.display_schema(schema=schema)"
   ]
  },
  {
   "cell_type": "markdown",
   "metadata": {},
   "source": [
    "### Fix and save the schema\n",
    "\n",
    "You can manually alter the schema before you save it. For example:\n",
    "* Set the maximum fraction of missing values allowed in a feature.\n",
    "* Add values to a categorical feature domain.\n",
    "* Set minimum fraction of values that must come from the domain .\n",
    "* Change the min and max allowed values to a numeric feauture domain.\n",
    "* Set a drift comparator."
   ]
  },
  {
   "cell_type": "code",
   "execution_count": 22,
   "metadata": {},
   "outputs": [
    {
     "name": "stderr",
     "output_type": "stream",
     "text": [
      "WARNING:root:Replacing existing domain of feature \"departure_delay\".\n"
     ]
    }
   ],
   "source": [
    "from tensorflow_metadata.proto.v0 import schema_pb2\n",
    "\n",
    "# Allow no missing values\n",
    "tfdv.get_feature(schema, 'airline').presence.min_fraction = 1.0 \n",
    "\n",
    "# Only allow 10% of the values to be new\n",
    "tfdv.get_feature(schema, 'departure_airport').distribution_constraints.min_domain_mass = 0.9 \n",
    "\n",
    "domain = tfdv.utils.schema_util.schema_pb2.FloatDomain(\n",
    "    min=-60, # a flight can departure 1 hour earlier\n",
    "    max=480 # maximum departure delay is 8 hours, otherwise the flight is cancelled.\n",
    ")\n",
    "tfdv.set_domain(schema, 'departure_delay', domain)\n",
    "\n",
    "tfdv.get_feature(schema, 'flight_month').drift_comparator.infinity_norm.threshold = 0.01"
   ]
  },
  {
   "cell_type": "code",
   "execution_count": 23,
   "metadata": {},
   "outputs": [
    {
     "name": "stdout",
     "output_type": "stream",
     "text": [
      "Schema file saved to:./tfdv/schema/schema.pb\n"
     ]
    }
   ],
   "source": [
    "from tensorflow.python.lib.io import file_io\n",
    "from google.protobuf import text_format\n",
    "\n",
    "tf.gfile.MkDir(dirname=SCHEMA_DIR)\n",
    "schema_location = os.path.join(SCHEMA_DIR, 'schema.pb')\n",
    "tfdv.write_schema_text(schema, schema_location)\n",
    "print(\"Schema file saved to:{}\".format(schema_location))"
   ]
  },
  {
   "cell_type": "markdown",
   "metadata": {},
   "source": [
    "You can list saved schema file..."
   ]
  },
  {
   "cell_type": "code",
   "execution_count": 24,
   "metadata": {},
   "outputs": [
    {
     "name": "stdout",
     "output_type": "stream",
     "text": [
      "./tfdv/schema/schema.pb\r\n"
     ]
    }
   ],
   "source": [
    "!ls {schema_location}\n",
    "#!gsuitl ls {schema_location}"
   ]
  },
  {
   "cell_type": "markdown",
   "metadata": {},
   "source": [
    "## 5. Extract New Data\n",
    "\n",
    "In this step, we are going to extract new data from BigQuery and store it to GCS is TFRecord files. This will be flights data in **2012**, however, we are going to introduce the following alternation in the data schema and content to demonstrate types of anomalies to be detected via TFDV:\n",
    "1. Skip February data\n",
    "2. Introduce missing values to **airline**\n",
    "3. Add **is_weekend** column\n",
    "4. Convert the time slot (12:00am - 6:00am) to two time slots: (12:00am - 3:00am), (3:00am - 6:00am)\n",
    "5. Change the **departure_delay** values from minutes to seconds"
   ]
  },
  {
   "cell_type": "markdown",
   "metadata": {},
   "source": [
    "### Implementing the \"altered\" source query"
   ]
  },
  {
   "cell_type": "code",
   "execution_count": 25,
   "metadata": {},
   "outputs": [],
   "source": [
    "def generate_altered_query(date_from=None, date_to=None, limit=None):\n",
    "    query =\"\"\"\n",
    "        SELECT * FROM (\n",
    "            SELECT \n",
    "              CAST(date AS DATE) AS flight_date, \n",
    "              FORMAT_DATE('%b',  CAST(date AS DATE)) AS flight_month, \n",
    "              EXTRACT(DAY FROM CAST(date AS DATE)) AS flight_day, \n",
    "              FORMAT_DATE('%a',  CAST(date AS DATE)) AS flight_day_of_week, \n",
    "              CASE WHEN EXTRACT(DAYOFWEEK FROM CAST(date AS DATE)) IN (1 , 7) THEN 'Yes' ELSE 'No' END AS is_weekend,\n",
    "              CASE WHEN airline = 'MQ' THEN NULL ELSE airline END airline,\n",
    "              departure_airport,\n",
    "              arrival_airport,\n",
    "              CAST(SUBSTR(LPAD(CAST(departure_schedule AS STRING), 4, '0'), 0, 2) AS INT64) AS departure_schedule_hour, \n",
    "              CAST(SUBSTR(LPAD(CAST(departure_schedule AS STRING), 4, '0'), 3, 2) AS INT64) AS departure_schedule_minute, \n",
    "              CASE \n",
    "                WHEN departure_schedule BETWEEN 600 AND 900 THEN '[6:00am - 9:00am]'\n",
    "                WHEN departure_schedule BETWEEN 900 AND 1200 THEN '[9:00am - 12:pm]'\n",
    "                WHEN departure_schedule BETWEEN 1200 AND 1500 THEN '[12:00pm - 3:00pm]'\n",
    "                WHEN departure_schedule BETWEEN 1500 AND 1800 THEN '[3:00pm - 6:00pm]'\n",
    "                WHEN departure_schedule BETWEEN 1800 AND 2100 THEN '[6:00pm - 9:00pm]'\n",
    "                WHEN departure_schedule BETWEEN 2100 AND 2400 THEN '[9:00pm - 12:00am]'\n",
    "                WHEN departure_schedule BETWEEN 0000 AND 300 THEN '[12:00am - 3:00am]'\n",
    "                ELSE '[3:00am - 6:00am]'\n",
    "              END AS departure_time_slot,\n",
    "              departure_delay * 60 AS departure_delay,\n",
    "              arrival_delay\n",
    "            FROM \n",
    "              `bigquery-samples.airline_ontime_data.flights`\n",
    "            WHERE \n",
    "              EXTRACT(MONTH FROM CAST(date AS DATE)) != 2\n",
    "        )\n",
    "        \"\"\"\n",
    "    if date_from:\n",
    "        query += \"WHERE flight_date >= CAST('{}' as DATE) \\n\".format(date_from)\n",
    "        if date_to:\n",
    "            query += \"AND flight_date < CAST('{}' as DATE) \\n\".format(date_to)\n",
    "    elif date_to:\n",
    "        query += \"WHERE flight_date < CAST('{}' as DATE) \\n\".format(date_to)\n",
    "    \n",
    "    if limit:\n",
    "        query  += \"LIMIT {}\".format(limit)\n",
    "        \n",
    "    return query"
   ]
  },
  {
   "cell_type": "markdown",
   "metadata": {},
   "source": [
    "You can run the following cell to see a sample of the data to be extracted..."
   ]
  },
  {
   "cell_type": "code",
   "execution_count": null,
   "metadata": {},
   "outputs": [],
   "source": [
    "%%bigquery\n",
    "\n",
    "SELECT \n",
    "    CAST(date AS DATE) AS flight_date, \n",
    "    FORMAT_DATE('%b',  CAST(date AS DATE)) AS flight_month, \n",
    "    EXTRACT(DAY FROM CAST(date AS DATE)) AS flight_day, \n",
    "    FORMAT_DATE('%a',  CAST(date AS DATE)) AS flight_day_of_week, \n",
    "    CASE WHEN EXTRACT(DAYOFWEEK FROM CAST(date AS DATE)) IN (1 , 7) THEN 'Yes' ELSE 'No' END AS is_weekend,\n",
    "    CASE WHEN airline = 'MQ' THEN NULL ELSE airline END airline,\n",
    "    departure_airport,\n",
    "    arrival_airport,\n",
    "    CAST(SUBSTR(LPAD(CAST(departure_schedule AS STRING), 4, '0'), 0, 2) AS INT64) AS departure_schedule_hour, \n",
    "    CAST(SUBSTR(LPAD(CAST(departure_schedule AS STRING), 4, '0'), 3, 2) AS INT64) AS departure_schedule_minute, \n",
    "    CASE \n",
    "        WHEN departure_schedule BETWEEN 600 AND 900 THEN '[6:00am - 9:00am]'\n",
    "        WHEN departure_schedule BETWEEN 900 AND 1200 THEN '[9:00am - 12:pm]'\n",
    "        WHEN departure_schedule BETWEEN 1200 AND 1500 THEN '[12:00pm - 3:00pm]'\n",
    "        WHEN departure_schedule BETWEEN 1500 AND 1800 THEN '[3:00pm - 6:00pm]'\n",
    "        WHEN departure_schedule BETWEEN 1800 AND 2100 THEN '[6:00pm - 9:00pm]'\n",
    "        WHEN departure_schedule BETWEEN 2100 AND 2400 THEN '[9:00pm - 12:00am]'\n",
    "        WHEN departure_schedule BETWEEN 0000 AND 300 THEN '[12:00am - 3:00am]'\n",
    "        ELSE '[3:00am - 6:00am]'\n",
    "    END AS departure_time_slot,\n",
    "    departure_delay * 60 AS departure_delay,\n",
    "    arrival_delay\n",
    "FROM \n",
    "    `bigquery-samples.airline_ontime_data.flights`\n",
    "WHERE \n",
    "    EXTRACT(MONTH FROM CAST(date AS DATE)) != 2\n",
    "LIMIT 5"
   ]
  },
  {
   "cell_type": "markdown",
   "metadata": {},
   "source": [
    "### Run the pipeline"
   ]
  },
  {
   "cell_type": "code",
   "execution_count": 26,
   "metadata": {},
   "outputs": [
    {
     "name": "stdout",
     "output_type": "stream",
     "text": [
      "Data will be extracted to: ./tfdv/data/20120101-20121231/\n",
      "Generating altered source query...\n",
      "Retrieving data type...\n",
      "Pipeline args are set.\n"
     ]
    }
   ],
   "source": [
    "runner = 'DirectRunner' if LOCAL else 'DataflowRunner'\n",
    "job_name = 'tfdv-flights-data-extraction-{}'.format(datetime.utcnow().strftime('%y%m%d-%H%M%S'))\n",
    "date_from =  '2012-01-01'\n",
    "date_to = '2012-12-31'\n",
    "data_location = os.path.join(DATA_DIR, \n",
    "        \"{}-{}/\".format(date_from.replace('-',''), date_to.replace('-','')))\n",
    "print(\"Data will be extracted to: {}\".format(data_location))\n",
    "\n",
    "print(\"Generating altered source query...\")\n",
    "limit = 100000 if LOCAL else None\n",
    "source_query = generate_query(date_from, date_to, limit)\n",
    "\n",
    "print(\"Retrieving data type...\")\n",
    "type_map = get_type_map(source_query)\n",
    "\n",
    "args = {\n",
    "    'job_name': job_name,\n",
    "    'runner': runner,\n",
    "    'source_query': source_query,\n",
    "    'type_map': type_map,\n",
    "    'sink_data_location': data_location,\n",
    "    'project': PROJECT_ID,\n",
    "    'region': REGION,\n",
    "    'staging_location': STAGING_DIR,\n",
    "    'temp_location': TEMP_DIR,\n",
    "    'save_main_session': True,\n",
    "    'setup_file': './setup.py'\n",
    "}\n",
    "print(\"Pipeline args are set.\")"
   ]
  },
  {
   "cell_type": "code",
   "execution_count": 27,
   "metadata": {},
   "outputs": [
    {
     "name": "stdout",
     "output_type": "stream",
     "text": [
      "Running data extraction pipeline...\n",
      "GoogleCloudOptions(dataflow_endpoint=https://dataflow.googleapis.com, job_name=tfdv-flights-data-extraction-190908-143255, labels=None, no_auth=False, project=validateflow, region=europe-west1, service_account_email=None, staging_location=./tfdv/job/staging/, temp_location=./tfdv/job/temp/, template_location=None)\n"
     ]
    },
    {
     "name": "stderr",
     "output_type": "stream",
     "text": [
      "WARNING:root:Dataset validateflow:temp_dataset_c5a408a366dd426da5e16add56c330fe does not exist so we will create it as temporary with location=US\n"
     ]
    },
    {
     "name": "stdout",
     "output_type": "stream",
     "text": [
      "Pipeline is done.\n"
     ]
    }
   ],
   "source": [
    "print(\"Running data extraction pipeline...\")\n",
    "run_pipeline(args)\n",
    "print(\"Pipeline is done.\")"
   ]
  },
  {
   "cell_type": "markdown",
   "metadata": {},
   "source": [
    "You can list the extracted data files..."
   ]
  },
  {
   "cell_type": "code",
   "execution_count": 28,
   "metadata": {},
   "outputs": [
    {
     "name": "stdout",
     "output_type": "stream",
     "text": [
      "./tfdv/data//20100101-20111231:\r\n",
      "extract-00000-of-00100.tfrecords extract-00050-of-00100.tfrecords\r\n",
      "extract-00001-of-00100.tfrecords extract-00051-of-00100.tfrecords\r\n",
      "extract-00002-of-00100.tfrecords extract-00052-of-00100.tfrecords\r\n",
      "extract-00003-of-00100.tfrecords extract-00053-of-00100.tfrecords\r\n",
      "extract-00004-of-00100.tfrecords extract-00054-of-00100.tfrecords\r\n",
      "extract-00005-of-00100.tfrecords extract-00055-of-00100.tfrecords\r\n",
      "extract-00006-of-00100.tfrecords extract-00056-of-00100.tfrecords\r\n",
      "extract-00007-of-00100.tfrecords extract-00057-of-00100.tfrecords\r\n",
      "extract-00008-of-00100.tfrecords extract-00058-of-00100.tfrecords\r\n",
      "extract-00009-of-00100.tfrecords extract-00059-of-00100.tfrecords\r\n",
      "extract-00010-of-00100.tfrecords extract-00060-of-00100.tfrecords\r\n",
      "extract-00011-of-00100.tfrecords extract-00061-of-00100.tfrecords\r\n",
      "extract-00012-of-00100.tfrecords extract-00062-of-00100.tfrecords\r\n",
      "extract-00013-of-00100.tfrecords extract-00063-of-00100.tfrecords\r\n",
      "extract-00014-of-00100.tfrecords extract-00064-of-00100.tfrecords\r\n",
      "extract-00015-of-00100.tfrecords extract-00065-of-00100.tfrecords\r\n",
      "extract-00016-of-00100.tfrecords extract-00066-of-00100.tfrecords\r\n",
      "extract-00017-of-00100.tfrecords extract-00067-of-00100.tfrecords\r\n",
      "extract-00018-of-00100.tfrecords extract-00068-of-00100.tfrecords\r\n",
      "extract-00019-of-00100.tfrecords extract-00069-of-00100.tfrecords\r\n",
      "extract-00020-of-00100.tfrecords extract-00070-of-00100.tfrecords\r\n",
      "extract-00021-of-00100.tfrecords extract-00071-of-00100.tfrecords\r\n",
      "extract-00022-of-00100.tfrecords extract-00072-of-00100.tfrecords\r\n",
      "extract-00023-of-00100.tfrecords extract-00073-of-00100.tfrecords\r\n",
      "extract-00024-of-00100.tfrecords extract-00074-of-00100.tfrecords\r\n",
      "extract-00025-of-00100.tfrecords extract-00075-of-00100.tfrecords\r\n",
      "extract-00026-of-00100.tfrecords extract-00076-of-00100.tfrecords\r\n",
      "extract-00027-of-00100.tfrecords extract-00077-of-00100.tfrecords\r\n",
      "extract-00028-of-00100.tfrecords extract-00078-of-00100.tfrecords\r\n",
      "extract-00029-of-00100.tfrecords extract-00079-of-00100.tfrecords\r\n",
      "extract-00030-of-00100.tfrecords extract-00080-of-00100.tfrecords\r\n",
      "extract-00031-of-00100.tfrecords extract-00081-of-00100.tfrecords\r\n",
      "extract-00032-of-00100.tfrecords extract-00082-of-00100.tfrecords\r\n",
      "extract-00033-of-00100.tfrecords extract-00083-of-00100.tfrecords\r\n",
      "extract-00034-of-00100.tfrecords extract-00084-of-00100.tfrecords\r\n",
      "extract-00035-of-00100.tfrecords extract-00085-of-00100.tfrecords\r\n",
      "extract-00036-of-00100.tfrecords extract-00086-of-00100.tfrecords\r\n",
      "extract-00037-of-00100.tfrecords extract-00087-of-00100.tfrecords\r\n",
      "extract-00038-of-00100.tfrecords extract-00088-of-00100.tfrecords\r\n",
      "extract-00039-of-00100.tfrecords extract-00089-of-00100.tfrecords\r\n",
      "extract-00040-of-00100.tfrecords extract-00090-of-00100.tfrecords\r\n",
      "extract-00041-of-00100.tfrecords extract-00091-of-00100.tfrecords\r\n",
      "extract-00042-of-00100.tfrecords extract-00092-of-00100.tfrecords\r\n",
      "extract-00043-of-00100.tfrecords extract-00093-of-00100.tfrecords\r\n",
      "extract-00044-of-00100.tfrecords extract-00094-of-00100.tfrecords\r\n",
      "extract-00045-of-00100.tfrecords extract-00095-of-00100.tfrecords\r\n",
      "extract-00046-of-00100.tfrecords extract-00096-of-00100.tfrecords\r\n",
      "extract-00047-of-00100.tfrecords extract-00097-of-00100.tfrecords\r\n",
      "extract-00048-of-00100.tfrecords extract-00098-of-00100.tfrecords\r\n",
      "extract-00049-of-00100.tfrecords extract-00099-of-00100.tfrecords\r\n",
      "\r\n",
      "./tfdv/data//20120101-20121231:\r\n",
      "extract-00000-of-00100.tfrecords extract-00050-of-00100.tfrecords\r\n",
      "extract-00001-of-00100.tfrecords extract-00051-of-00100.tfrecords\r\n",
      "extract-00002-of-00100.tfrecords extract-00052-of-00100.tfrecords\r\n",
      "extract-00003-of-00100.tfrecords extract-00053-of-00100.tfrecords\r\n",
      "extract-00004-of-00100.tfrecords extract-00054-of-00100.tfrecords\r\n",
      "extract-00005-of-00100.tfrecords extract-00055-of-00100.tfrecords\r\n",
      "extract-00006-of-00100.tfrecords extract-00056-of-00100.tfrecords\r\n",
      "extract-00007-of-00100.tfrecords extract-00057-of-00100.tfrecords\r\n",
      "extract-00008-of-00100.tfrecords extract-00058-of-00100.tfrecords\r\n",
      "extract-00009-of-00100.tfrecords extract-00059-of-00100.tfrecords\r\n",
      "extract-00010-of-00100.tfrecords extract-00060-of-00100.tfrecords\r\n",
      "extract-00011-of-00100.tfrecords extract-00061-of-00100.tfrecords\r\n",
      "extract-00012-of-00100.tfrecords extract-00062-of-00100.tfrecords\r\n",
      "extract-00013-of-00100.tfrecords extract-00063-of-00100.tfrecords\r\n",
      "extract-00014-of-00100.tfrecords extract-00064-of-00100.tfrecords\r\n",
      "extract-00015-of-00100.tfrecords extract-00065-of-00100.tfrecords\r\n",
      "extract-00016-of-00100.tfrecords extract-00066-of-00100.tfrecords\r\n",
      "extract-00017-of-00100.tfrecords extract-00067-of-00100.tfrecords\r\n",
      "extract-00018-of-00100.tfrecords extract-00068-of-00100.tfrecords\r\n",
      "extract-00019-of-00100.tfrecords extract-00069-of-00100.tfrecords\r\n",
      "extract-00020-of-00100.tfrecords extract-00070-of-00100.tfrecords\r\n",
      "extract-00021-of-00100.tfrecords extract-00071-of-00100.tfrecords\r\n",
      "extract-00022-of-00100.tfrecords extract-00072-of-00100.tfrecords\r\n",
      "extract-00023-of-00100.tfrecords extract-00073-of-00100.tfrecords\r\n",
      "extract-00024-of-00100.tfrecords extract-00074-of-00100.tfrecords\r\n",
      "extract-00025-of-00100.tfrecords extract-00075-of-00100.tfrecords\r\n",
      "extract-00026-of-00100.tfrecords extract-00076-of-00100.tfrecords\r\n",
      "extract-00027-of-00100.tfrecords extract-00077-of-00100.tfrecords\r\n",
      "extract-00028-of-00100.tfrecords extract-00078-of-00100.tfrecords\r\n",
      "extract-00029-of-00100.tfrecords extract-00079-of-00100.tfrecords\r\n",
      "extract-00030-of-00100.tfrecords extract-00080-of-00100.tfrecords\r\n",
      "extract-00031-of-00100.tfrecords extract-00081-of-00100.tfrecords\r\n",
      "extract-00032-of-00100.tfrecords extract-00082-of-00100.tfrecords\r\n",
      "extract-00033-of-00100.tfrecords extract-00083-of-00100.tfrecords\r\n",
      "extract-00034-of-00100.tfrecords extract-00084-of-00100.tfrecords\r\n",
      "extract-00035-of-00100.tfrecords extract-00085-of-00100.tfrecords\r\n",
      "extract-00036-of-00100.tfrecords extract-00086-of-00100.tfrecords\r\n",
      "extract-00037-of-00100.tfrecords extract-00087-of-00100.tfrecords\r\n",
      "extract-00038-of-00100.tfrecords extract-00088-of-00100.tfrecords\r\n",
      "extract-00039-of-00100.tfrecords extract-00089-of-00100.tfrecords\r\n",
      "extract-00040-of-00100.tfrecords extract-00090-of-00100.tfrecords\r\n",
      "extract-00041-of-00100.tfrecords extract-00091-of-00100.tfrecords\r\n",
      "extract-00042-of-00100.tfrecords extract-00092-of-00100.tfrecords\r\n",
      "extract-00043-of-00100.tfrecords extract-00093-of-00100.tfrecords\r\n",
      "extract-00044-of-00100.tfrecords extract-00094-of-00100.tfrecords\r\n",
      "extract-00045-of-00100.tfrecords extract-00095-of-00100.tfrecords\r\n",
      "extract-00046-of-00100.tfrecords extract-00096-of-00100.tfrecords\r\n",
      "extract-00047-of-00100.tfrecords extract-00097-of-00100.tfrecords\r\n",
      "extract-00048-of-00100.tfrecords extract-00098-of-00100.tfrecords\r\n",
      "extract-00049-of-00100.tfrecords extract-00099-of-00100.tfrecords\r\n"
     ]
    }
   ],
   "source": [
    "#!gsutil ls {DATA_DIR}/*\n",
    "!ls {DATA_DIR}/*"
   ]
  },
  {
   "cell_type": "markdown",
   "metadata": {},
   "source": [
    "### Generate statistics for the new data"
   ]
  },
  {
   "cell_type": "code",
   "execution_count": 30,
   "metadata": {},
   "outputs": [
    {
     "name": "stdout",
     "output_type": "stream",
     "text": [
      "GoogleCloudOptions(dataflow_endpoint=https://dataflow.googleapis.com, job_name=tfdv-flights-stats-gen-190908-144011, labels=None, no_auth=False, project=validateflow, region=europe-west1, service_account_email=None, staging_location=./tfdv/job/staging/, temp_location=./tfdv/job/temp/, template_location=None)\n",
      "Computing statistics...\n",
      "Statistics are computed and saved to: ./tfdv/stats/new_stats.pb\n"
     ]
    }
   ],
   "source": [
    "job_name = 'tfdv-flights-stats-gen-{}'.format(datetime.utcnow().strftime('%y%m%d-%H%M%S'))\n",
    "args['job_name'] = job_name\n",
    "new_stats_location = os.path.join(STATS_DIR, 'new_stats.pb')\n",
    "\n",
    "pipeline_options = beam.options.pipeline_options.GoogleCloudOptions(**args)\n",
    "print(pipeline_options)\n",
    "\n",
    "print(\"Computing statistics...\")\n",
    "_ = tfdv.generate_statistics_from_tfrecord(\n",
    "    data_location=data_location, \n",
    "    output_path=new_stats_location,\n",
    "    stats_options=tfdv.StatsOptions(\n",
    "        sample_rate=.5\n",
    "    ),\n",
    "    pipeline_options = pipeline_options\n",
    ")\n",
    "\n",
    "print(\"Statistics are computed and saved to: {}\".format(new_stats_location))"
   ]
  },
  {
   "cell_type": "markdown",
   "metadata": {},
   "source": [
    "## 6. Validate the New Data and Identify Anomalies\n",
    "In this step, we are going to use the generated schema to validate the newly extracted data to identify if the data complies with the schema, or if there are any anomalies to be handled."
   ]
  },
  {
   "cell_type": "markdown",
   "metadata": {},
   "source": [
    "### Load Schema"
   ]
  },
  {
   "cell_type": "code",
   "execution_count": 31,
   "metadata": {},
   "outputs": [],
   "source": [
    "schema = tfdv.utils.schema_util.load_schema_text(schema_location)"
   ]
  },
  {
   "cell_type": "markdown",
   "metadata": {},
   "source": [
    "### Load data statistics"
   ]
  },
  {
   "cell_type": "code",
   "execution_count": 32,
   "metadata": {},
   "outputs": [],
   "source": [
    "stats = tfdv.load_statistics(stats_location)\n",
    "new_stats = tfdv.load_statistics(new_stats_location)"
   ]
  },
  {
   "cell_type": "markdown",
   "metadata": {},
   "source": [
    "### Validate new statistics against schema "
   ]
  },
  {
   "cell_type": "code",
   "execution_count": 33,
   "metadata": {},
   "outputs": [],
   "source": [
    "anomalies = tfdv.validate_statistics(\n",
    "    statistics=new_stats, \n",
    "    schema=schema,\n",
    "    previous_statistics=stats\n",
    ")"
   ]
  },
  {
   "cell_type": "markdown",
   "metadata": {},
   "source": [
    "### Display anomalies (if any)"
   ]
  },
  {
   "cell_type": "code",
   "execution_count": 34,
   "metadata": {},
   "outputs": [
    {
     "data": {
      "text/html": [
       "<div>\n",
       "<style scoped>\n",
       "    .dataframe tbody tr th:only-of-type {\n",
       "        vertical-align: middle;\n",
       "    }\n",
       "\n",
       "    .dataframe tbody tr th {\n",
       "        vertical-align: top;\n",
       "    }\n",
       "\n",
       "    .dataframe thead th {\n",
       "        text-align: right;\n",
       "    }\n",
       "</style>\n",
       "<table border=\"1\" class=\"dataframe\">\n",
       "  <thead>\n",
       "    <tr style=\"text-align: right;\">\n",
       "      <th></th>\n",
       "      <th>Anomaly short description</th>\n",
       "      <th>Anomaly long description</th>\n",
       "    </tr>\n",
       "    <tr>\n",
       "      <th>Feature name</th>\n",
       "      <th></th>\n",
       "      <th></th>\n",
       "    </tr>\n",
       "  </thead>\n",
       "  <tbody>\n",
       "    <tr>\n",
       "      <th>'airline'</th>\n",
       "      <td>Unexpected string values</td>\n",
       "      <td>Examples contain values missing from the schema: US (~2%), YV (&lt;1%).</td>\n",
       "    </tr>\n",
       "    <tr>\n",
       "      <th>'arrival_airport'</th>\n",
       "      <td>Unexpected string values</td>\n",
       "      <td>Examples contain values missing from the schema: HOU (~7%), ISP (~4%), LAW (~1%), LBB (~5%), LGA (~58%), LSE (&lt;1%), MAF (~5%), MDW (~16%).</td>\n",
       "    </tr>\n",
       "    <tr>\n",
       "      <th>'departure_airport'</th>\n",
       "      <td>Unexpected string values</td>\n",
       "      <td>Examples contain values missing from the schema: BGR (&lt;1%), BNA (~1%), BUF (&lt;1%), BWI (~3%), CAK (&lt;1%), CHS (&lt;1%), CLT (~3%), CRW (&lt;1%), EGE (&lt;1%), EYW (&lt;1%), GSO (&lt;1%), IAD (~2%), IAH (~5%), JAN (&lt;1%), JAX (&lt;1%), JFK (&lt;1%), LAS (&lt;1%), LAX (&lt;1%), LGA (&lt;1%), MCI (&lt;1%), MCO (~3%), MDW (~1%), MIA (~2%), MKE (~1%), MSP (~4%), MSY (~2%), OAK (&lt;1%), OKC (&lt;1%), OMA (&lt;1%), ONT (&lt;1%), ORD (~5%), PBI (~1%), PDX (&lt;1%), PHF (&lt;1%), PHL (&lt;1%), PHX (~1%), PWM (&lt;1%), RDU (~2%), RIC (&lt;1%), RNO (&lt;1%), ROC (&lt;1%), RSW (&lt;1%), SAN (&lt;1%), SFO (&lt;1%), SJC (&lt;1%), SLC (&lt;1%), SRQ (&lt;1%), STL (&lt;1%), SYR (&lt;1%), TVC (&lt;1%), XNA (&lt;1%).</td>\n",
       "    </tr>\n",
       "    <tr>\n",
       "      <th>'departure_delay'</th>\n",
       "      <td>Out-of-range values</td>\n",
       "      <td>Unexpectedly high value: 1011&gt;480(upto six significant digits)</td>\n",
       "    </tr>\n",
       "    <tr>\n",
       "      <th>'flight_month'</th>\n",
       "      <td>High Linfty distance between current and previous</td>\n",
       "      <td>The Linfty distance between current and previous is 0.0832108 (up to six significant digits), above the threshold 0.01. The feature value with maximum difference is: Oct</td>\n",
       "    </tr>\n",
       "  </tbody>\n",
       "</table>\n",
       "</div>"
      ],
      "text/plain": [
       "                                             Anomaly short description  \\\n",
       "Feature name                                                             \n",
       "'airline'            Unexpected string values                            \n",
       "'arrival_airport'    Unexpected string values                            \n",
       "'departure_airport'  Unexpected string values                            \n",
       "'departure_delay'    Out-of-range values                                 \n",
       "'flight_month'       High Linfty distance between current and previous   \n",
       "\n",
       "                                                                                                                                                                                                                                                                                                                                                                                                                                                                                                                                                                                                                               Anomaly long description  \n",
       "Feature name                                                                                                                                                                                                                                                                                                                                                                                                                                                                                                                                                                                                                                             \n",
       "'airline'            Examples contain values missing from the schema: US (~2%), YV (<1%).                                                                                                                                                                                                                                                                                                                                                                                                                                                                                                                                                                \n",
       "'arrival_airport'    Examples contain values missing from the schema: HOU (~7%), ISP (~4%), LAW (~1%), LBB (~5%), LGA (~58%), LSE (<1%), MAF (~5%), MDW (~16%).                                                                                                                                                                                                                                                                                                                                                                                                                                                                                          \n",
       "'departure_airport'  Examples contain values missing from the schema: BGR (<1%), BNA (~1%), BUF (<1%), BWI (~3%), CAK (<1%), CHS (<1%), CLT (~3%), CRW (<1%), EGE (<1%), EYW (<1%), GSO (<1%), IAD (~2%), IAH (~5%), JAN (<1%), JAX (<1%), JFK (<1%), LAS (<1%), LAX (<1%), LGA (<1%), MCI (<1%), MCO (~3%), MDW (~1%), MIA (~2%), MKE (~1%), MSP (~4%), MSY (~2%), OAK (<1%), OKC (<1%), OMA (<1%), ONT (<1%), ORD (~5%), PBI (~1%), PDX (<1%), PHF (<1%), PHL (<1%), PHX (~1%), PWM (<1%), RDU (~2%), RIC (<1%), RNO (<1%), ROC (<1%), RSW (<1%), SAN (<1%), SFO (<1%), SJC (<1%), SLC (<1%), SRQ (<1%), STL (<1%), SYR (<1%), TVC (<1%), XNA (<1%).   \n",
       "'departure_delay'    Unexpectedly high value: 1011>480(upto six significant digits)                                                                                                                                                                                                                                                                                                                                                                                                                                                                                                                                                                      \n",
       "'flight_month'       The Linfty distance between current and previous is 0.0832108 (up to six significant digits), above the threshold 0.01. The feature value with maximum difference is: Oct                                                                                                                                                                                                                                                                                                                                                                                                                                                           "
      ]
     },
     "metadata": {},
     "output_type": "display_data"
    }
   ],
   "source": [
    "tfdv.display_anomalies(anomalies)"
   ]
  },
  {
   "cell_type": "markdown",
   "metadata": {},
   "source": [
    "To handling these anomalies depends on the type of each anomaly:\n",
    "* Some anomalies are handled by **fixing the data**. For example, filtering missing values, or making sure that the data source provides the expected values. Besides, convert the values to be in the expected range (from seconds to minutes)\n",
    "* Some anomalies are handles by **updating the schema**: For example, adding new values to categorical feature domains. \n",
    "* Some anomalies cannot be fixed, but **should trigger or stop a downstream process**. For example, detecting drift in flight_month, because February was missing, may lead to stopping the execution of a model training pipeline, one this particular period."
   ]
  },
  {
   "cell_type": "markdown",
   "metadata": {},
   "source": [
    "## License\n",
    "\n",
    "Authors: Khalid Salama and Eric Evn der Knaap\n",
    "\n",
    "---\n",
    "\n",
    "**Disclaimer**: This is not an official Google product. The sample code provided for an educational purpose.\n",
    "\n",
    "---\n",
    "\n",
    "Copyright 2019 Google LLC\n",
    "\n",
    "Licensed under the Apache License, Version 2.0 (the \"License\"); you may not use this file except in compliance with the License. You may obtain a copy of the License at http://www.apache.org/licenses/LICENSE-2.0.\n",
    "\n",
    "Unless required by applicable law or agreed to in writing, software distributed under the License is distributed on an \"AS IS\" BASIS, WITHOUT WARRANTIES OR CONDITIONS OF ANY KIND, either express or implied. See the License for the specific language governing permissions and limitations under the License."
   ]
  },
  {
   "cell_type": "code",
   "execution_count": null,
   "metadata": {},
   "outputs": [],
   "source": []
  }
 ],
 "metadata": {
  "kernelspec": {
   "display_name": "Python 2",
   "language": "python",
   "name": "python2"
  },
  "language_info": {
   "codemirror_mode": {
    "name": "ipython",
    "version": 2
   },
   "file_extension": ".py",
   "mimetype": "text/x-python",
   "name": "python",
   "nbconvert_exporter": "python",
   "pygments_lexer": "ipython2",
   "version": "2.7.10"
  }
 },
 "nbformat": 4,
 "nbformat_minor": 2
}
