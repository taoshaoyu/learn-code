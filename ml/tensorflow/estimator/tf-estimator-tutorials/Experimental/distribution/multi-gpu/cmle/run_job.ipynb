{
 "cells": [
  {
   "cell_type": "markdown",
   "metadata": {},
   "source": [
    "### Single host multi gpus (K80 * 8)"
   ]
  },
  {
   "cell_type": "code",
   "execution_count": 2,
   "metadata": {},
   "outputs": [
    {
     "name": "stdout",
     "output_type": "stream",
     "text": [
      "jobId: sample_model_20181221_112757\n",
      "state: QUEUED\n"
     ]
    },
    {
     "name": "stderr",
     "output_type": "stream",
     "text": [
      "Job [sample_model_20181221_112757] submitted successfully.\n",
      "Your job is still active. You may view the status of your job with the command\n",
      "\n",
      "  $ gcloud ml-engine jobs describe sample_model_20181221_112757\n",
      "\n",
      "or continue streaming the logs with the command\n",
      "\n",
      "  $ gcloud ml-engine jobs stream-logs sample_model_20181221_112757\n"
     ]
    }
   ],
   "source": [
    "%%bash\n",
    "\n",
    "PROJECT_ID=\"YOUR-PROJECT-ID\"\n",
    "BUCKET_ID=\"YOUR-BUCKET-ID\"\n",
    "REGION=\"YOUR-REGION\"\n",
    "\n",
    "TRAINER_PACKAGE_PATH=$(pwd)/project/trainer\n",
    "now=$(date +\"%Y%m%d_%H%M%S\")\n",
    "JOB_NAME=\"sample_model_$now\"\n",
    "MAIN_TRAINER_MODULE=trainer.task\n",
    "JOB_DIR=gs://$BUCKET_ID/job\n",
    "PACKAGE_STAGING_PATH=gs://$BUCKET_ID/staging\n",
    "#https://cloud.google.com/ml-engine/docs/tensorflow/regions\n",
    "\n",
    "\n",
    "JOB_DIR=gs://$BUCKET_ID/sample_model_job_dir\n",
    "SCALE_TIER=BASIC\n",
    "RUNTIME_VERSION=\"1.11\"\n",
    "# https://cloud.google.com/ml-engine/docs/tensorflow/runtime-version-list\n",
    "\n",
    "gcloud ml-engine jobs submit training $JOB_NAME \\\n",
    "  --package-path $TRAINER_PACKAGE_PATH \\\n",
    "  --module-name $MAIN_TRAINER_MODULE \\\n",
    "  --job-dir $JOB_DIR \\\n",
    "  --project $PROJECT_ID \\\n",
    "  --region $REGION \\\n",
    "  --runtime-version $RUNTIME_VERSION \\\n",
    "  --config config.yaml \\\n",
    "  -- \\\n",
    "  --train_data_pattern \"gs://$BUCKET_ID/data/cifar10_data_00*\" \\\n",
    "  --eval_data_pattern \"gs://$BUCKET_ID/data/cifar10_data_01*\" \\\n",
    "  --max_steps 10000 \\\n",
    "  --num_gpus 8 \\\n",
    "  --output_dir \"gs://$BUCKET_ID/model\""
   ]
  }
 ],
 "metadata": {
  "kernelspec": {
   "display_name": "Python 3",
   "language": "python",
   "name": "python3"
  },
  "language_info": {
   "codemirror_mode": {
    "name": "ipython",
    "version": 3
   },
   "file_extension": ".py",
   "mimetype": "text/x-python",
   "name": "python",
   "nbconvert_exporter": "python",
   "pygments_lexer": "ipython3",
   "version": "3.6.7"
  }
 },
 "nbformat": 4,
 "nbformat_minor": 2
}
